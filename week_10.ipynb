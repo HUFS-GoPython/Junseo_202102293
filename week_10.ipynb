{
 "cells": [
  {
   "cell_type": "code",
   "execution_count": 5,
   "id": "723fe728-eac6-43a8-9ef0-952379f41f31",
   "metadata": {},
   "outputs": [],
   "source": [
    "from collections import defaultdict"
   ]
  },
  {
   "cell_type": "markdown",
   "id": "cb637afc-5095-49f2-bea3-a3384e6acc33",
   "metadata": {},
   "source": [
    "### defaultdict\n",
    "- 값이 없으면 0으로 설정될 수 있게 해주는 딕셔너리\n",
    "- defaultdict[list] #list"
   ]
  },
  {
   "cell_type": "code",
   "execution_count": 2,
   "id": "beda78ed-3042-4009-b522-cd0ede0b9834",
   "metadata": {},
   "outputs": [],
   "source": [
    "letter = 'defaultdict'\n",
    "empty = {}\n",
    "for ch in letter:\n",
    "    # if empty[ch] = 0\n",
    "    # else 값을 넣어라\n",
    "    empty.setdefault(ch,0)\n",
    "    empty[ch] += 1"
   ]
  },
  {
   "cell_type": "code",
   "execution_count": 3,
   "id": "6c37a028-eb7d-4cba-a1e6-a683646ba287",
   "metadata": {},
   "outputs": [
    {
     "data": {
      "text/plain": [
       "{'d': 2, 'e': 1, 'f': 1, 'a': 1, 'u': 1, 'l': 1, 't': 2, 'i': 1, 'c': 1}"
      ]
     },
     "execution_count": 3,
     "metadata": {},
     "output_type": "execute_result"
    }
   ],
   "source": [
    "empty"
   ]
  },
  {
   "cell_type": "code",
   "execution_count": 7,
   "id": "039ce25d-f378-4735-9be5-fc1e0cd9db60",
   "metadata": {},
   "outputs": [
    {
     "data": {
      "text/plain": [
       "defaultdict(int,\n",
       "            {'d': 2,\n",
       "             'e': 1,\n",
       "             'f': 1,\n",
       "             'a': 1,\n",
       "             'u': 1,\n",
       "             'l': 1,\n",
       "             't': 2,\n",
       "             'i': 1,\n",
       "             'c': 1})"
      ]
     },
     "execution_count": 7,
     "metadata": {},
     "output_type": "execute_result"
    }
   ],
   "source": [
    "empty2= defaultdict(int)\n",
    "for ch in letter:\n",
    "    empty2[ch] += 1\n",
    "\n",
    "empty2"
   ]
  },
  {
   "cell_type": "markdown",
   "id": "cb81fefc-8b83-4a4e-a064-536688e77511",
   "metadata": {},
   "source": [
    "## ch.10 Object & Class\n",
    "- 객체? 실제적인 물건, 개념\n",
    "- 속성, 행동을 가지는 개념\n",
    "- 자동차\n",
    "     - 속성: 엔진, 브랜드, 가격, 색상, 이름 ... => 변수\n",
    "     - 행동: 나가다, 정지하다, 죄회전, 우회전 => 메서드(함수)\n",
    "- 고양이\n",
    "    - 속성: 종류, 이름, 컬러, 몸무게, 성별 ..\n",
    "    - 행동: 짖다, 뛰다, 걷다, 째려보다 ...\n",
    "- 사전\n",
    "    - 속성: 글자 수, 시작 글자, 출현 빈도수 ...\n",
    "    - 행동: 추가하다, 제의하다, ...\n",
    "- 관련 짓는 방법\n",
    "    - 사람            상점                             물건\n",
    "    - 이름, 돈,       재고, 이익, 고객명단,            브랜드, 이름, 가격\n",
    "    - 사다,           회원등록, 팔다, 수익계산          \n",
    "- 객체 사용하는 이유: 코드 재사용 수월    "
   ]
  },
  {
   "cell_type": "markdown",
   "id": "8a463dfb-e8df-4755-97ee-f5ac37fadab0",
   "metadata": {},
   "source": [
    "### 클래스\n",
    "- 객체가 가져야 할 기본 정보를 담은 코드\n",
    "- 설계도, 틀, 프레임워크\n",
    "- 붕어빵의 틀\n",
    "- 붕어빵 == 인스턴스\n",
    "- class Car:\n",
    "    - 클래스명은 카멜표기법을 쓴다.\n",
    "    "
   ]
  },
  {
   "cell_type": "code",
   "execution_count": 8,
   "id": "21b33a9a-9e26-485f-9877-b90aaef3a2e0",
   "metadata": {},
   "outputs": [
    {
     "data": {
      "text/plain": [
       "<__main__.Car at 0x1a231036640>"
      ]
     },
     "execution_count": 8,
     "metadata": {},
     "output_type": "execute_result"
    }
   ],
   "source": [
    "class Car:\n",
    "    pass\n",
    "\n",
    "# 선언\n",
    "car1 = Car()\n",
    "car1\n",
    "     "
   ]
  },
  {
   "cell_type": "code",
   "execution_count": 12,
   "id": "a2b81d2b-ee9c-4ab5-a585-c2d27104d36e",
   "metadata": {},
   "outputs": [],
   "source": [
    "car2 = Car()"
   ]
  },
  {
   "cell_type": "code",
   "execution_count": 14,
   "id": "0104dc50-050f-4725-bc76-a7aa578b10a8",
   "metadata": {},
   "outputs": [
    {
     "data": {
      "text/plain": [
       "<__main__.Car at 0x1a22fd32cd0>"
      ]
     },
     "execution_count": 14,
     "metadata": {},
     "output_type": "execute_result"
    }
   ],
   "source": [
    "car2"
   ]
  },
  {
   "cell_type": "code",
   "execution_count": 15,
   "id": "13f1402b-4333-43d2-9108-d9f3dc8d7c7d",
   "metadata": {},
   "outputs": [
    {
     "data": {
      "text/plain": [
       "__main__.Car"
      ]
     },
     "execution_count": 15,
     "metadata": {},
     "output_type": "execute_result"
    }
   ],
   "source": [
    "type(car2)"
   ]
  },
  {
   "cell_type": "code",
   "execution_count": 16,
   "id": "6dd88ecc-858f-44d1-b6d6-347623e42e87",
   "metadata": {},
   "outputs": [],
   "source": [
    "car1.brand = 'mercedes'\n",
    "car2.brand = 'kia'"
   ]
  },
  {
   "cell_type": "code",
   "execution_count": 17,
   "id": "8d9e817f-9fa5-4566-8bda-7861fdb29633",
   "metadata": {},
   "outputs": [
    {
     "name": "stdout",
     "output_type": "stream",
     "text": [
      "mercedes\n",
      "kia\n"
     ]
    }
   ],
   "source": [
    "for car in [car1, car2]:\n",
    "    print(car.brand)"
   ]
  },
  {
   "cell_type": "code",
   "execution_count": 18,
   "id": "e7babac9-4ccf-45a4-88c2-737cfcc8dd60",
   "metadata": {},
   "outputs": [],
   "source": [
    "class Car:\n",
    "    brand = 'mercedes'\n",
    "    \n",
    "car3 = Car()"
   ]
  },
  {
   "cell_type": "code",
   "execution_count": 20,
   "id": "3be71518-9943-49a0-a752-bb088f18205f",
   "metadata": {},
   "outputs": [
    {
     "data": {
      "text/plain": [
       "'mercedes'"
      ]
     },
     "execution_count": 20,
     "metadata": {},
     "output_type": "execute_result"
    }
   ],
   "source": [
    "car3.brand # 이미 브랜드명이 정해져 있음. "
   ]
  },
  {
   "cell_type": "code",
   "execution_count": 21,
   "id": "e2f18119-f421-423c-8d99-07d800b85aa6",
   "metadata": {},
   "outputs": [],
   "source": [
    "# 다양한 속성을 원한다.\n",
    "class Car:\n",
    "    def __init__(self, brand): # 속성을 초기화하는 함수, 안의 변수는 항상 'self' (self == my_car)\n",
    "        self.brand = brand # self == instance"
   ]
  },
  {
   "cell_type": "code",
   "execution_count": 26,
   "id": "9ac7d476-4914-4ecc-b61a-75a13b149af4",
   "metadata": {},
   "outputs": [
    {
     "ename": "TypeError",
     "evalue": "__init__() got an unexpected keyword argument 'brand'",
     "output_type": "error",
     "traceback": [
      "\u001b[1;31m---------------------------------------------------------------------------\u001b[0m",
      "\u001b[1;31mTypeError\u001b[0m                                 Traceback (most recent call last)",
      "Input \u001b[1;32mIn [26]\u001b[0m, in \u001b[0;36m<cell line: 1>\u001b[1;34m()\u001b[0m\n\u001b[1;32m----> 1\u001b[0m car4 \u001b[38;5;241m=\u001b[39m \u001b[43mCar\u001b[49m\u001b[43m(\u001b[49m\u001b[43mbrand\u001b[49m\u001b[43m \u001b[49m\u001b[38;5;241;43m=\u001b[39;49m\u001b[43m \u001b[49m\u001b[38;5;124;43m'\u001b[39;49m\u001b[38;5;124;43mtoyota\u001b[39;49m\u001b[38;5;124;43m'\u001b[39;49m\u001b[43m)\u001b[49m\n\u001b[0;32m      2\u001b[0m car4\u001b[38;5;241m.\u001b[39mbrand\n",
      "\u001b[1;31mTypeError\u001b[0m: __init__() got an unexpected keyword argument 'brand'"
     ]
    }
   ],
   "source": [
    "car4 = Car(brand = 'toyota')\n",
    "car4.brand"
   ]
  },
  {
   "cell_type": "code",
   "execution_count": 73,
   "id": "47d7f7f2-c603-4543-a95d-53d936124ab6",
   "metadata": {},
   "outputs": [],
   "source": [
    "# color, model 속성 초기화하기\n",
    "class Car:\n",
    "    def __init__(self, brand, color='orange', model=None ):\n",
    "        self.brand = brand \n",
    "        # self.brand = 어떤 객체가 만들어지더라도 가져갈 브랜드\n",
    "        # brand = 객체 생성 시 설정되는 브랜드명 (처음에 들어오는 값)\n",
    "        self.color = color\n",
    "        self.model = model\n",
    "        # model 기본적으로는 값을 안 받아도 되게 설정하기 (model = None)\n",
    "        \n",
    "    # action 정의하기\n",
    "    def drive(self):\n",
    "         # 내 차 (브랜드 = ())이 움직인다     \n",
    "        print(f'내차 {self.brand}이 움직인다.')\n",
    "        \n",
    "    def stop(self):\n",
    "        print('차가 멈춘다.')\n",
    "    \n",
    "    def change_color(self, color):\n",
    "        self.color = 'pink'\n",
    "        # 입력되는 컬러로 설정하기\n",
    "        self.color = color\n",
    "my_morning = Car('kia')\n",
    "# my_morning.change_color('blue')"
   ]
  },
  {
   "cell_type": "code",
   "execution_count": 74,
   "id": "68fdad75-9698-445d-a1b0-4a2f50dc5daf",
   "metadata": {},
   "outputs": [
    {
     "data": {
      "text/plain": [
       "'orange'"
      ]
     },
     "execution_count": 74,
     "metadata": {},
     "output_type": "execute_result"
    }
   ],
   "source": [
    "my_morning.color"
   ]
  },
  {
   "cell_type": "code",
   "execution_count": 45,
   "id": "9245edba-ec64-47ac-be32-c0e39cc1304a",
   "metadata": {},
   "outputs": [
    {
     "name": "stdout",
     "output_type": "stream",
     "text": [
      "차가 멈춘다.\n"
     ]
    }
   ],
   "source": [
    "my_morning.stop()"
   ]
  },
  {
   "cell_type": "code",
   "execution_count": 61,
   "id": "f1ec04af-6d36-4d1e-9160-32557f4d1e5c",
   "metadata": {},
   "outputs": [
    {
     "name": "stdout",
     "output_type": "stream",
     "text": [
      "내차 kia이 움직인다.\n"
     ]
    }
   ],
   "source": [
    "# 브랜드, 모델명 넣어서 출력\n",
    "my_morning.drive()"
   ]
  },
  {
   "cell_type": "code",
   "execution_count": 68,
   "id": "38b7dffd-10d3-4be2-99cc-28f768570355",
   "metadata": {},
   "outputs": [
    {
     "data": {
      "text/plain": [
       "'blue'"
      ]
     },
     "execution_count": 68,
     "metadata": {},
     "output_type": "execute_result"
    }
   ],
   "source": [
    "# 색깔 바꾸기\n",
    "my_morning.color"
   ]
  },
  {
   "cell_type": "markdown",
   "id": "232b6645",
   "metadata": {},
   "source": [
    "### 클래스를 사용하는 이유\n",
    "- 만든 코드가 데이터 저장뿐 아닌 변환, 데이터베이스에 저장할 역할 존재.\n",
    "- 리스트, 함수로 공유 -> 객체로 베포 시 더 손쉽게 사용 가능"
   ]
  },
  {
   "cell_type": "code",
   "execution_count": 2,
   "id": "7e297a00",
   "metadata": {},
   "outputs": [
    {
     "name": "stdout",
     "output_type": "stream",
     "text": [
      "[['messi', 'MF', 10], ['ronaldo', 'CF', 7], ['ramos', 'DF', 4], ['ramsdale', 'GK', 32], ['salah', 'WF', 11]]\n",
      "['messi', 'MF', 10]\n",
      "Hello, my name is messi. I play in MF in center.\n"
     ]
    }
   ],
   "source": [
    "# 데이터\n",
    "names = ['messi', 'ronaldo', 'ramos', 'ramsdale', 'salah']\n",
    "positions = ['MF', 'CF', 'DF', 'GK', 'WF'  ]\n",
    "numbers = [10, 7, 4, 32, 11]\n",
    "\n",
    "# 이차원 리스트\n",
    "players= [[names, positions, numbers] for names, positions, numbers in zip(names, positions, numbers)]\n",
    "print(players)\n",
    "print(players[0])\n",
    "\n",
    "# 전체 SoccerPlayer 코드\n",
    "class SoccerPlayer(object):\n",
    "    def __init__(self, name, position, back_number):\n",
    "        self.name = name\n",
    "        self.position = position\n",
    "        self.back_number = back_number\n",
    "    def change_back_number(self, new_number):\n",
    "        print('선수의 등번호를 변경: From %d to %d' %(self.back_number, new_number))\n",
    "        self.back_number = new_number\n",
    "    def __str__(self):\n",
    "        return 'Hello, my name is %s. I play in %s in center.' %(self.name, self.position)\n",
    "\n",
    "#클래스_인스턴스\n",
    "player_objects = [SoccerPlayer(name, position, number) for name, position, number in zip(names, positions, numbers)]\n",
    "print(player_objects[0])\n"
   ]
  },
  {
   "cell_type": "markdown",
   "id": "47f751d8-cc1b-4cdb-839d-ac16f75995ec",
   "metadata": {},
   "source": [
    "### getter, setter\n",
    "- 캡슐화, 정보 은닉\n",
    "- 클래스 외부에서 변수 접근을 용이하지 못하게 하는 것\n",
    "- public -> private (java)"
   ]
  },
  {
   "cell_type": "code",
   "execution_count": null,
   "id": "9fb0561c-b42d-4dfe-b67f-914c11aa521f",
   "metadata": {},
   "outputs": [],
   "source": [
    "#1. 틀에서 변수를 바꾸는 것\n",
    "#2. 인스턴스에서 변수를 바꾸는 것"
   ]
  },
  {
   "cell_type": "code",
   "execution_count": 78,
   "id": "63f935e2-c1f7-49b0-bf82-9df4578a868f",
   "metadata": {},
   "outputs": [],
   "source": [
    "class Fruit:\n",
    "    color = 'red'"
   ]
  },
  {
   "cell_type": "code",
   "execution_count": 79,
   "id": "05c9495f-360e-4307-adc8-c9c116c8b10d",
   "metadata": {},
   "outputs": [
    {
     "data": {
      "text/plain": [
       "'red'"
      ]
     },
     "execution_count": 79,
     "metadata": {},
     "output_type": "execute_result"
    }
   ],
   "source": [
    "apple = Fruit()\n",
    "apple.color"
   ]
  },
  {
   "cell_type": "code",
   "execution_count": 80,
   "id": "fd37b4cd-d225-4827-be9a-92ab83d0f76a",
   "metadata": {},
   "outputs": [],
   "source": [
    "Fruit.color = 'purple'"
   ]
  },
  {
   "cell_type": "code",
   "execution_count": 81,
   "id": "07268924-6d5f-4b77-901f-1f9fbeab8313",
   "metadata": {},
   "outputs": [
    {
     "data": {
      "text/plain": [
       "'purple'"
      ]
     },
     "execution_count": 81,
     "metadata": {},
     "output_type": "execute_result"
    }
   ],
   "source": [
    "orange = Fruit()\n",
    "orange.color"
   ]
  },
  {
   "cell_type": "code",
   "execution_count": 88,
   "id": "3faa045d-29ce-43d6-85e1-e8d18f4a1c8c",
   "metadata": {},
   "outputs": [],
   "source": [
    "class Car:\n",
    "    def __init__ (self, input_brand):\n",
    "        self.brand = input_brand\n",
    "    \n",
    "    def get_brand(self):\n",
    "        # 원래 변수명에 접근하도록, getter.\n",
    "        print('from the getter')\n",
    "        return self.brand\n",
    "    def set_brand(self, input_brand):\n",
    "        # 변수명을 바꾸는 작업, setter.\n",
    "        print('from the setter')\n",
    "        self.brand = input_brand"
   ]
  },
  {
   "cell_type": "code",
   "execution_count": 83,
   "id": "d34a9cca-fe0d-4d16-a401-a622912d7b8c",
   "metadata": {},
   "outputs": [
    {
     "data": {
      "text/plain": [
       "'toyota'"
      ]
     },
     "execution_count": 83,
     "metadata": {},
     "output_type": "execute_result"
    }
   ],
   "source": [
    "ex = Car('toyota')\n",
    "ex.brand"
   ]
  },
  {
   "cell_type": "code",
   "execution_count": 84,
   "id": "b8348c1a-2f18-4ec1-9cf0-bde4b9a89dac",
   "metadata": {},
   "outputs": [
    {
     "name": "stdout",
     "output_type": "stream",
     "text": [
      "from the getter\n"
     ]
    },
    {
     "data": {
      "text/plain": [
       "'toyota'"
      ]
     },
     "execution_count": 84,
     "metadata": {},
     "output_type": "execute_result"
    }
   ],
   "source": [
    "ex.get_brand()"
   ]
  },
  {
   "cell_type": "code",
   "execution_count": 86,
   "id": "50021d80-71fa-4f06-82c1-3bdcd2744a90",
   "metadata": {},
   "outputs": [
    {
     "name": "stdout",
     "output_type": "stream",
     "text": [
      "from the setter\n"
     ]
    }
   ],
   "source": [
    "ex.set_brand('mazuda')"
   ]
  },
  {
   "cell_type": "code",
   "execution_count": 87,
   "id": "8cb5e530-48a3-4399-8220-dba68bb751ae",
   "metadata": {},
   "outputs": [
    {
     "data": {
      "text/plain": [
       "'mazuda'"
      ]
     },
     "execution_count": 87,
     "metadata": {},
     "output_type": "execute_result"
    }
   ],
   "source": [
    "ex.brand"
   ]
  },
  {
   "cell_type": "code",
   "execution_count": null,
   "id": "40efc40e-7b4e-4aed-af25-518e8253dcc2",
   "metadata": {},
   "outputs": [],
   "source": [
    "Car.brand = 'bmw'"
   ]
  },
  {
   "cell_type": "code",
   "execution_count": 89,
   "id": "f0c2be59-a06f-4b61-bcee-8d6c45cdd2ce",
   "metadata": {},
   "outputs": [
    {
     "data": {
      "text/plain": [
       "'toyota'"
      ]
     },
     "execution_count": 89,
     "metadata": {},
     "output_type": "execute_result"
    }
   ],
   "source": [
    "a = Car('toyota')\n",
    "a.brand"
   ]
  },
  {
   "cell_type": "markdown",
   "id": "cc44cda4-b488-4968-9711-fb6d0971e08c",
   "metadata": {},
   "source": [
    "### 2."
   ]
  },
  {
   "cell_type": "code",
   "execution_count": 90,
   "id": "03acf98d-b1c3-4b13-95af-bad99c7990a8",
   "metadata": {},
   "outputs": [
    {
     "data": {
      "text/plain": [
       "'kia'"
      ]
     },
     "execution_count": 90,
     "metadata": {},
     "output_type": "execute_result"
    }
   ],
   "source": [
    "class Car:\n",
    "    def __init__(self, input_brand):\n",
    "        self.hidden_brand = input_brand\n",
    "    def get_brand(self):\n",
    "        return self.hidden_brand\n",
    "    \n",
    "    def set_brand(self, input_brand):\n",
    "        self.hidden_brand = input_brand\n",
    "    \n",
    "    brand = property(get_brand, set_brand)\n",
    "\n",
    "c = Car('kia')\n",
    "c.brand"
   ]
  },
  {
   "cell_type": "code",
   "execution_count": 91,
   "id": "c5c1e82a-a1fc-4b4a-a357-e3d1b40322ca",
   "metadata": {},
   "outputs": [],
   "source": [
    "c.brand = 'hyundai'"
   ]
  },
  {
   "cell_type": "code",
   "execution_count": 93,
   "id": "adbdf650-1938-4a3e-ae5a-c698b8f84a77",
   "metadata": {},
   "outputs": [],
   "source": [
    "Car.hidden_brand = 'toyota' "
   ]
  },
  {
   "cell_type": "code",
   "execution_count": 94,
   "id": "7485909b-6bdc-4c9e-8eab-332d84a8e45d",
   "metadata": {},
   "outputs": [],
   "source": [
    "c = Car('aa')"
   ]
  },
  {
   "cell_type": "markdown",
   "id": "95a91138-b978-44f6-9f50-3c61e6d224ea",
   "metadata": {},
   "source": [
    "### 3."
   ]
  },
  {
   "cell_type": "code",
   "execution_count": 95,
   "id": "3337da8f-c85e-45a9-8504-9d959d3d46d9",
   "metadata": {},
   "outputs": [
    {
     "data": {
      "text/plain": [
       "'aa'"
      ]
     },
     "execution_count": 95,
     "metadata": {},
     "output_type": "execute_result"
    }
   ],
   "source": [
    "# decorator: @ ...\n",
    "class Car:\n",
    "    def __init__(self, input_brand):\n",
    "        self.hidden_brand = input_brand\n",
    "    @property\n",
    "    def brand(self):\n",
    "        return self.hidden_brand\n",
    "    @brand.setter\n",
    "    def brand(self, input_brand):\n",
    "        self.hidden_brand = input_brand\n",
    "\n",
    "c = Car('aa')\n",
    "c.brand"
   ]
  },
  {
   "cell_type": "markdown",
   "id": "bb9e5cab-df5c-42d4-9a84-3ddf734f007a",
   "metadata": {},
   "source": [
    "#### 4."
   ]
  },
  {
   "cell_type": "code",
   "execution_count": 99,
   "id": "6e27e3d5-f4ba-42b2-99c9-566819e3f94d",
   "metadata": {},
   "outputs": [
    {
     "ename": "AttributeError",
     "evalue": "'Car' object has no attribute '__brand'",
     "output_type": "error",
     "traceback": [
      "\u001b[1;31m---------------------------------------------------------------------------\u001b[0m",
      "\u001b[1;31mAttributeError\u001b[0m                            Traceback (most recent call last)",
      "Input \u001b[1;32mIn [99]\u001b[0m, in \u001b[0;36m<cell line: 12>\u001b[1;34m()\u001b[0m\n\u001b[0;32m      9\u001b[0m         \u001b[38;5;28mself\u001b[39m\u001b[38;5;241m.\u001b[39m__brand \u001b[38;5;241m=\u001b[39m input_brand\n\u001b[0;32m     11\u001b[0m c \u001b[38;5;241m=\u001b[39m Car(\u001b[38;5;124m'\u001b[39m\u001b[38;5;124mbb\u001b[39m\u001b[38;5;124m'\u001b[39m)\n\u001b[1;32m---> 12\u001b[0m \u001b[43mc\u001b[49m\u001b[38;5;241;43m.\u001b[39;49m\u001b[43m__brand\u001b[49m\n",
      "\u001b[1;31mAttributeError\u001b[0m: 'Car' object has no attribute '__brand'"
     ]
    }
   ],
   "source": [
    "class Car:\n",
    "    def __init__(self, input_brand):\n",
    "        self.__brand = input_brand\n",
    "    @property\n",
    "    def brand(self):\n",
    "        return self.__brand\n",
    "    @brand.setter\n",
    "    def brand(self, input_brand):\n",
    "        self.__brand = input_brand\n",
    "        \n",
    "c = Car('bb')\n",
    "c.__brand"
   ]
  },
  {
   "cell_type": "code",
   "execution_count": 100,
   "id": "f191885a-50d1-4957-9ace-226a150d827a",
   "metadata": {},
   "outputs": [
    {
     "data": {
      "text/plain": [
       "'bb'"
      ]
     },
     "execution_count": 100,
     "metadata": {},
     "output_type": "execute_result"
    }
   ],
   "source": [
    "c.brand"
   ]
  },
  {
   "cell_type": "code",
   "execution_count": 101,
   "id": "df2493a1-9547-4536-8c80-e6c6be4914c3",
   "metadata": {},
   "outputs": [
    {
     "data": {
      "text/plain": [
       "14"
      ]
     },
     "execution_count": 101,
     "metadata": {},
     "output_type": "execute_result"
    }
   ],
   "source": [
    "class Circle:\n",
    "    def __init__(self, radius):\n",
    "        self.radius = radius\n",
    "        \n",
    "    @property\n",
    "    def diameter(self):\n",
    "        return self.radius * 2\n",
    "    \n",
    "c = Circle(7)\n",
    "c.diameter"
   ]
  },
  {
   "cell_type": "markdown",
   "id": "9c21ab14-b42d-4344-a56b-17f8a81ccf41",
   "metadata": {},
   "source": [
    "### 실습\n",
    "- 객체: 메모장(노트),                                메모\n",
    "- 변수: 제목, 페이지번호, 메모                        글귀\n",
    "- 메서드: 추가, 삭제, 페이지번호                      쓰기, 지우기\n",
    "\n",
    "- getter, setter 메모장 제목에 설정하기\n",
    "- '메모' 객체에 글귀를 추갛나다\n",
    "- '메모장' 객체에 메모 추가\n",
    "- 페이지번호가 늘어난다.\n",
    "- 메모를 삭제하면 페이지번호가 줄어들고\n",
    "- 페이지가 300을 넘으면 메모 추가 못하게\n",
    "- 페이지번호로 메모 찾기"
   ]
  },
  {
   "cell_type": "code",
   "execution_count": null,
   "id": "54aa30f4-35d2-492c-afc2-30a988b1b5bd",
   "metadata": {},
   "outputs": [],
   "source": [
    "class Notebook:\n",
    "    def add_note():\n",
    "        pass # 제목, 페이지번호, 메모 *** == Note (예)\n",
    "    \n",
    "    def add_note():\n",
    "        pass\n",
    "    \n",
    "    def get_page_num():\n",
    "        pass\n",
    "\n",
    "class Note:\n",
    "    def __init__(self):\n",
    "        pass # 글귀\n",
    "    \n",
    "    def write():\n",
    "        pass\n",
    "    \n",
    "    def erase():\n",
    "        pass"
   ]
  },
  {
   "cell_type": "code",
   "execution_count": null,
   "id": "cdf16f3d-0d0b-4f85-a212-d7d0aa6be97c",
   "metadata": {},
   "outputs": [],
   "source": [
    "memo1 = '꿈을 이루고자 하는 용기만 있다면 모든 꿈을 이룰 수 있다.'\n",
    "memo2 = '웃음이 없는 하루는 버린 하루다.'\n",
    "memo3 = '승리는 가장 끈기 있는 사람에게 돌아간다.'\n",
    "\n",
    "note1 = Note(memo1)\n",
    "note2 = Note(memo2)\n",
    "note3 = Note(memo3)\n",
    "\n",
    "# 잘 모르겠다... "
   ]
  }
 ],
 "metadata": {
  "kernelspec": {
   "display_name": "Python 3 (ipykernel)",
   "language": "python",
   "name": "python3"
  },
  "language_info": {
   "codemirror_mode": {
    "name": "ipython",
    "version": 3
   },
   "file_extension": ".py",
   "mimetype": "text/x-python",
   "name": "python",
   "nbconvert_exporter": "python",
   "pygments_lexer": "ipython3",
   "version": "3.9.7"
  }
 },
 "nbformat": 4,
 "nbformat_minor": 5
}
