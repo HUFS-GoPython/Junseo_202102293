{
 "cells": [
  {
   "cell_type": "markdown",
   "id": "14644c42-099c-47a1-8ca6-0ff3c5ecca2b",
   "metadata": {},
   "source": [
    "#### Ch02. Variables"
   ]
  },
  {
   "cell_type": "markdown",
   "id": "972bcce9-3dde-4f74-b1c7-0639694b9a5a",
   "metadata": {},
   "source": [
    "### 자료형 변환하기\n",
    "- int, str, float, bool"
   ]
  },
  {
   "cell_type": "code",
   "execution_count": 1,
   "id": "3ff33e03",
   "metadata": {},
   "outputs": [
    {
     "data": {
      "text/plain": [
       "int"
      ]
     },
     "execution_count": 1,
     "metadata": {},
     "output_type": "execute_result"
    }
   ],
   "source": [
    "a = 10\n",
    "type(a)"
   ]
  },
  {
   "cell_type": "code",
   "execution_count": 2,
   "id": "ba3030f5",
   "metadata": {},
   "outputs": [
    {
     "data": {
      "text/plain": [
       "10.0"
      ]
     },
     "execution_count": 2,
     "metadata": {},
     "output_type": "execute_result"
    }
   ],
   "source": [
    "# int -> float\n",
    "float(a)"
   ]
  },
  {
   "cell_type": "code",
   "execution_count": 4,
   "id": "e77e4881",
   "metadata": {},
   "outputs": [
    {
     "data": {
      "text/plain": [
       "'10'"
      ]
     },
     "execution_count": 4,
     "metadata": {},
     "output_type": "execute_result"
    }
   ],
   "source": [
    "# int -> str\n",
    "str(a)"
   ]
  },
  {
   "cell_type": "code",
   "execution_count": 5,
   "id": "067f88dc",
   "metadata": {},
   "outputs": [
    {
     "data": {
      "text/plain": [
       "True"
      ]
     },
     "execution_count": 5,
     "metadata": {},
     "output_type": "execute_result"
    }
   ],
   "source": [
    "# int -> bool\n",
    "bool(10)"
   ]
  },
  {
   "cell_type": "code",
   "execution_count": 6,
   "id": "0922c451",
   "metadata": {},
   "outputs": [
    {
     "data": {
      "text/plain": [
       "10"
      ]
     },
     "execution_count": 6,
     "metadata": {},
     "output_type": "execute_result"
    }
   ],
   "source": [
    "# float -> int : Ex) 입력 값 : 10.6일때 => 정수형 변환 시 소수점 이하 값은 버려진다.\n",
    "int(10.9)"
   ]
  },
  {
   "cell_type": "code",
   "execution_count": 7,
   "id": "6629c635",
   "metadata": {},
   "outputs": [
    {
     "name": "stdout",
     "output_type": "stream",
     "text": [
      "12\n",
      "11\n"
     ]
    }
   ],
   "source": [
    "x = 4.6\n",
    "y = 7.9\n",
    "\n",
    "# print(int(x + y))와 print(int(x) + int(y))의 다른 점\n",
    "\n",
    "print(int(x + y)) # x + y의 값을 먼저 계산 후 정수 값으로 반환하고 출력.\n",
    "print(int(x) + int(y)) # x와 y를 정수로 먼저 변환 후 더한 값을 출력.\n",
    "\n"
   ]
  },
  {
   "cell_type": "code",
   "execution_count": 10,
   "id": "cc4b9700",
   "metadata": {},
   "outputs": [
    {
     "data": {
      "text/plain": [
       "88"
      ]
     },
     "execution_count": 10,
     "metadata": {},
     "output_type": "execute_result"
    }
   ],
   "source": [
    "# str -> int\n",
    "p = '88.3'\n",
    "float(p) # 88.3\n",
    "int(float(p)) # 88"
   ]
  },
  {
   "cell_type": "markdown",
   "id": "f8057714",
   "metadata": {},
   "source": [
    "### 꿀팁(print())\n"
   ]
  },
  {
   "cell_type": "code",
   "execution_count": 11,
   "id": "9c256523",
   "metadata": {
    "scrolled": true
   },
   "outputs": [
    {
     "name": "stdout",
     "output_type": "stream",
     "text": [
      "orange apple tomato\n",
      "the next line\n"
     ]
    }
   ],
   "source": [
    "print('orange', 'apple', 'tomato') #default : 띄어쓰기, 줄바꾸기\n",
    "print('the next line')"
   ]
  },
  {
   "cell_type": "code",
   "execution_count": 14,
   "id": "23326f3a",
   "metadata": {},
   "outputs": [
    {
     "name": "stdout",
     "output_type": "stream",
     "text": [
      "orangeappletomato\n",
      "orange apple tomato\n"
     ]
    }
   ],
   "source": [
    "orange = 'orange'\n",
    "apple = 'apple'\n",
    "tomato = 'tomato'\n",
    "\n",
    "print(orange + apple + tomato) # 연결 가능하지만 원소들 간의 공백이 사라진다.\n",
    "print(orange, apple, tomato, sep = ' ' , end = '\\n')"
   ]
  },
  {
   "cell_type": "markdown",
   "id": "8e5ea3a2",
   "metadata": {},
   "source": [
    "### Input ()\n",
    "\n",
    "- 콘솔에서 사용자에게 값을 입력받는 함수\n",
    "- 입력받는 값의 타입 : str (문자열)"
   ]
  },
  {
   "cell_type": "code",
   "execution_count": 1,
   "id": "5557b8ea",
   "metadata": {},
   "outputs": [
    {
     "name": "stdout",
     "output_type": "stream",
     "text": [
      "How old are you?21\n"
     ]
    },
    {
     "data": {
      "text/plain": [
       "'21'"
      ]
     },
     "execution_count": 1,
     "metadata": {},
     "output_type": "execute_result"
    }
   ],
   "source": [
    "input('How old are you?')"
   ]
  },
  {
   "cell_type": "code",
   "execution_count": 5,
   "id": "e6b07938",
   "metadata": {
    "scrolled": true
   },
   "outputs": [
    {
     "name": "stdout",
     "output_type": "stream",
     "text": [
      "what is your hobby?soccer\n",
      "soccer\n"
     ]
    },
    {
     "data": {
      "text/plain": [
       "str"
      ]
     },
     "execution_count": 5,
     "metadata": {},
     "output_type": "execute_result"
    }
   ],
   "source": [
    "hobby = input('what is your hobby?')\n",
    "print(hobby)\n",
    "type(hobby)"
   ]
  },
  {
   "cell_type": "code",
   "execution_count": 7,
   "id": "49dd4f87",
   "metadata": {},
   "outputs": [
    {
     "name": "stdout",
     "output_type": "stream",
     "text": [
      "how old are you?21\n",
      "당신이 태어난 해는 2002 입니다.\n"
     ]
    }
   ],
   "source": [
    "age = int(input('how old are you?')) #int로 묶어줘야 연산이 가능해짐. input 안에 있는 값은 타입이 문자열이기 때문.\n",
    "print('당신이 태어난 해는', 2022-age+1, '입니다.') "
   ]
  },
  {
   "cell_type": "markdown",
   "id": "7360a3c7",
   "metadata": {},
   "source": [
    "### format\n",
    "- print(f'{variable}')"
   ]
  },
  {
   "cell_type": "code",
   "execution_count": 14,
   "id": "4f499bd0",
   "metadata": {
    "scrolled": true
   },
   "outputs": [
    {
     "name": "stdout",
     "output_type": "stream",
     "text": [
      "당신의 현재 나이는 21입니다.\n"
     ]
    }
   ],
   "source": [
    "print(f'당신의 현재 나이는 {age}입니다.')"
   ]
  },
  {
   "cell_type": "code",
   "execution_count": 15,
   "id": "23889990",
   "metadata": {},
   "outputs": [
    {
     "name": "stdout",
     "output_type": "stream",
     "text": [
      "당신이 태어난 해는 2002 입니다\n"
     ]
    }
   ],
   "source": [
    "current_year = 2022\n",
    "birth_year = current_year - age + 1\n",
    "\n",
    "print(f\"당신이 태어난 해는 {birth_year} 입니다\")"
   ]
  },
  {
   "cell_type": "markdown",
   "id": "4563ef1a",
   "metadata": {},
   "source": [
    "### Quiz 1: 택배 정보를 입력받고 무게에 따른 값 산정하기\n",
    "- 수취인 주소:\n",
    "- 수취인 성명:\n",
    "- 배송비: 3000원\n",
    "- 물건 비용: 무게 * 5원\n",
    "- 합계: 배송비 + 물건 비용"
   ]
  },
  {
   "cell_type": "code",
   "execution_count": 19,
   "id": "500c8df0",
   "metadata": {},
   "outputs": [
    {
     "name": "stdout",
     "output_type": "stream",
     "text": [
      "주소를 입력하세요: 구의동\n",
      "이름을 입력하세요: 윤준서\n",
      "무게를 입력하세요 900\n",
      "7500\n"
     ]
    }
   ],
   "source": [
    "address = input('주소를 입력하세요: ')\n",
    "name = input('이름을 입력하세요: ')\n",
    "weight = int(input('무게를 입력하세요: '))\n",
    "\n",
    "shipping_fee = 3000\n",
    "cost = weight * 5\n",
    "\n",
    "total = shipping_fee + cost\n",
    "print(total)"
   ]
  },
  {
   "cell_type": "markdown",
   "id": "1adc01c7",
   "metadata": {},
   "source": [
    "#### Ch03.  Numbers\n",
    " - Boolean\n",
    " - Integer\n",
    " - Floats\n",
    " - \n",
    " \n",
    "###   Boolean\n",
    " - True / False\n",
    " - False인 값\n",
    " - if문 (조건식): '만약 어떤 값이 True면' ...."
   ]
  },
  {
   "cell_type": "code",
   "execution_count": 15,
   "id": "e49a4b14",
   "metadata": {},
   "outputs": [
    {
     "data": {
      "text/plain": [
       "False"
      ]
     },
     "execution_count": 15,
     "metadata": {},
     "output_type": "execute_result"
    }
   ],
   "source": [
    "bool(0)"
   ]
  },
  {
   "cell_type": "code",
   "execution_count": 1,
   "id": "752bd535",
   "metadata": {},
   "outputs": [
    {
     "data": {
      "text/plain": [
       "True"
      ]
     },
     "execution_count": 1,
     "metadata": {},
     "output_type": "execute_result"
    }
   ],
   "source": [
    "bool(3)"
   ]
  },
  {
   "cell_type": "code",
   "execution_count": 2,
   "id": "853bfdd7",
   "metadata": {},
   "outputs": [
    {
     "data": {
      "text/plain": [
       "False"
      ]
     },
     "execution_count": 2,
     "metadata": {},
     "output_type": "execute_result"
    }
   ],
   "source": [
    "bool()"
   ]
  },
  {
   "cell_type": "markdown",
   "id": "75d0170b",
   "metadata": {},
   "source": [
    "### Integer\n",
    " - 분수나 소수가 아닌 정수를 뜻함.\n",
    " - 음수는 '-' 부호를 붙임. Ex) -50\n",
    " - default = 양수\n",
    " - 숫자 앞에는 0을 쓰지 못한다. i.e.,09\n",
    " - 숫자 사이에 쉼표(,)를 쓰면 오류 100,000(x) -> 100_000 숫자 사이의 언더바는 인식하지 않음."
   ]
  },
  {
   "cell_type": "code",
   "execution_count": 17,
   "id": "7576efb5",
   "metadata": {},
   "outputs": [],
   "source": [
    "a = 7 # '07'은 오류.\n"
   ]
  },
  {
   "cell_type": "code",
   "execution_count": 19,
   "id": "b1cb3583",
   "metadata": {},
   "outputs": [
    {
     "data": {
      "text/plain": [
       "-14"
      ]
     },
     "execution_count": 19,
     "metadata": {},
     "output_type": "execute_result"
    }
   ],
   "source": [
    "a = -32\n",
    "b = 18 \n",
    "a + b"
   ]
  },
  {
   "cell_type": "code",
   "execution_count": 20,
   "id": "e815f69c",
   "metadata": {},
   "outputs": [
    {
     "data": {
      "text/plain": [
       "6561"
      ]
     },
     "execution_count": 20,
     "metadata": {},
     "output_type": "execute_result"
    }
   ],
   "source": [
    "x = 9\n",
    "y = 4\n",
    "\n",
    "#연산자\n",
    "\n",
    "x + y \n",
    "x - y\n",
    "x * y\n",
    "x / y #부동소수점\n",
    "x ** y # 거듭제곱 exponential"
   ]
  },
  {
   "cell_type": "code",
   "execution_count": 23,
   "id": "040ee648",
   "metadata": {
    "scrolled": true
   },
   "outputs": [
    {
     "data": {
      "text/plain": [
       "(4, 6)"
      ]
     },
     "execution_count": 23,
     "metadata": {},
     "output_type": "execute_result"
    }
   ],
   "source": [
    "x = 42\n",
    "y = 9\n",
    "divmod(x, y) # return => (몫, 나누기)"
   ]
  },
  {
   "cell_type": "markdown",
   "id": "9b8a87aa",
   "metadata": {},
   "source": [
    "### Quiz 1.\n",
    "- 반지름을 구해서 원의 면적 구하기\n",
    "- 넓이 = pi * r의 제곱"
   ]
  },
  {
   "cell_type": "code",
   "execution_count": 23,
   "id": "27cb33e1",
   "metadata": {},
   "outputs": [
    {
     "name": "stdout",
     "output_type": "stream",
     "text": [
      "반지름: 54\n",
      "532.4184\n"
     ]
    }
   ],
   "source": [
    "radius = float(input('반지름: '))\n",
    "pi = 3.14\n",
    "area = radius * (pi ** 2)\n",
    "print(area)"
   ]
  },
  {
   "cell_type": "markdown",
   "id": "41045430",
   "metadata": {},
   "source": [
    "### Quiz 2.\n",
    "- 숫자를 입력 받고 3의 배수인지 확인하기"
   ]
  },
  {
   "cell_type": "code",
   "execution_count": 24,
   "id": "2c60f58d",
   "metadata": {},
   "outputs": [
    {
     "name": "stdout",
     "output_type": "stream",
     "text": [
      "숫자 : 7\n",
      "True\n"
     ]
    }
   ],
   "source": [
    "num = int(input('숫자 : '))\n",
    "print(bool(num % 3))"
   ]
  },
  {
   "cell_type": "markdown",
   "id": "2cf8d71e",
   "metadata": {},
   "source": [
    "### 부동소숫점 (파이선에서는 'floats')\n",
    "- 부동소수점 숫자는 문자 e와 정수인 지수를 포함할 수 있음\n",
    "- 명확성을 위해 언더바(_)를 사용해서 숫자를 구분할 수 있음\n",
    "- 부동소수점 숫자는 +, -, *, /, //, **, %   연산자와 divmod() 함수를 사용할 수 있다는 점에서 정수와 비슷하게 처리\n",
    "- 부동소수점 숫자로 타입 변환을 위해서 float() 함수를 사용. 이전에 본 것처럼 불리언 값을 정수처럼 간주한다.\n",
    "- 정수에서 부동소수점 숫자로 변환할 때는 간단하게 소수점이 붙음"
   ]
  },
  {
   "cell_type": "markdown",
   "id": "c8f8b400",
   "metadata": {},
   "source": [
    "### Section 3.6 연습문제\n",
    "\n",
    "- 3.1. 1시간은 몇 초인가? \n",
    "\n",
    "- 3.2. 계산한 결과 변수에 저장\n",
    "\n",
    "\n",
    "- 3.3. 1일은 몇 초인가?  seconds_per_hour 변수 활용\n",
    "\n",
    "\n",
    "- 3.4. 부동소숫점 나눗셈을 사용해서 seconds_per_day를 seconds_per_hour로 나누기\n",
    "\n",
    "\n",
    "- 3.5. 정수 나눗셈 사용, 3.4 과정을 거치고 정수 자리가 같은 지 비교하기\n",
    "\n",
    "\n",
    "\n",
    "\n"
   ]
  },
  {
   "cell_type": "code",
   "execution_count": 25,
   "id": "6db07c56",
   "metadata": {},
   "outputs": [
    {
     "data": {
      "text/plain": [
       "24"
      ]
     },
     "execution_count": 25,
     "metadata": {},
     "output_type": "execute_result"
    }
   ],
   "source": [
    "60 * 60 \n"
   ]
  },
  {
   "cell_type": "code",
   "execution_count": 26,
   "id": "638b257c",
   "metadata": {},
   "outputs": [],
   "source": [
    "seconds_per_hour = 60 * 60"
   ]
  },
  {
   "cell_type": "code",
   "execution_count": 27,
   "id": "aa280f47",
   "metadata": {},
   "outputs": [],
   "source": [
    "seconds_per_day = seconds_per_hour *  24"
   ]
  },
  {
   "cell_type": "code",
   "execution_count": 28,
   "id": "b21d2210",
   "metadata": {},
   "outputs": [
    {
     "data": {
      "text/plain": [
       "24.0"
      ]
     },
     "execution_count": 28,
     "metadata": {},
     "output_type": "execute_result"
    }
   ],
   "source": [
    "seconds_per_day / seconds_per_hour"
   ]
  },
  {
   "cell_type": "code",
   "execution_count": 29,
   "id": "af3ac2ed",
   "metadata": {},
   "outputs": [
    {
     "data": {
      "text/plain": [
       "24"
      ]
     },
     "execution_count": 29,
     "metadata": {},
     "output_type": "execute_result"
    }
   ],
   "source": [
    "seconds_per_day // seconds_per_hour"
   ]
  },
  {
   "cell_type": "markdown",
   "id": "120c0e7e",
   "metadata": {},
   "source": [
    "### 지수 표현\n",
    "- Ex) '1.0e-4'\n",
    "- e의 앞부분은 소수 , 정수 모두 가능\n",
    "- 뒷부분은 정수여야만 함.\n",
    "- 뒷부분이 음수면 소숫점의 자릿수를 의미한다.\n",
    "- e, E 모두 가능."
   ]
  },
  {
   "cell_type": "code",
   "execution_count": 31,
   "id": "ec8bdc9b",
   "metadata": {},
   "outputs": [
    {
     "data": {
      "text/plain": [
       "0.005009"
      ]
     },
     "execution_count": 31,
     "metadata": {},
     "output_type": "execute_result"
    }
   ],
   "source": [
    "5009e-6"
   ]
  },
  {
   "cell_type": "markdown",
   "id": "8373eb57",
   "metadata": {},
   "source": [
    "#### Ch04. 조건문"
   ]
  },
  {
   "cell_type": "markdown",
   "id": "8f4a7b0e",
   "metadata": {},
   "source": [
    "### 코드 짜는 팁\n",
    "- 주석 달기\n",
    "    - # hash, sharp,  ..\n",
    "    - # 시작 지점부터 라인 끝까지가 주석 처리됨. 라인이 바뀌면 코드로 인식\n",
    "    - \"\"\" \"\"\" : 긴 주석\n",
    "    - 문자열 안에 있는 sharp는 부호로 인식\n",
    "    - 이유? 코드에 대한 설명은 최대한 하지 않는다. 의도를 나타내기 위해, 오류가 있다거나 ...\n",
    " \n",
    " - 라인 유지하기\n",
    "    - 들여쓰기 (default space 4개, 탭을 이용해서)\n",
    "    - 논리 구조를 나타내기 때문에 굉장히 중요함.\n",
    "    - 한 라인에 80자 정도 (백슬래시로 라인을 끊어준다)"
   ]
  },
  {
   "cell_type": "markdown",
   "id": "9cc2c1e6",
   "metadata": {},
   "source": [
    "### IF\n",
    "\n",
    "if <조건식> : <실행할 코드>"
   ]
  },
  {
   "cell_type": "code",
   "execution_count": 32,
   "id": "041f0e93",
   "metadata": {},
   "outputs": [
    {
     "name": "stdout",
     "output_type": "stream",
     "text": [
      "No\n"
     ]
    }
   ],
   "source": [
    "if 4 != 8:\n",
    "    print('No')"
   ]
  },
  {
   "cell_type": "markdown",
   "id": "e8e95844",
   "metadata": {},
   "source": [
    "### if - else\n",
    "if <조건식>:\n",
    "    <실행할 코드1>\n",
    "else:<실행할 코드2>"
   ]
  },
  {
   "cell_type": "markdown",
   "id": "a0fc1787",
   "metadata": {},
   "source": [
    "### 비교 연산자\n",
    "- x < y\n",
    "- x > y \n",
    "- x >= y\n",
    "- x <= y\n",
    "- x == y (값이 같음)\n",
    "- x != y \n",
    "- x is y (값, 메모리주소)\n",
    "- x is not y"
   ]
  },
  {
   "cell_type": "markdown",
   "id": "ed751f80",
   "metadata": {},
   "source": [
    "### If - Elif - Else\n",
    "if <조건식>:<실행할 코드1>elif<조건식2>:<실행할 코드2>else<실행할 코드3>"
   ]
  },
  {
   "cell_type": "markdown",
   "id": "facbd3ff",
   "metadata": {},
   "source": [
    "### 퀴즈\n",
    "- 1. 시험 점수를 입력 받고, 80점 이상이면 True, 아니면 False 반환하기\n",
    "- 2. 시험 점수를 입력 받고, 95이상 A+, 90이상 A, 85이상 B+, 나머지 F로 출력하세요."
   ]
  },
  {
   "cell_type": "code",
   "execution_count": 35,
   "id": "0a698286",
   "metadata": {},
   "outputs": [
    {
     "name": "stdout",
     "output_type": "stream",
     "text": [
      "시험 점수: 80\n",
      "True\n"
     ]
    }
   ],
   "source": [
    "score1 = int(input('시험 점수: '))\n",
    "if score1 >= 80:\n",
    "    print('True')\n",
    "else:\n",
    "    print('False')"
   ]
  },
  {
   "cell_type": "code",
   "execution_count": 38,
   "id": "ca426eb4",
   "metadata": {},
   "outputs": [
    {
     "name": "stdout",
     "output_type": "stream",
     "text": [
      "시험 점수: 84\n",
      "F\n"
     ]
    }
   ],
   "source": [
    "score2 = int(input('시험 점수: '))\n",
    "if score2 >= 95:\n",
    "    print('A+')\n",
    "elif score2 >= 90:\n",
    "    print('A')\n",
    "elif score2 >= 85:\n",
    "    print('B+')\n",
    "else:\n",
    "    print('F')"
   ]
  },
  {
   "cell_type": "code",
   "execution_count": null,
   "id": "3f87fd6d",
   "metadata": {},
   "outputs": [],
   "source": []
  }
 ],
 "metadata": {
  "kernelspec": {
   "display_name": "Python 3 (ipykernel)",
   "language": "python",
   "name": "python3"
  },
  "language_info": {
   "codemirror_mode": {
    "name": "ipython",
    "version": 3
   },
   "file_extension": ".py",
   "mimetype": "text/x-python",
   "name": "python",
   "nbconvert_exporter": "python",
   "pygments_lexer": "ipython3",
   "version": "3.9.7"
  }
 },
 "nbformat": 4,
 "nbformat_minor": 5
}
