{
 "cells": [
  {
   "cell_type": "markdown",
   "id": "5b130671-4390-4fb5-ba8e-0792be045329",
   "metadata": {},
   "source": [
    "### 상속 | inheritance\n",
    "- 이전 클래스의 내용을 추가, 변경해야 할 경우\n",
    "- 코드 재사용에 유용하다!\n",
    "- 기준: vehicle, parent, super, base, 부모클래스\n",
    "- 상속 받는 클래스: child, sub, derived, 자식클래스\n",
    "- Vehicle <- Car\n",
    "    - 부모클래스를 자식클래스가 구체화시킨다.\n",
    "    - Car is-a-Vehicle\n",
    "    - has-a: Notebook has-a-Note"
   ]
  },
  {
   "cell_type": "code",
   "execution_count": 5,
   "id": "ef866bd2-5eaf-4dcb-84d5-cccda72ae118",
   "metadata": {},
   "outputs": [],
   "source": [
    "class Vehicle:\n",
    "    def __init__(self, speed):\n",
    "        self.speed = speed\n",
    "        \n",
    "    def go(self):\n",
    "        print(f'{self.speed}의 속력으로 달린다.')\n",
    "        \n",
    "# 자식클래스\n",
    "class Car(Vehicle):\n",
    "    pass"
   ]
  },
  {
   "cell_type": "code",
   "execution_count": 6,
   "id": "613f1172-ccfe-487b-a88f-938c81492015",
   "metadata": {},
   "outputs": [],
   "source": [
    "car = Car('15km/h') "
   ]
  },
  {
   "cell_type": "code",
   "execution_count": 7,
   "id": "66e9575f-3c73-4459-81e0-2805a0429a86",
   "metadata": {},
   "outputs": [
    {
     "name": "stdout",
     "output_type": "stream",
     "text": [
      "15km/h의 속력으로 달린다.\n"
     ]
    }
   ],
   "source": [
    "car.go()"
   ]
  },
  {
   "cell_type": "code",
   "execution_count": 18,
   "id": "2edd8961-cfd2-46e2-a30c-cb330b3be2d0",
   "metadata": {},
   "outputs": [
    {
     "ename": "AttributeError",
     "evalue": "'Vehicle' object has no attribute 'brand'",
     "output_type": "error",
     "traceback": [
      "\u001b[1;31m---------------------------------------------------------------------------\u001b[0m",
      "\u001b[1;31mAttributeError\u001b[0m                            Traceback (most recent call last)",
      "Input \u001b[1;32mIn [18]\u001b[0m, in \u001b[0;36m<cell line: 2>\u001b[1;34m()\u001b[0m\n\u001b[0;32m      1\u001b[0m v \u001b[38;5;241m=\u001b[39m Vehicle(\u001b[38;5;124m'\u001b[39m\u001b[38;5;124m15km/h\u001b[39m\u001b[38;5;124m'\u001b[39m)\n\u001b[1;32m----> 2\u001b[0m \u001b[43mv\u001b[49m\u001b[38;5;241;43m.\u001b[39;49m\u001b[43mbrand\u001b[49m\n",
      "\u001b[1;31mAttributeError\u001b[0m: 'Vehicle' object has no attribute 'brand'"
     ]
    }
   ],
   "source": [
    "v = Vehicle('15km/h')\n",
    "v.brand # 부모는 자식 클래스를 쓸 수가 없다."
   ]
  },
  {
   "cell_type": "markdown",
   "id": "055a8cea-9fba-4787-8053-7997ee2d416c",
   "metadata": {},
   "source": [
    "### 추가, 변경\n",
    "- 속성 (변수)"
   ]
  },
  {
   "cell_type": "code",
   "execution_count": 22,
   "id": "82654bb6-a803-4010-8864-840e57a932e7",
   "metadata": {},
   "outputs": [],
   "source": [
    "class Car(Vehicle):\n",
    "    def __init__(self, speed, brand):\n",
    "        # self.speed = speed\n",
    "        super().__init__(speed) # 선택적 인수 설정하기\n",
    "        self.brand = brand # 추가한 변수(Car로부터 독자적인)\n",
    "        # self == 나 자신, super() == 부모 "
   ]
  },
  {
   "cell_type": "code",
   "execution_count": 16,
   "id": "62957cd9-9cd6-466a-a06f-fa4d458612df",
   "metadata": {},
   "outputs": [],
   "source": [
    "car2 = Car('14km/h', 'kia')"
   ]
  },
  {
   "cell_type": "code",
   "execution_count": 17,
   "id": "6d2dc8fb-ba3a-4dbb-a650-322db7062678",
   "metadata": {},
   "outputs": [
    {
     "data": {
      "text/plain": [
       "'14km/h'"
      ]
     },
     "execution_count": 17,
     "metadata": {},
     "output_type": "execute_result"
    }
   ],
   "source": [
    "car2.speed"
   ]
  },
  {
   "cell_type": "markdown",
   "id": "f1c706e3-86db-4fb3-80d4-6febdf642e8a",
   "metadata": {},
   "source": [
    "- 메소트 변경 => 오버라이드(override), 재정의"
   ]
  },
  {
   "cell_type": "code",
   "execution_count": 20,
   "id": "5a46d009-6ae8-4a84-a882-d769b7f4a971",
   "metadata": {},
   "outputs": [],
   "source": [
    "class Car(Vehicle):\n",
    "    def __init__(self, speed, brand):\n",
    "        # self.speed = speed\n",
    "        super().__init__(speed) # 선택적 인수 설정하기\n",
    "        self.brand = brand \n",
    "    \n",
    "    def go(self): # override\n",
    "        # 부모의 go도 같이 타고 싶다.\n",
    "        super().go()\n",
    "        print(f'차종은 {self.brand}')\n",
    "         \n",
    "    def stop(self): # 부모클래스에 없는 메소드\n",
    "        print('차가 멈춘다.')"
   ]
  },
  {
   "cell_type": "code",
   "execution_count": 21,
   "id": "4475778d-0a4a-44f0-8500-5f7adb6b603c",
   "metadata": {},
   "outputs": [
    {
     "name": "stdout",
     "output_type": "stream",
     "text": [
      "15km/h의 속력으로 달린다.\n",
      "차종은 nissan\n",
      "차가 멈춘다.\n"
     ]
    }
   ],
   "source": [
    "car3 = Car('15km/h', 'nissan')\n",
    "car3.go()\n",
    "car3.stop()"
   ]
  },
  {
   "cell_type": "markdown",
   "id": "7146277e-a5db-443f-8cc3-e2f7bacbffdb",
   "metadata": {},
   "source": [
    "### 다중 상속\n",
    "- method resolution order(MRO)\n",
    "- Animal <- Horse\n",
    "       <- Donkey\n",
    "               <- Mule (donkey > horse)\n",
    "               <- Hinny (horse > donkey)"
   ]
  },
  {
   "cell_type": "code",
   "execution_count": 24,
   "id": "8e7cf137-2e0d-4e27-b313-faeeb49cc696",
   "metadata": {},
   "outputs": [],
   "source": [
    "class Animal:\n",
    "    def says(self):\n",
    "        return '동물아 운다'\n",
    "# ----------------------- child   \n",
    "class Horse(Animal):\n",
    "    def says (self):\n",
    "        return '히히힝'\n",
    "    \n",
    "class Donkey(Animal):\n",
    "    def says (self):\n",
    "        return '히이호'\n",
    "# ---------------------------- grandchild    \n",
    "class Mule (Donkey, Horse):\n",
    "    pass\n",
    "\n",
    "class Hinny(Horse, Donkey):\n",
    "    pass"
   ]
  },
  {
   "cell_type": "code",
   "execution_count": 25,
   "id": "df6d3af1-b1f8-4202-bd2e-8631041fec1f",
   "metadata": {},
   "outputs": [
    {
     "data": {
      "text/plain": [
       "'히이호'"
      ]
     },
     "execution_count": 25,
     "metadata": {},
     "output_type": "execute_result"
    }
   ],
   "source": [
    "Mule().says()"
   ]
  },
  {
   "cell_type": "code",
   "execution_count": 26,
   "id": "5e4e3621-cf7e-4054-8d8c-f4b1ce58a7ad",
   "metadata": {},
   "outputs": [
    {
     "data": {
      "text/plain": [
       "'히히힝'"
      ]
     },
     "execution_count": 26,
     "metadata": {},
     "output_type": "execute_result"
    }
   ],
   "source": [
    "Hinny().says()"
   ]
  },
  {
   "cell_type": "code",
   "execution_count": 27,
   "id": "a9d5bf96-d82e-4bf2-abff-25fddce978db",
   "metadata": {},
   "outputs": [
    {
     "data": {
      "text/plain": [
       "[__main__.Mule, __main__.Donkey, __main__.Horse, __main__.Animal, object]"
      ]
     },
     "execution_count": 27,
     "metadata": {},
     "output_type": "execute_result"
    }
   ],
   "source": [
    "Mule.mro()"
   ]
  },
  {
   "cell_type": "markdown",
   "id": "987d6127-df59-4c25-9250-555aaa02655d",
   "metadata": {},
   "source": [
    "### 번외) 스타크래프트를 예로"
   ]
  },
  {
   "cell_type": "code",
   "execution_count": null,
   "id": "2dff6059-58a0-4879-a422-ce90509a2d13",
   "metadata": {},
   "outputs": [],
   "source": [
    "# 일반 유닛\n",
    "class Unit:\n",
    "    def __init__(self, name, hp):\n",
    "        self.name = name\n",
    "        self.hp = hp\n",
    "\n",
    "# 공격 유닛\n",
    "class AttackUnit(Unit):\n",
    "    def __init__(self, name, hp, damage):\n",
    "        Unit.__init__(self, name, hp) # Unit을 상속받음.\n",
    "        self.damage = damage\n",
    "    \n",
    "    def attack(self, location):\n",
    "        print(f'{self.name}: {location} 방향으로 공격. [공격력 {self.damage}])\n",
    "            \n",
    "    def damaged(self, damage):\n",
    "              print(f'{self.name}: {damage} 데미지 입음.')\n",
    "              self.hp -= damage\n",
    "              print(f'현재 체력: {self.hp}.')\n",
    "              if self.hp <= 0:\n",
    "              print(f'{self.name}: 파괴됨.)\n",
    "                    \n",
    "# 날 수 있는 기능을 가진 클래스\n",
    "class Flyable:\n",
    "    def __init__(self, flying_speed):\n",
    "        self.flying = flying_speed\n",
    "    \n",
    "    def fly(self, name, location):\n",
    "        print(f'{name}: {location} 방향으로 날아감. [속도{flying_speed}])\n",
    "\n",
    "# 공중 공격 유닛 클래스\n",
    "class FlyableAttackUnit(AttackUnit, Flyable) # AttackUnit, Flyable 상속 받음\n",
    "    def __init__(self, name, hp, damage, flying_speed)\n",
    "        AttackUnit.__(self, name, hp, damage)\n",
    "        Flyable.__init__(self, flying_speed)\n",
    "\n",
    "# 발키리 : 공중 유닛 발사, 한번에 14발 미사일.\n",
    "valkyrie = FlyableAttackUnit('발키리', 200, 6, 5)\n",
    "valkyrie.fly(valkyrie.name, '3시')"
   ]
  },
  {
   "cell_type": "markdown",
   "id": "b3322a96-5fa4-495a-9237-820eaf0d6e44",
   "metadata": {},
   "source": [
    "### 다형성, duck typing"
   ]
  },
  {
   "cell_type": "code",
   "execution_count": 28,
   "id": "9219752c-4359-4f1a-9f87-f5948acacf0a",
   "metadata": {},
   "outputs": [
    {
     "name": "stdout",
     "output_type": "stream",
     "text": [
      "동물아 운다\n",
      "히히힝\n",
      "히이호\n"
     ]
    }
   ],
   "source": [
    "for animal in [Animal(), Horse(), Mule()]:\n",
    "    print(animal.says())"
   ]
  },
  {
   "cell_type": "markdown",
   "id": "9abbfc96-b92e-4646-af50-d173925bb66d",
   "metadata": {},
   "source": [
    "### 메서드\n",
    "- 인스턴스 메서드:\n",
    "    - 첫 번째 인수가 self인 메서드\n",
    "    - 우리가 지금까지 배운 메서드\n",
    "    - 객체 생성 -> 사용 가능\n",
    "- 클래스 메서드:\n",
    "    - 객체마다 달라지지 않음\n",
    "    - 모든 객체가 공유하는 (클래스) 변수, 메소드\n",
    "    - cls\n",
    "    - 데코레이터 @classmethod 사용한다.\n",
    "    - 객체 생성하지 않고 메서드에 접근 가능!\n",
    "- 정적 메서드\n",
    "    - 1번째 인수가 self 아님\n",
    "    - 클래스나 인스턴스에 접근하지 않는 메서드\n",
    "    - 비슷한 유틸리티라서 클래스 내에 묶어둘 때 사용한다.\n",
    "    - 객체 생성하지 않고 메서드에 접근 가능!(클래스 메서드와 공통)\n",
    "- 추상 메서드\n",
    "   - abstract\n",
    "   - @abstractmethod"
   ]
  },
  {
   "cell_type": "code",
   "execution_count": null,
   "id": "7ac8ece6-8144-4c6a-9576-3c95c6991122",
   "metadata": {},
   "outputs": [],
   "source": [
    "# 인스턴스 메서드\n",
    "h = Hinny()\n",
    "h.says()"
   ]
  },
  {
   "cell_type": "code",
   "execution_count": 29,
   "id": "b873de7b-b01e-4766-bef1-e056d0c823f7",
   "metadata": {},
   "outputs": [],
   "source": [
    "class A:\n",
    "    cnt = 0\n",
    "    @classmethod\n",
    "    def move(cls): # self, super(), cls\n",
    "        print(cls.cnt)"
   ]
  },
  {
   "cell_type": "code",
   "execution_count": 30,
   "id": "8b9cb2fc-ee60-4954-9111-6673f3537697",
   "metadata": {},
   "outputs": [
    {
     "name": "stdout",
     "output_type": "stream",
     "text": [
      "0\n"
     ]
    }
   ],
   "source": [
    "A().move()"
   ]
  },
  {
   "cell_type": "code",
   "execution_count": 37,
   "id": "4ae8d295-7e9d-45fe-9cbe-1cf199a77129",
   "metadata": {},
   "outputs": [],
   "source": [
    "class B:\n",
    "    cnt = 0\n",
    "    def __init__(self):\n",
    "        B.cnt += 1\n",
    "    # class method\n",
    "    @classmethod\n",
    "    def count(cls):\n",
    "        # 객체가 생성될 때마다 횟수 증가해서 프린트\n",
    "        print(cls.cnt)"
   ]
  },
  {
   "cell_type": "code",
   "execution_count": 38,
   "id": "2cc738f3-2ccf-4c13-9214-0834d199ecb9",
   "metadata": {},
   "outputs": [
    {
     "name": "stdout",
     "output_type": "stream",
     "text": [
      "4\n"
     ]
    }
   ],
   "source": [
    "B()\n",
    "B()\n",
    "B()\n",
    "B().count()"
   ]
  },
  {
   "cell_type": "code",
   "execution_count": 41,
   "id": "6b71fb6c-eec8-4efa-a6c1-947a55f4694e",
   "metadata": {},
   "outputs": [],
   "source": [
    "class Person:\n",
    "    def __init__(self, name, age):\n",
    "        self.name = name\n",
    "        self.age = age\n",
    "        \n",
    "    @classmethod\n",
    "    def tuple_object(cls, args):\n",
    "        # 튜플로 인자를 받아서 객체 생성하는 메서드 만들기\n",
    "        return cls(args[0], args[1])\n",
    "\n",
    "name = 'hong'\n",
    "age = 24\n",
    "\n",
    "p = Person(name, age)\n",
    "\n",
    "info = name, age\n",
    "p = Person.tuple_object(info) # 객체 생성하지 않고 메서드에 접근했다."
   ]
  },
  {
   "cell_type": "code",
   "execution_count": 42,
   "id": "ae53ef4e-90c5-4225-935c-1eeed807cc64",
   "metadata": {},
   "outputs": [
    {
     "data": {
      "text/plain": [
       "'hong'"
      ]
     },
     "execution_count": 42,
     "metadata": {},
     "output_type": "execute_result"
    }
   ],
   "source": [
    "p.name"
   ]
  },
  {
   "cell_type": "code",
   "execution_count": 43,
   "id": "8b8ed9f7-8766-429e-8ccb-4d315ce9502f",
   "metadata": {},
   "outputs": [
    {
     "data": {
      "text/plain": [
       "24"
      ]
     },
     "execution_count": 43,
     "metadata": {},
     "output_type": "execute_result"
    }
   ],
   "source": [
    "p.age"
   ]
  },
  {
   "cell_type": "code",
   "execution_count": 44,
   "id": "6821315b-1557-4b85-8a05-2921fdc6aa07",
   "metadata": {},
   "outputs": [
    {
     "data": {
      "text/plain": [
       "'hi'"
      ]
     },
     "execution_count": 44,
     "metadata": {},
     "output_type": "execute_result"
    }
   ],
   "source": [
    "# @staticmethod\n",
    "class Coyote:\n",
    "    \n",
    "    @staticmethod\n",
    "    def says(cry): #self 없음\n",
    "        return 'hi' + cry # 변수 추가하고 싶을 때 으락캬\n",
    "Coyote.says()"
   ]
  },
  {
   "cell_type": "code",
   "execution_count": 46,
   "id": "d89776d7-006d-401f-b10f-5f140d9ea8c2",
   "metadata": {},
   "outputs": [],
   "source": [
    "from abc import *\n",
    "\n",
    "class Vehicle(metaclass = ABCMeta): # 추상클래스\n",
    "    # 변수에 뭘 넣을지 정의하기\n",
    "    speed = '속도'\n",
    "    # 자식 클래스가 오버라이드해야 하는 메서드 정의\n",
    "    @abstractmethod\n",
    "    def drive(self):\n",
    "        print('교통수단에 관하여')\n",
    "    \n",
    "    def stop(self):\n",
    "        pass\n",
    "    \n",
    "    def park(self):\n",
    "        pass\n",
    "    \n",
    "#------\n",
    "\n",
    "class Car(Vehicle):\n",
    "    def drive(self):\n",
    "        return super().speed"
   ]
  },
  {
   "cell_type": "code",
   "execution_count": 47,
   "id": "5aeeb641-c091-485b-9513-94a78a3600b3",
   "metadata": {},
   "outputs": [
    {
     "ename": "TypeError",
     "evalue": "Can't instantiate abstract class Car with abstract method drive",
     "output_type": "error",
     "traceback": [
      "\u001b[1;31m---------------------------------------------------------------------------\u001b[0m",
      "\u001b[1;31mTypeError\u001b[0m                                 Traceback (most recent call last)",
      "Input \u001b[1;32mIn [47]\u001b[0m, in \u001b[0;36m<cell line: 1>\u001b[1;34m()\u001b[0m\n\u001b[1;32m----> 1\u001b[0m \u001b[43mCar\u001b[49m\u001b[43m(\u001b[49m\u001b[43m)\u001b[49m\n",
      "\u001b[1;31mTypeError\u001b[0m: Can't instantiate abstract class Car with abstract method drive"
     ]
    }
   ],
   "source": [
    "Car()"
   ]
  },
  {
   "cell_type": "markdown",
   "id": "ebef9115-23bf-4068-b949-26fe61959300",
   "metadata": {},
   "source": [
    "### 매직메소드\n",
    "- __init__ : special method\n",
    "\n",
    "- object 재정의 하는 것 중 하나\n",
    "- __str__\n",
    "- __repr__"
   ]
  },
  {
   "cell_type": "code",
   "execution_count": 54,
   "id": "19b36f62-3674-4c15-b896-ad7ece7d495a",
   "metadata": {},
   "outputs": [],
   "source": [
    "class Person(object):\n",
    "    def __init__(self, name):\n",
    "        self.name = name\n",
    "        \n",
    "    def __str__(self):\n",
    "        # 인스턴스를 스트링으로 출력: 이름, 메모리주소\n",
    "        # print(인스턴스) 했을 때 출력되는 값\n",
    "        return self.name\n",
    "    \n",
    "    def __repr__(self):\n",
    "        # 사용자 이해할 수 있게 객체를 출력하고 싶을 때 사용한다.\n",
    "        return f'Person({self.name})'"
   ]
  },
  {
   "cell_type": "code",
   "execution_count": 56,
   "id": "355c4f52-9f8e-4b2d-8e07-05d0b6259a55",
   "metadata": {},
   "outputs": [],
   "source": [
    "p = Person('lee')"
   ]
  },
  {
   "cell_type": "code",
   "execution_count": 57,
   "id": "22d4df2d-e524-447a-9b95-d8d5ab27965b",
   "metadata": {},
   "outputs": [
    {
     "data": {
      "text/plain": [
       "Person(lee)"
      ]
     },
     "execution_count": 57,
     "metadata": {},
     "output_type": "execute_result"
    }
   ],
   "source": [
    "p"
   ]
  },
  {
   "cell_type": "code",
   "execution_count": 58,
   "id": "2d28cf6c-26d3-49b4-9028-153cb9b86345",
   "metadata": {},
   "outputs": [
    {
     "name": "stdout",
     "output_type": "stream",
     "text": [
      "lee\n"
     ]
    }
   ],
   "source": [
    "print(p)"
   ]
  },
  {
   "cell_type": "code",
   "execution_count": 59,
   "id": "7d7ae226-58bb-453d-94c6-0a1363d30964",
   "metadata": {},
   "outputs": [
    {
     "data": {
      "text/plain": [
       "'lee'"
      ]
     },
     "execution_count": 59,
     "metadata": {},
     "output_type": "execute_result"
    }
   ],
   "source": [
    "str(p)"
   ]
  },
  {
   "cell_type": "code",
   "execution_count": 60,
   "id": "ec76dc9d-ec65-466e-b7d4-14bfdb89070e",
   "metadata": {},
   "outputs": [
    {
     "data": {
      "text/plain": [
       "'Person(lee)'"
      ]
     },
     "execution_count": 60,
     "metadata": {},
     "output_type": "execute_result"
    }
   ],
   "source": [
    "repr(p)"
   ]
  },
  {
   "cell_type": "markdown",
   "id": "21a4298a-6163-49fb-8a69-ad25b0a7c473",
   "metadata": {},
   "source": [
    "### namedtuple, dataclass\n",
    "- 변수만 있는 클래스 설정할 때 더 효율적으로 사용하는 수단 \n",
    "- 딕셔너리 키와 같은 기능\n",
    "- 불변 객체"
   ]
  },
  {
   "cell_type": "code",
   "execution_count": 4,
   "id": "e133ff93-368a-485f-89ec-a90e59c9b3e9",
   "metadata": {},
   "outputs": [],
   "source": [
    "from collections import namedtuple\n",
    "\n",
    "Person = namedtuple('Person', 'name age') # 클래스 이름, 변수 이름(띄어쓰기)\n",
    "a = Person('Kim', 33)"
   ]
  },
  {
   "cell_type": "code",
   "execution_count": 5,
   "id": "ce12a7c2-1eb1-4713-b0a5-68ab99457a43",
   "metadata": {},
   "outputs": [
    {
     "data": {
      "text/plain": [
       "'Kim'"
      ]
     },
     "execution_count": 5,
     "metadata": {},
     "output_type": "execute_result"
    }
   ],
   "source": [
    "a.name"
   ]
  },
  {
   "cell_type": "code",
   "execution_count": 6,
   "id": "3a9a717e-090f-4d0a-b626-94d57e877618",
   "metadata": {},
   "outputs": [
    {
     "data": {
      "text/plain": [
       "33"
      ]
     },
     "execution_count": 6,
     "metadata": {},
     "output_type": "execute_result"
    }
   ],
   "source": [
    "a.age"
   ]
  },
  {
   "cell_type": "code",
   "execution_count": 7,
   "id": "ee518ae0-8922-4b4c-963c-d23b120499d5",
   "metadata": {},
   "outputs": [
    {
     "data": {
      "text/plain": [
       "Person(name='lee', age=33)"
      ]
     },
     "execution_count": 7,
     "metadata": {},
     "output_type": "execute_result"
    }
   ],
   "source": [
    "a._replace(name = 'lee')"
   ]
  },
  {
   "cell_type": "code",
   "execution_count": 8,
   "id": "556c543c-1b2f-418b-8dc5-462e04b7a969",
   "metadata": {},
   "outputs": [],
   "source": [
    "from dataclasses import dataclass\n",
    "\n",
    "@dataclass\n",
    "class Person:\n",
    "    name: str\n",
    "    age : str"
   ]
  },
  {
   "cell_type": "code",
   "execution_count": 9,
   "id": "8f994c92-0cc7-436d-a688-2a214c3acd85",
   "metadata": {},
   "outputs": [],
   "source": [
    "a = Person('Kim', 33)"
   ]
  },
  {
   "cell_type": "code",
   "execution_count": 12,
   "id": "44194754-cd58-4535-851c-d3959ef4829b",
   "metadata": {},
   "outputs": [
    {
     "data": {
      "text/plain": [
       "'Kim'"
      ]
     },
     "execution_count": 12,
     "metadata": {},
     "output_type": "execute_result"
    }
   ],
   "source": [
    "a.name"
   ]
  },
  {
   "cell_type": "code",
   "execution_count": null,
   "id": "7d4c8261-1f46-4391-954f-ad1508eb2ac3",
   "metadata": {},
   "outputs": [],
   "source": []
  }
 ],
 "metadata": {
  "kernelspec": {
   "display_name": "Python 3 (ipykernel)",
   "language": "python",
   "name": "python3"
  },
  "language_info": {
   "codemirror_mode": {
    "name": "ipython",
    "version": 3
   },
   "file_extension": ".py",
   "mimetype": "text/x-python",
   "name": "python",
   "nbconvert_exporter": "python",
   "pygments_lexer": "ipython3",
   "version": "3.9.7"
  }
 },
 "nbformat": 4,
 "nbformat_minor": 5
}
