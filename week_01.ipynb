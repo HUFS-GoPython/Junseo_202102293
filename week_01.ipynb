{
 "cells": [
  {
   "cell_type": "code",
   "execution_count": 5,
   "id": "4cae2063",
   "metadata": {},
   "outputs": [],
   "source": [
    "# run: shift + enter"
   ]
  },
  {
   "cell_type": "markdown",
   "id": "a6be1485",
   "metadata": {},
   "source": [
    "### 프로그래밍이란?\n",
    "\n",
    "- programming: 프로그래밍 언어를 사용하여 프로그램을 개발하는 것. \n",
    "- program: 일련의 작업을 자동화하는 것.\n",
    "- python: 프로그래밍 언어 중 하나. 인간이 컴퓨터에게 작업을 명령하기 위해 사용하는 컴퓨터가 이해할 수 있는 언어.\n",
    "- programming language: 프로그램을 개발할 때 쓰는 도구.\n",
    "- 인간이 원하는 것을 컴퓨터에게 명령할 때, 컴퓨터가 이해할 수 있는 언어 (프로그래밍의 의의)\n",
    "- 논리적인 사고를 할 수 있다. (파이썬의 의의)\n",
    "- 쉽고 간결, 라이브러리 많다."
   ]
  },
  {
   "cell_type": "markdown",
   "id": "18fd2929",
   "metadata": {},
   "source": [
    "#### Ch2. Data: Types, Values, Variables, and Names\n",
    "\n",
    "a = 2\n",
    "\n",
    "- markdown = m+\n",
    "- 변수 variable(i.e.a): 특정 값을 저장하는 공간, 컴퓨터 언어의 핵심개념\n",
    "- 값 (value): 2\n",
    "- 자료형 (type): 2가 어떤 타입인가?\n",
    "- 할당 (assign): 2를 a에 넣는 과정\n",
    "    - a가 2다? a == 2 (equal) 할당과 같다는 다르다.\n",
    "    - 즉, a = 2는 a라는 변수에 2를 대입한 것이고, a == 2는 a가 2와 같다는 것이다.\n",
    "    - 변수는 장소가 아니라 이름이다.\n",
    "    - 두 개 이상의 변수 이름에 동시에 값을 지정할 수 있다. 예) two = deux = 2\n"
   ]
  },
  {
   "cell_type": "code",
   "execution_count": 8,
   "id": "8d5281b1",
   "metadata": {},
   "outputs": [
    {
     "data": {
      "text/plain": [
       "2"
      ]
     },
     "execution_count": 8,
     "metadata": {},
     "output_type": "execute_result"
    }
   ],
   "source": [
    "a"
   ]
  },
  {
   "cell_type": "code",
   "execution_count": 9,
   "id": "91a516f1",
   "metadata": {},
   "outputs": [
    {
     "data": {
      "text/plain": [
       "True"
      ]
     },
     "execution_count": 9,
     "metadata": {},
     "output_type": "execute_result"
    }
   ],
   "source": [
    "a == 2"
   ]
  },
  {
   "cell_type": "markdown",
   "id": "caee6155",
   "metadata": {},
   "source": [
    "### 변수의 타입\n",
    "  - boolean(불리언: True, False)- bool\n",
    "  - integer(정수: 1, 2, 3, 4, ...)-int\n",
    "  - floating point(부동 소수점: 1.0, 2.0, 0.45, ...)- float\n",
    "  - string(문자열: \"\" 안에 써야함 \"apple\")- str"
   ]
  },
  {
   "cell_type": "code",
   "execution_count": 10,
   "id": "26036080",
   "metadata": {},
   "outputs": [
    {
     "name": "stdout",
     "output_type": "stream",
     "text": [
      "34\n"
     ]
    }
   ],
   "source": [
    "num = 34\n",
    "print(num)"
   ]
  },
  {
   "cell_type": "code",
   "execution_count": 11,
   "id": "ef716680",
   "metadata": {},
   "outputs": [
    {
     "data": {
      "text/plain": [
       "int"
      ]
     },
     "execution_count": 11,
     "metadata": {},
     "output_type": "execute_result"
    }
   ],
   "source": [
    "type(num)"
   ]
  },
  {
   "cell_type": "code",
   "execution_count": 12,
   "id": "c59b6a38",
   "metadata": {},
   "outputs": [
    {
     "data": {
      "text/plain": [
       "float"
      ]
     },
     "execution_count": 12,
     "metadata": {},
     "output_type": "execute_result"
    }
   ],
   "source": [
    "type(10.8)"
   ]
  },
  {
   "cell_type": "code",
   "execution_count": 13,
   "id": "ba6c9445",
   "metadata": {},
   "outputs": [
    {
     "data": {
      "text/plain": [
       "bool"
      ]
     },
     "execution_count": 13,
     "metadata": {},
     "output_type": "execute_result"
    }
   ],
   "source": [
    "type(a == 2)"
   ]
  },
  {
   "cell_type": "code",
   "execution_count": 14,
   "id": "e7a37037",
   "metadata": {},
   "outputs": [
    {
     "name": "stdout",
     "output_type": "stream",
     "text": [
      "junseo\n"
     ]
    }
   ],
   "source": [
    "name = 'junseo'\n",
    "print(name)"
   ]
  },
  {
   "cell_type": "code",
   "execution_count": 15,
   "id": "14c07865",
   "metadata": {},
   "outputs": [
    {
     "data": {
      "text/plain": [
       "str"
      ]
     },
     "execution_count": 15,
     "metadata": {},
     "output_type": "execute_result"
    }
   ],
   "source": [
    "type(name)"
   ]
  },
  {
   "cell_type": "code",
   "execution_count": 19,
   "id": "3e52384e",
   "metadata": {},
   "outputs": [
    {
     "name": "stdout",
     "output_type": "stream",
     "text": [
      "you're good\n",
      "you're good\n"
     ]
    }
   ],
   "source": [
    "# 변수명으로 인식, 없는 변수 => 에러 my_name\n",
    "# single quote 안에 single quite를 문자로 인식\n",
    "# you're good\n",
    "\n",
    "# 1. \\ 사용\n",
    "print('you\\'re good')\n",
    "\n",
    "#2. \"\"사용\n",
    "print(\"you're good\")"
   ]
  },
  {
   "cell_type": "markdown",
   "id": "ca9bf7e1",
   "metadata": {},
   "source": [
    "### 변수명 정하기\n",
    "- 소문자(a ~ z), 대문자(A ~ Z), 숫자(0~9), 언더바(_) 사용한다. 예: 'name', 'my_name' 불가능한 예: 'my-name', '3name'\n",
    "- 변수명으로 사용할 수 없는 케이스\n",
    "    1. 숫자로는 시작할 수 없음.\n",
    "    2. 예약어는 사용할 수 없음.\n",
    "    "
   ]
  },
  {
   "cell_type": "code",
   "execution_count": 31,
   "id": "aa1b19d7",
   "metadata": {},
   "outputs": [
    {
     "data": {
      "text/plain": [
       "'yun'"
      ]
     },
     "execution_count": 31,
     "metadata": {},
     "output_type": "execute_result"
    }
   ],
   "source": [
    "name = 'yun'\n",
    "name"
   ]
  },
  {
   "cell_type": "code",
   "execution_count": 23,
   "id": "9aa46fd8",
   "metadata": {},
   "outputs": [],
   "source": [
    "# 변수명 정하기 -1. 77name = Baek"
   ]
  },
  {
   "cell_type": "code",
   "execution_count": 30,
   "id": "8bc9bcfe",
   "metadata": {},
   "outputs": [],
   "source": [
    "# 변수명 정하기-2.\n",
    "# 예: def = \"Hwang\", 즉 def, False, True 등은 예약어이므로 변수명으로 사용하면 안된다.\n"
   ]
  },
  {
   "cell_type": "markdown",
   "id": "b3c2dc17",
   "metadata": {},
   "source": [
    "### 주의할 점 (특별한 용도가 있어서 일반적으로 사용하지 않는 변수명 타입)\n",
    "1. 언더바로 시작하는 변수명 예: _name\n",
    "2. 언더바가 2개 있는 변수명 예: name\n",
    "3. 대문자로 시작하는 변수명 예: Car\n",
    "4. 전체가 대문자인 변수명 예: CAR"
   ]
  },
  {
   "cell_type": "code",
   "execution_count": 32,
   "id": "19dbec4d",
   "metadata": {},
   "outputs": [],
   "source": [
    "# number != Number\n",
    "word1 = 'number'\n",
    "word2 = 'Number'"
   ]
  },
  {
   "cell_type": "code",
   "execution_count": 33,
   "id": "896448d6",
   "metadata": {},
   "outputs": [
    {
     "data": {
      "text/plain": [
       "False"
      ]
     },
     "execution_count": 33,
     "metadata": {},
     "output_type": "execute_result"
    }
   ],
   "source": [
    "word1 == word2 #대소문자 구분"
   ]
  },
  {
   "cell_type": "code",
   "execution_count": 34,
   "id": "13c27a72",
   "metadata": {},
   "outputs": [
    {
     "data": {
      "text/plain": [
       "True"
      ]
     },
     "execution_count": 34,
     "metadata": {},
     "output_type": "execute_result"
    }
   ],
   "source": [
    "word1 != word2"
   ]
  },
  {
   "cell_type": "code",
   "execution_count": 35,
   "id": "71fdf14e",
   "metadata": {},
   "outputs": [
    {
     "name": "stdout",
     "output_type": "stream",
     "text": [
      "\n",
      "Here is a list of the Python keywords.  Enter any keyword to get more help.\n",
      "\n",
      "False               break               for                 not\n",
      "None                class               from                or\n",
      "True                continue            global              pass\n",
      "__peg_parser__      def                 if                  raise\n",
      "and                 del                 import              return\n",
      "as                  elif                in                  try\n",
      "assert              else                is                  while\n",
      "async               except              lambda              with\n",
      "await               finally             nonlocal            yield\n",
      "\n"
     ]
    }
   ],
   "source": [
    "help('keywords') #예약어 알려줌"
   ]
  },
  {
   "cell_type": "markdown",
   "id": "7721318e",
   "metadata": {},
   "source": [
    "#### 할당하기\n",
    "- 수학에서는 =가 양변이 같음을 의미하는데, 프로그램에서는 할당을 의미한다. 예: name = 'Yun'\n",
    "    - Yun이라는 값을 name에 넣는 것.\n",
    "- 오른쪽에 있는 모든 것은 값을 가져야 한다. (\"초기화\")\n",
    "- 오른쪽의 값을 왼쪽에 할당한다.\n",
    "- 예) y = x + 5를 계산 => x = 4라고 할당해주기 => y = x + 5 => y = 9가 나온다.\n",
    "- 처음부터 y = x + 5로 프로그램을 시작하면 변수 x에 값이 없으므로 오류가 발생한다."
   ]
  },
  {
   "cell_type": "code",
   "execution_count": 39,
   "id": "c4c6b3b2",
   "metadata": {},
   "outputs": [],
   "source": [
    "y = x + 5"
   ]
  },
  {
   "cell_type": "code",
   "execution_count": 41,
   "id": "3f2ed77b",
   "metadata": {},
   "outputs": [
    {
     "data": {
      "text/plain": [
       "9"
      ]
     },
     "execution_count": 41,
     "metadata": {},
     "output_type": "execute_result"
    }
   ],
   "source": [
    "x = 4\n",
    "y = x + 5\n",
    "y"
   ]
  },
  {
   "cell_type": "code",
   "execution_count": 42,
   "id": "aa190e5a",
   "metadata": {},
   "outputs": [],
   "source": [
    "car = 'hyundai'"
   ]
  },
  {
   "cell_type": "code",
   "execution_count": 43,
   "id": "f8c7605a",
   "metadata": {},
   "outputs": [],
   "source": [
    "kia = 'kia' # 값을 초기화 하는 것 -> 가능\n",
    "truck = kia # 없는 값 -> 오류"
   ]
  },
  {
   "cell_type": "code",
   "execution_count": 44,
   "id": "0337c041",
   "metadata": {},
   "outputs": [
    {
     "name": "stdout",
     "output_type": "stream",
     "text": [
      "4 13\n"
     ]
    }
   ],
   "source": [
    "x = 4\n",
    "y = x + 9 # name 'x' is not defined\n",
    "print(x,y)"
   ]
  },
  {
   "cell_type": "code",
   "execution_count": 45,
   "id": "a84005b6",
   "metadata": {},
   "outputs": [
    {
     "data": {
      "text/plain": [
       "str"
      ]
     },
     "execution_count": 45,
     "metadata": {},
     "output_type": "execute_result"
    }
   ],
   "source": [
    "type(car)"
   ]
  },
  {
   "cell_type": "code",
   "execution_count": 46,
   "id": "020a28ed",
   "metadata": {},
   "outputs": [],
   "source": [
    "# str car = 'kia'\n",
    "car = 'kia'"
   ]
  },
  {
   "cell_type": "code",
   "execution_count": 47,
   "id": "bded778a",
   "metadata": {},
   "outputs": [],
   "source": [
    "#hyundai가 아닌 kia로 나옴, 변수명 헷갈리지 않게 설정하기\n",
    "# 변수 이름을 설정할 때 안좋은 예: a, b, c, ... 알파벳 하나로 설정하는 것/ num1, num2, num3, ... 하나의 변수 이름에 숫자로 나누기 등은 헷갈릴 수 있음. \n",
    "# 의미 있는 이름으로 선언해야한다."
   ]
  },
  {
   "cell_type": "code",
   "execution_count": 48,
   "id": "4e676ba9",
   "metadata": {},
   "outputs": [
    {
     "name": "stdout",
     "output_type": "stream",
     "text": [
      "kia\n"
     ]
    }
   ],
   "source": [
    "print(car)"
   ]
  },
  {
   "cell_type": "code",
   "execution_count": null,
   "id": "2b528687",
   "metadata": {},
   "outputs": [],
   "source": []
  }
 ],
 "metadata": {
  "kernelspec": {
   "display_name": "Python 3 (ipykernel)",
   "language": "python",
   "name": "python3"
  },
  "language_info": {
   "codemirror_mode": {
    "name": "ipython",
    "version": 3
   },
   "file_extension": ".py",
   "mimetype": "text/x-python",
   "name": "python",
   "nbconvert_exporter": "python",
   "pygments_lexer": "ipython3",
   "version": "3.9.7"
  }
 },
 "nbformat": 4,
 "nbformat_minor": 5
}
