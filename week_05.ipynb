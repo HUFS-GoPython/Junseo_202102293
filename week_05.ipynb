{
 "cells": [
  {
   "cell_type": "code",
   "execution_count": 1,
   "id": "513a17d3-38c4-4dbe-b37d-013b109d5d60",
   "metadata": {},
   "outputs": [
    {
     "name": "stdout",
     "output_type": "stream",
     "text": [
      "*** Introductory Examples for the NLTK Book ***\n",
      "Loading text1, ..., text9 and sent1, ..., sent9\n",
      "Type the name of the text or sentence to view it.\n",
      "Type: 'texts()' or 'sents()' to list the materials.\n",
      "text1: Moby Dick by Herman Melville 1851\n",
      "text2: Sense and Sensibility by Jane Austen 1811\n",
      "text3: The Book of Genesis\n",
      "text4: Inaugural Address Corpus\n",
      "text5: Chat Corpus\n",
      "text6: Monty Python and the Holy Grail\n",
      "text7: Wall Street Journal\n",
      "text8: Personals Corpus\n",
      "text9: The Man Who Was Thursday by G . K . Chesterton 1908\n"
     ]
    },
    {
     "data": {
      "text/plain": [
       "True"
      ]
     },
     "execution_count": 1,
     "metadata": {},
     "output_type": "execute_result"
    }
   ],
   "source": [
    "import nltk\n",
    "from nltk.book import*\n",
    "nltk.download('book', quiet = True) # nltk import 하는 거 계속 반복"
   ]
  },
  {
   "cell_type": "markdown",
   "id": "46b72907-775a-4e99-a3dc-5ec32b090e37",
   "metadata": {},
   "source": [
    "## 반복문\n",
    "- for, while\n",
    "\n",
    "\n",
    "### while\n",
    "- 어던 조건이 만족할 때까지 블록 수행\n",
    "- 해당 조건이 거짓이면 수행 멈춘다\n",
    "    - 언제 빠져나오는지 정확히 알기\n",
    "\n",
    "- for + if 가능\n",
    "\n",
    "#### for vs. while\n",
    "- for loop: 반복 횟수 정확히 알고, 반복 횟수 변하지 않을 때\n",
    "    - 예: 전체 학생 성적 산출\n",
    "- while loop: 반복 횟수 정확하지 않고, 어떤 조건을 만족시킬 때 프로그램 종료하고 싶다면 사용\n",
    "    - 예: 가위바위보로 이기면 종료"
   ]
  },
  {
   "cell_type": "code",
   "execution_count": 4,
   "id": "0da71c9f-f625-4859-b40a-49935b6f382a",
   "metadata": {},
   "outputs": [
    {
     "name": "stdout",
     "output_type": "stream",
     "text": [
      "*** Introductory Examples for the NLTK Book ***\n",
      "Loading text1, ..., text9 and sent1, ..., sent9\n",
      "Type the name of the text or sentence to view it.\n",
      "Type: 'texts()' or 'sents()' to list the materials.\n",
      "text1: Moby Dick by Herman Melville 1851\n",
      "text2: Sense and Sensibility by Jane Austen 1811\n",
      "text3: The Book of Genesis\n",
      "text4: Inaugural Address Corpus\n",
      "text5: Chat Corpus\n",
      "text6: Monty Python and the Holy Grail\n",
      "text7: Wall Street Journal\n",
      "text8: Personals Corpus\n",
      "text9: The Man Who Was Thursday by G . K . Chesterton 1908\n"
     ]
    }
   ],
   "source": [
    "import nltk\n",
    "from nltk.book import*"
   ]
  },
  {
   "cell_type": "code",
   "execution_count": 7,
   "id": "16f6316c-8248-48ae-b2d9-879d1c8d3207",
   "metadata": {
    "tags": []
   },
   "outputs": [],
   "source": [
    "# [word for word in text1.tokens]"
   ]
  },
  {
   "cell_type": "code",
   "execution_count": 8,
   "id": "0de7741f-1ac4-4ae4-b3a3-e1a4b6345c1d",
   "metadata": {
    "tags": []
   },
   "outputs": [],
   "source": [
    "# for word in text1. tokens:\n",
    "    # print(word)  # 컴프리헨션에서 for문으로! #대괄호 없어짐"
   ]
  },
  {
   "cell_type": "code",
   "execution_count": 11,
   "id": "3f835853-01a5-46ed-ba56-c33ab41f2982",
   "metadata": {
    "tags": []
   },
   "outputs": [
    {
     "name": "stdout",
     "output_type": "stream",
     "text": [
      "1\n",
      "2\n",
      "3\n",
      "4\n",
      "5\n"
     ]
    }
   ],
   "source": [
    "j = 0 # while 문에서는 항상 변수를 초기화 시켜줘야 한다.\n",
    "while j < 5:\n",
    "    j += 1\n",
    "    print(j)"
   ]
  },
  {
   "cell_type": "code",
   "execution_count": 12,
   "id": "d14538a2-4490-48c1-9f12-bcabbb462c28",
   "metadata": {},
   "outputs": [
    {
     "data": {
      "text/plain": [
       "5"
      ]
     },
     "execution_count": 12,
     "metadata": {},
     "output_type": "execute_result"
    }
   ],
   "source": [
    "# j값은?\n",
    "j"
   ]
  },
  {
   "cell_type": "code",
   "execution_count": 1,
   "id": "b00a036f-1287-44e7-9ad0-72f4809a1c0d",
   "metadata": {},
   "outputs": [
    {
     "name": "stdout",
     "output_type": "stream",
     "text": [
      "a\n",
      "b\n",
      "c\n"
     ]
    }
   ],
   "source": [
    "characters = ['a', 'b', 'c']\n",
    "for ch in characters:\n",
    "    print(ch)"
   ]
  },
  {
   "cell_type": "code",
   "execution_count": 2,
   "id": "0029b406-dd86-47bc-860d-26feac6e5941",
   "metadata": {},
   "outputs": [
    {
     "name": "stdout",
     "output_type": "stream",
     "text": [
      "a\n",
      "b\n",
      "c\n"
     ]
    }
   ],
   "source": [
    "ch = 0\n",
    "while ch < len(characters):\n",
    "    print(characters[ch])\n",
    "    ch += 1\n"
   ]
  },
  {
   "cell_type": "code",
   "execution_count": 3,
   "id": "7d4d2ede-d32a-4fbd-8e97-8e2f3b345161",
   "metadata": {
    "tags": []
   },
   "outputs": [
    {
     "data": {
      "text/plain": [
       "3"
      ]
     },
     "execution_count": 3,
     "metadata": {},
     "output_type": "execute_result"
    }
   ],
   "source": [
    "# ch 값?\n",
    "ch"
   ]
  },
  {
   "cell_type": "markdown",
   "id": "37dd91e8-c3d2-4bff-aee3-133a99a6b681",
   "metadata": {},
   "source": [
    "### 반복문의 제어\n",
    "- 의도치 않게 코드를 종료시킬 수 있기 때문에 잘 쓰지 않는다.\n",
    "\n",
    "- break: 논리적으로 반복을 종료시킴 break 시점을 잘 알아놓기.\n",
    "- else: 어떤 조건이 '완전히' 끝났을 때 한번 더 실행하는 블록. break로 끝난 것과 구분할 수 있다. 들여쓰기는 for, while에 맞춰서\n",
    "- continue: 특정 조건을 건너뛰고 다음 조건을 수행."
   ]
  },
  {
   "cell_type": "markdown",
   "id": "1e854c5f-38aa-4004-ae5b-cbb5a31b832d",
   "metadata": {
    "tags": []
   },
   "source": [
    "### 구구단\n",
    "- 1. for, while 선택한 뒤, n단을 입력받아 출력한다.\n",
    "    - 출력: == 3단 ==\n",
    "            3 x 1 = 3 \n",
    "            3 x 2 = 6\n",
    "            . . .\n",
    "            \n",
    "            \n",
    "- 2. 1 ~ n단까지 출력한다.\n",
    "- 3. 시작단, 끝단 둘다 입력받을 것 # 여기 못함\n",
    "    - 예: 4 - 7단\n",
    "- 4. 프로그램으로 만든다. # 여기도 못함\n",
    "    - 1) n단  2) 1 ~ n단 3) n ~ n단\n",
    "    - n, m"
   ]
  },
  {
   "cell_type": "code",
   "execution_count": 13,
   "id": "2db50105-38f2-4806-bd24-9804512abc9b",
   "metadata": {
    "collapsed": true,
    "jupyter": {
     "outputs_hidden": true
    },
    "tags": []
   },
   "outputs": [
    {
     "name": "stdin",
     "output_type": "stream",
     "text": [
      "몇 단까지 출력할깝숑? 3\n"
     ]
    },
    {
     "name": "stdout",
     "output_type": "stream",
     "text": [
      "== 3단 ==\n",
      "3 x 1 = 3\n",
      "3 x 2 = 6\n",
      "3 x 3 = 9\n",
      "3 x 4 = 12\n",
      "3 x 5 = 15\n",
      "3 x 6 = 18\n",
      "3 x 7 = 21\n",
      "3 x 8 = 24\n",
      "3 x 9 = 27\n"
     ]
    }
   ],
   "source": [
    "# 1번\n",
    "num = int(input('몇 단까지 출력할깝숑?'))\n",
    "for i in range(1):\n",
    "    print(f'== {num}단 ==')\n",
    "for j in range(1,10):\n",
    "    print(f'{num} x {j} = {num * j}')\n",
    "\n",
    "# 다시 한번 풀어보자 ... 해결 !"
   ]
  },
  {
   "cell_type": "code",
   "execution_count": 14,
   "id": "9d5a6042-3b22-44e7-a52b-86e41f7af148",
   "metadata": {
    "collapsed": true,
    "jupyter": {
     "outputs_hidden": true
    },
    "tags": []
   },
   "outputs": [
    {
     "name": "stdin",
     "output_type": "stream",
     "text": [
      "몇 단까지 출력할까요? 6\n"
     ]
    },
    {
     "name": "stdout",
     "output_type": "stream",
     "text": [
      "== 1단 ==\n",
      "1 x 1 = 6\n",
      "1 x 2 = 12\n",
      "1 x 3 = 18\n",
      "1 x 4 = 24\n",
      "1 x 5 = 30\n",
      "1 x 6 = 36\n",
      "1 x 7 = 42\n",
      "1 x 8 = 48\n",
      "1 x 9 = 54\n",
      "== 2단 ==\n",
      "2 x 1 = 6\n",
      "2 x 2 = 12\n",
      "2 x 3 = 18\n",
      "2 x 4 = 24\n",
      "2 x 5 = 30\n",
      "2 x 6 = 36\n",
      "2 x 7 = 42\n",
      "2 x 8 = 48\n",
      "2 x 9 = 54\n",
      "== 3단 ==\n",
      "3 x 1 = 6\n",
      "3 x 2 = 12\n",
      "3 x 3 = 18\n",
      "3 x 4 = 24\n",
      "3 x 5 = 30\n",
      "3 x 6 = 36\n",
      "3 x 7 = 42\n",
      "3 x 8 = 48\n",
      "3 x 9 = 54\n",
      "== 4단 ==\n",
      "4 x 1 = 6\n",
      "4 x 2 = 12\n",
      "4 x 3 = 18\n",
      "4 x 4 = 24\n",
      "4 x 5 = 30\n",
      "4 x 6 = 36\n",
      "4 x 7 = 42\n",
      "4 x 8 = 48\n",
      "4 x 9 = 54\n",
      "== 5단 ==\n",
      "5 x 1 = 6\n",
      "5 x 2 = 12\n",
      "5 x 3 = 18\n",
      "5 x 4 = 24\n",
      "5 x 5 = 30\n",
      "5 x 6 = 36\n",
      "5 x 7 = 42\n",
      "5 x 8 = 48\n",
      "5 x 9 = 54\n",
      "== 6단 ==\n",
      "6 x 1 = 6\n",
      "6 x 2 = 12\n",
      "6 x 3 = 18\n",
      "6 x 4 = 24\n",
      "6 x 5 = 30\n",
      "6 x 6 = 36\n",
      "6 x 7 = 42\n",
      "6 x 8 = 48\n",
      "6 x 9 = 54\n"
     ]
    }
   ],
   "source": [
    "# 2번\n",
    "num = int(input('몇 단까지 출력할까요?'))\n",
    "for i in range(1, num + 1):\n",
    "    print(f'== {i}단 ==')\n",
    "    for j in range(1,10):\n",
    "        print(f'{i} x {j} = {num * j}')"
   ]
  },
  {
   "cell_type": "code",
   "execution_count": null,
   "id": "c1546d01-9852-4710-b5bb-0037152fccef",
   "metadata": {},
   "outputs": [],
   "source": [
    "# 3번\n",
    "num = int(input('시작 단을 입력하세요: '))\n",
    "num = int(input('끝 단을 입력하세요: '))\n",
    "\n",
    "for i in range(num, "
   ]
  },
  {
   "cell_type": "markdown",
   "id": "9be24a84-fae9-4e81-a41d-06438ed6a285",
   "metadata": {
    "tags": []
   },
   "source": [
    "### print formating\n",
    "- 1. f string\n",
    "    - f, F 둘다 가능\n",
    "    - f'{var}'\n",
    "- 2. format \n",
    "    - '{}'.format(var)\n",
    "- 3. % (구식)\n",
    "    - ' % type ' % var\n",
    "\n"
   ]
  },
  {
   "cell_type": "code",
   "execution_count": 4,
   "id": "4aac951e-ec4c-4de3-a8eb-7adb910d8328",
   "metadata": {},
   "outputs": [
    {
     "name": "stdout",
     "output_type": "stream",
     "text": [
      "너의 이름은 lee입니다.\n"
     ]
    }
   ],
   "source": [
    "name = 'lee'\n",
    "print('너의 이름은 %s입니다.' %name) # %문자열, % 변수명(name)"
   ]
  },
  {
   "cell_type": "markdown",
   "id": "faa18201-da66-460a-b859-41af8378f25d",
   "metadata": {
    "tags": []
   },
   "source": [
    "### NLTK: corpus(말뭉치)\n",
    "- 다양한 종류의 코퍼스가 있다.\n",
    "- 더 다양한 언어 분석이 가능\n",
    "\n",
    "- 종류\n",
    "- gutenberg (저작권이 끝난 문학작품)\n",
    "- brown\n",
    "- inaugural\n",
    "\n",
    "- 함수\n",
    "   - words()\n",
    "   - sents()\n",
    "   - fileids()\n",
    "   - raw()"
   ]
  },
  {
   "cell_type": "code",
   "execution_count": 28,
   "id": "a3b49ff3-7175-4bc8-a0e8-015a39064d82",
   "metadata": {},
   "outputs": [
    {
     "data": {
      "text/plain": [
       "True"
      ]
     },
     "execution_count": 28,
     "metadata": {},
     "output_type": "execute_result"
    }
   ],
   "source": [
    "import nltk\n",
    "from nltk.corpus import gutenberg \n",
    "nltk.download('gutenberg', quiet = True)"
   ]
  },
  {
   "cell_type": "code",
   "execution_count": 30,
   "id": "a010ef00-ded7-4c80-ae23-ddb249bbf26e",
   "metadata": {},
   "outputs": [
    {
     "data": {
      "text/plain": [
       "['[', 'Emma', 'by', 'Jane', 'Austen', '1816', ']', ...]"
      ]
     },
     "execution_count": 30,
     "metadata": {},
     "output_type": "execute_result"
    }
   ],
   "source": [
    "gutenberg.words() # tokens가 아닌 words로 접근"
   ]
  },
  {
   "cell_type": "code",
   "execution_count": 31,
   "id": "06045c98-c6e4-42ff-b641-d7f89c0a6adc",
   "metadata": {
    "collapsed": true,
    "jupyter": {
     "outputs_hidden": true
    },
    "tags": []
   },
   "outputs": [
    {
     "data": {
      "text/plain": [
       "['austen-emma.txt',\n",
       " 'austen-persuasion.txt',\n",
       " 'austen-sense.txt',\n",
       " 'bible-kjv.txt',\n",
       " 'blake-poems.txt',\n",
       " 'bryant-stories.txt',\n",
       " 'burgess-busterbrown.txt',\n",
       " 'carroll-alice.txt',\n",
       " 'chesterton-ball.txt',\n",
       " 'chesterton-brown.txt',\n",
       " 'chesterton-thursday.txt',\n",
       " 'edgeworth-parents.txt',\n",
       " 'melville-moby_dick.txt',\n",
       " 'milton-paradise.txt',\n",
       " 'shakespeare-caesar.txt',\n",
       " 'shakespeare-hamlet.txt',\n",
       " 'shakespeare-macbeth.txt',\n",
       " 'whitman-leaves.txt']"
      ]
     },
     "execution_count": 31,
     "metadata": {},
     "output_type": "execute_result"
    }
   ],
   "source": [
    "gutenberg.fileids()"
   ]
  },
  {
   "cell_type": "code",
   "execution_count": 18,
   "id": "f91b872f-58ba-475f-98d4-efcf1736d8a3",
   "metadata": {},
   "outputs": [
    {
     "ename": "SyntaxError",
     "evalue": "invalid syntax (1802353237.py, line 4)",
     "output_type": "error",
     "traceback": [
      "\u001b[1;36m  Input \u001b[1;32mIn [18]\u001b[1;36m\u001b[0m\n\u001b[1;33m    print(len(gutenberg.sents(files))\u001b[0m\n\u001b[1;37m    ^\u001b[0m\n\u001b[1;31mSyntaxError\u001b[0m\u001b[1;31m:\u001b[0m invalid syntax\n"
     ]
    }
   ],
   "source": [
    "for files in gutenberg.fileids():\n",
    "    print(files)\n",
    "    print(len(gutenberg.words(files))\n",
    "    print(len(gutenberg.sents(files))\n",
    "    print(len(gutenberg.raw(files))  # ...?\n",
    "          \n",
    "          "
   ]
  },
  {
   "cell_type": "code",
   "execution_count": 47,
   "id": "22b7c17e-cfcd-48d1-9dbb-80378d7dc7c3",
   "metadata": {
    "collapsed": true,
    "jupyter": {
     "outputs_hidden": true
    },
    "tags": []
   },
   "outputs": [
    {
     "name": "stderr",
     "output_type": "stream",
     "text": [
      "[nltk_data] Downloading collection 'book'\n",
      "[nltk_data]    | \n",
      "[nltk_data]    | Downloading package abc to\n",
      "[nltk_data]    |     C:\\Users\\82103\\AppData\\Roaming\\nltk_data...\n",
      "[nltk_data]    |   Package abc is already up-to-date!\n",
      "[nltk_data]    | Downloading package brown to\n",
      "[nltk_data]    |     C:\\Users\\82103\\AppData\\Roaming\\nltk_data...\n",
      "[nltk_data]    |   Package brown is already up-to-date!\n",
      "[nltk_data]    | Downloading package chat80 to\n",
      "[nltk_data]    |     C:\\Users\\82103\\AppData\\Roaming\\nltk_data...\n",
      "[nltk_data]    |   Package chat80 is already up-to-date!\n",
      "[nltk_data]    | Downloading package cmudict to\n",
      "[nltk_data]    |     C:\\Users\\82103\\AppData\\Roaming\\nltk_data...\n",
      "[nltk_data]    |   Package cmudict is already up-to-date!\n",
      "[nltk_data]    | Downloading package conll2000 to\n",
      "[nltk_data]    |     C:\\Users\\82103\\AppData\\Roaming\\nltk_data...\n",
      "[nltk_data]    |   Package conll2000 is already up-to-date!\n",
      "[nltk_data]    | Downloading package conll2002 to\n",
      "[nltk_data]    |     C:\\Users\\82103\\AppData\\Roaming\\nltk_data...\n",
      "[nltk_data]    |   Package conll2002 is already up-to-date!\n",
      "[nltk_data]    | Downloading package dependency_treebank to\n",
      "[nltk_data]    |     C:\\Users\\82103\\AppData\\Roaming\\nltk_data...\n",
      "[nltk_data]    |   Package dependency_treebank is already up-to-date!\n",
      "[nltk_data]    | Downloading package genesis to\n",
      "[nltk_data]    |     C:\\Users\\82103\\AppData\\Roaming\\nltk_data...\n",
      "[nltk_data]    |   Package genesis is already up-to-date!\n",
      "[nltk_data]    | Downloading package gutenberg to\n",
      "[nltk_data]    |     C:\\Users\\82103\\AppData\\Roaming\\nltk_data...\n",
      "[nltk_data]    |   Package gutenberg is already up-to-date!\n",
      "[nltk_data]    | Downloading package ieer to\n",
      "[nltk_data]    |     C:\\Users\\82103\\AppData\\Roaming\\nltk_data...\n",
      "[nltk_data]    |   Package ieer is already up-to-date!\n",
      "[nltk_data]    | Downloading package inaugural to\n",
      "[nltk_data]    |     C:\\Users\\82103\\AppData\\Roaming\\nltk_data...\n",
      "[nltk_data]    |   Package inaugural is already up-to-date!\n",
      "[nltk_data]    | Downloading package movie_reviews to\n",
      "[nltk_data]    |     C:\\Users\\82103\\AppData\\Roaming\\nltk_data...\n",
      "[nltk_data]    |   Package movie_reviews is already up-to-date!\n",
      "[nltk_data]    | Downloading package nps_chat to\n",
      "[nltk_data]    |     C:\\Users\\82103\\AppData\\Roaming\\nltk_data...\n",
      "[nltk_data]    |   Package nps_chat is already up-to-date!\n",
      "[nltk_data]    | Downloading package names to\n",
      "[nltk_data]    |     C:\\Users\\82103\\AppData\\Roaming\\nltk_data...\n",
      "[nltk_data]    |   Package names is already up-to-date!\n",
      "[nltk_data]    | Downloading package ppattach to\n",
      "[nltk_data]    |     C:\\Users\\82103\\AppData\\Roaming\\nltk_data...\n",
      "[nltk_data]    |   Package ppattach is already up-to-date!\n",
      "[nltk_data]    | Downloading package reuters to\n",
      "[nltk_data]    |     C:\\Users\\82103\\AppData\\Roaming\\nltk_data...\n",
      "[nltk_data]    |   Package reuters is already up-to-date!\n",
      "[nltk_data]    | Downloading package senseval to\n",
      "[nltk_data]    |     C:\\Users\\82103\\AppData\\Roaming\\nltk_data...\n",
      "[nltk_data]    |   Package senseval is already up-to-date!\n",
      "[nltk_data]    | Downloading package state_union to\n",
      "[nltk_data]    |     C:\\Users\\82103\\AppData\\Roaming\\nltk_data...\n",
      "[nltk_data]    |   Package state_union is already up-to-date!\n",
      "[nltk_data]    | Downloading package stopwords to\n",
      "[nltk_data]    |     C:\\Users\\82103\\AppData\\Roaming\\nltk_data...\n",
      "[nltk_data]    |   Package stopwords is already up-to-date!\n",
      "[nltk_data]    | Downloading package swadesh to\n",
      "[nltk_data]    |     C:\\Users\\82103\\AppData\\Roaming\\nltk_data...\n",
      "[nltk_data]    |   Package swadesh is already up-to-date!\n",
      "[nltk_data]    | Downloading package timit to\n",
      "[nltk_data]    |     C:\\Users\\82103\\AppData\\Roaming\\nltk_data...\n",
      "[nltk_data]    |   Package timit is already up-to-date!\n",
      "[nltk_data]    | Downloading package treebank to\n",
      "[nltk_data]    |     C:\\Users\\82103\\AppData\\Roaming\\nltk_data...\n",
      "[nltk_data]    |   Package treebank is already up-to-date!\n",
      "[nltk_data]    | Downloading package toolbox to\n",
      "[nltk_data]    |     C:\\Users\\82103\\AppData\\Roaming\\nltk_data...\n",
      "[nltk_data]    |   Package toolbox is already up-to-date!\n",
      "[nltk_data]    | Downloading package udhr to\n",
      "[nltk_data]    |     C:\\Users\\82103\\AppData\\Roaming\\nltk_data...\n",
      "[nltk_data]    |   Package udhr is already up-to-date!\n",
      "[nltk_data]    | Downloading package udhr2 to\n",
      "[nltk_data]    |     C:\\Users\\82103\\AppData\\Roaming\\nltk_data...\n",
      "[nltk_data]    |   Package udhr2 is already up-to-date!\n",
      "[nltk_data]    | Downloading package unicode_samples to\n",
      "[nltk_data]    |     C:\\Users\\82103\\AppData\\Roaming\\nltk_data...\n",
      "[nltk_data]    |   Package unicode_samples is already up-to-date!\n",
      "[nltk_data]    | Downloading package webtext to\n",
      "[nltk_data]    |     C:\\Users\\82103\\AppData\\Roaming\\nltk_data...\n",
      "[nltk_data]    |   Package webtext is already up-to-date!\n",
      "[nltk_data]    | Downloading package wordnet to\n",
      "[nltk_data]    |     C:\\Users\\82103\\AppData\\Roaming\\nltk_data...\n",
      "[nltk_data]    |   Package wordnet is already up-to-date!\n",
      "[nltk_data]    | Downloading package wordnet_ic to\n",
      "[nltk_data]    |     C:\\Users\\82103\\AppData\\Roaming\\nltk_data...\n",
      "[nltk_data]    |   Package wordnet_ic is already up-to-date!\n",
      "[nltk_data]    | Downloading package words to\n",
      "[nltk_data]    |     C:\\Users\\82103\\AppData\\Roaming\\nltk_data...\n",
      "[nltk_data]    |   Package words is already up-to-date!\n",
      "[nltk_data]    | Downloading package maxent_treebank_pos_tagger to\n",
      "[nltk_data]    |     C:\\Users\\82103\\AppData\\Roaming\\nltk_data...\n",
      "[nltk_data]    |   Package maxent_treebank_pos_tagger is already up-\n",
      "[nltk_data]    |       to-date!\n",
      "[nltk_data]    | Downloading package maxent_ne_chunker to\n",
      "[nltk_data]    |     C:\\Users\\82103\\AppData\\Roaming\\nltk_data...\n",
      "[nltk_data]    |   Package maxent_ne_chunker is already up-to-date!\n",
      "[nltk_data]    | Downloading package universal_tagset to\n",
      "[nltk_data]    |     C:\\Users\\82103\\AppData\\Roaming\\nltk_data...\n",
      "[nltk_data]    |   Package universal_tagset is already up-to-date!\n",
      "[nltk_data]    | Downloading package punkt to\n",
      "[nltk_data]    |     C:\\Users\\82103\\AppData\\Roaming\\nltk_data...\n",
      "[nltk_data]    |   Package punkt is already up-to-date!\n",
      "[nltk_data]    | Downloading package book_grammars to\n",
      "[nltk_data]    |     C:\\Users\\82103\\AppData\\Roaming\\nltk_data...\n",
      "[nltk_data]    |   Package book_grammars is already up-to-date!\n",
      "[nltk_data]    | Downloading package city_database to\n",
      "[nltk_data]    |     C:\\Users\\82103\\AppData\\Roaming\\nltk_data...\n",
      "[nltk_data]    |   Package city_database is already up-to-date!\n",
      "[nltk_data]    | Downloading package tagsets to\n",
      "[nltk_data]    |     C:\\Users\\82103\\AppData\\Roaming\\nltk_data...\n",
      "[nltk_data]    |   Package tagsets is already up-to-date!\n",
      "[nltk_data]    | Downloading package panlex_swadesh to\n",
      "[nltk_data]    |     C:\\Users\\82103\\AppData\\Roaming\\nltk_data...\n",
      "[nltk_data]    |   Package panlex_swadesh is already up-to-date!\n",
      "[nltk_data]    | Downloading package averaged_perceptron_tagger to\n",
      "[nltk_data]    |     C:\\Users\\82103\\AppData\\Roaming\\nltk_data...\n",
      "[nltk_data]    |   Package averaged_perceptron_tagger is already up-\n",
      "[nltk_data]    |       to-date!\n",
      "[nltk_data]    | \n",
      "[nltk_data]  Done downloading collection book\n"
     ]
    },
    {
     "data": {
      "text/plain": [
       "True"
      ]
     },
     "execution_count": 47,
     "metadata": {},
     "output_type": "execute_result"
    }
   ],
   "source": [
    "# nltk.book text 1- 9 ..?\n",
    "from nltk.book import *\n",
    "nltk.download('book')"
   ]
  },
  {
   "cell_type": "code",
   "execution_count": null,
   "id": "7f070dfb-7880-4aa1-86e5-9b783fcb3ea4",
   "metadata": {},
   "outputs": [],
   "source": [
    "texts = [text1, ...]\n",
    "#1. text1-9를 str로 => 'text1', 'text2' ...\n",
    "#2. 'text1'에 기능을 부여. getattr(library, string_name)"
   ]
  },
  {
   "cell_type": "code",
   "execution_count": 50,
   "id": "90f67ffe-4aab-48d9-bbda-fb8212ad6bac",
   "metadata": {},
   "outputs": [
    {
     "data": {
      "text/plain": [
       "[<Text: Moby Dick by Herman Melville 1851>,\n",
       " <Text: Sense and Sensibility by Jane Austen 1811>,\n",
       " <Text: The Book of Genesis>,\n",
       " <Text: Inaugural Address Corpus>,\n",
       " <Text: Chat Corpus>,\n",
       " <Text: Monty Python and the Holy Grail>,\n",
       " <Text: Wall Street Journal>,\n",
       " <Text: Personals Corpus>,\n",
       " <Text: The Man Who Was Thursday by G . K . Chesterton 1908>]"
      ]
     },
     "execution_count": 50,
     "metadata": {},
     "output_type": "execute_result"
    }
   ],
   "source": [
    "text1 = [getattr(nltk.book, f'text{i}') for i in range(1,10)]\n",
    "text1"
   ]
  },
  {
   "cell_type": "code",
   "execution_count": 52,
   "id": "575e8115-ac24-4309-b350-975f3a7f0662",
   "metadata": {},
   "outputs": [
    {
     "data": {
      "text/plain": [
       "<Text: Moby Dick by Herman Melville 1851>"
      ]
     },
     "execution_count": 52,
     "metadata": {},
     "output_type": "execute_result"
    }
   ],
   "source": [
    "text1[0]"
   ]
  },
  {
   "cell_type": "code",
   "execution_count": 60,
   "id": "1b72eb90-6817-45dd-bcec-55dd3e77ab93",
   "metadata": {
    "jp-MarkdownHeadingCollapsed": true,
    "tags": []
   },
   "outputs": [],
   "source": [
    "corpus1 = gutenberg.words(fileids = 'whitman-leaves.txt')\n",
    "fdist = nltk.FreqDist([w.lower() for w in corpus1])"
   ]
  },
  {
   "cell_type": "markdown",
   "id": "2fe559f5-81e4-4f41-944e-1f49033e8859",
   "metadata": {},
   "source": [
    "### Brown\n",
    "- categories()"
   ]
  },
  {
   "cell_type": "code",
   "execution_count": 65,
   "id": "87afe020-7cae-4e3e-ab64-fef0db36d8a0",
   "metadata": {},
   "outputs": [
    {
     "name": "stderr",
     "output_type": "stream",
     "text": [
      "[nltk_data] Downloading package brown to\n",
      "[nltk_data]     C:\\Users\\82103\\AppData\\Roaming\\nltk_data...\n",
      "[nltk_data]   Package brown is already up-to-date!\n"
     ]
    }
   ],
   "source": [
    "#from nltk.corpus import brown\n",
    "nltk.download('brown')\n",
    "brown_corpus = nltk.corpus.brown"
   ]
  },
  {
   "cell_type": "code",
   "execution_count": 54,
   "id": "efbebbcc-0822-4a62-be7c-b3ead759e697",
   "metadata": {
    "collapsed": true,
    "jupyter": {
     "outputs_hidden": true
    },
    "tags": []
   },
   "outputs": [
    {
     "data": {
      "text/plain": [
       "['adventure',\n",
       " 'belles_lettres',\n",
       " 'editorial',\n",
       " 'fiction',\n",
       " 'government',\n",
       " 'hobbies',\n",
       " 'humor',\n",
       " 'learned',\n",
       " 'lore',\n",
       " 'mystery',\n",
       " 'news',\n",
       " 'religion',\n",
       " 'reviews',\n",
       " 'romance',\n",
       " 'science_fiction']"
      ]
     },
     "execution_count": 54,
     "metadata": {},
     "output_type": "execute_result"
    }
   ],
   "source": [
    "brown_corpus.categories()"
   ]
  },
  {
   "cell_type": "code",
   "execution_count": 9,
   "id": "82b0b18d-06ca-43e8-bc13-19a51b0b45d0",
   "metadata": {},
   "outputs": [],
   "source": [
    "humor = brown_corpus.words(categories = 'humor')"
   ]
  },
  {
   "cell_type": "code",
   "execution_count": 24,
   "id": "f092280e-f679-40dd-a39f-3893122b29a0",
   "metadata": {},
   "outputs": [
    {
     "name": "stdout",
     "output_type": "stream",
     "text": [
      "person 9\n",
      "day 21\n",
      "sun 2\n",
      "water 0\n"
     ]
    }
   ],
   "source": [
    "# noun으로 예시\n",
    "nature = ['person', 'day', 'sun', 'water']\n",
    "fdist_brown = nltk.FreqDist([w.lower() for w in humor])\n",
    "\n",
    "for noun in nature:\n",
    "    print(noun, fdist_brown[noun]) "
   ]
  },
  {
   "cell_type": "markdown",
   "id": "254b3803-f398-494b-81d0-6319e7b9f895",
   "metadata": {},
   "source": [
    "### connditinal frequency distribution (CFD)\n",
    "- 조건이 붙은 fdist"
   ]
  },
  {
   "cell_type": "code",
   "execution_count": 23,
   "id": "8ebdf5e8-0b9c-46e1-81a9-028b2c023d4c",
   "metadata": {},
   "outputs": [
    {
     "data": {
      "text/plain": [
       "True"
      ]
     },
     "execution_count": 23,
     "metadata": {},
     "output_type": "execute_result"
    }
   ],
   "source": [
    "import nltk\n",
    "from nltk.book import *\n",
    "nltk.download('book', quiet = True) # nltk import 하고"
   ]
  },
  {
   "cell_type": "code",
   "execution_count": 22,
   "id": "fffc4bdd-09ab-42bd-bb74-50fdcfe7aad6",
   "metadata": {},
   "outputs": [],
   "source": [
    "from nltk import FreqDist # FreqDist도 "
   ]
  },
  {
   "cell_type": "code",
   "execution_count": 21,
   "id": "f7064d94-33f7-4d63-b9fb-2063aefa88cb",
   "metadata": {},
   "outputs": [
    {
     "name": "stderr",
     "output_type": "stream",
     "text": [
      "[nltk_data] Downloading package brown to\n",
      "[nltk_data]     C:\\Users\\82103\\AppData\\Roaming\\nltk_data...\n",
      "[nltk_data]   Package brown is already up-to-date!\n"
     ]
    }
   ],
   "source": [
    "nltk.download('brown')\n",
    "brown_corpus = nltk.corpus.brown #최종적으로 brown까지 해줘야 아래에서 하는 변수들이 지정이 됨."
   ]
  },
  {
   "cell_type": "code",
   "execution_count": 19,
   "id": "734555d0-2a70-4c39-b18f-a15c0969c15a",
   "metadata": {},
   "outputs": [],
   "source": [
    "cfd = nltk.ConditionalFreqDist(\n",
    "    #genre에 따른 fdist\n",
    "    (genre, word.lower())\n",
    "    for genre in brown_corpus.categories()\n",
    "    for word in brown_corpus.words(categories = genre)\n",
    ")    # 이 코드 잘 외워놓기"
   ]
  },
  {
   "cell_type": "code",
   "execution_count": 6,
   "id": "9a4788b2-db94-4b4d-81e9-19f884ad8245",
   "metadata": {
    "collapsed": true,
    "jupyter": {
     "outputs_hidden": true
    },
    "tags": []
   },
   "outputs": [
    {
     "data": {
      "text/plain": [
       "[('.', 4057),\n",
       " ('the', 3780),\n",
       " (',', 3488),\n",
       " ('and', 1706),\n",
       " ('a', 1432),\n",
       " ('of', 1327),\n",
       " ('to', 1322),\n",
       " ('he', 1283),\n",
       " ('``', 998),\n",
       " (\"''\", 995)]"
      ]
     },
     "execution_count": 6,
     "metadata": {},
     "output_type": "execute_result"
    }
   ],
   "source": [
    "cfd['adventure'].most_common(10)"
   ]
  },
  {
   "cell_type": "code",
   "execution_count": 20,
   "id": "dc32ff66-dcb0-489e-96cb-d029357b09b5",
   "metadata": {},
   "outputs": [
    {
     "name": "stdout",
     "output_type": "stream",
     "text": [
      "               person    day    sun  water \n",
      "     adventure      9     39     21     60 \n",
      "belles_lettres     27    103     10     30 \n",
      "     editorial     12     37      3      3 \n"
     ]
    }
   ],
   "source": [
    "cfd.tabulate(conditions = brown_corpus.categories()[:3], samples = nature) # 표 형식으로 정렬한 건가..?"
   ]
  },
  {
   "cell_type": "code",
   "execution_count": null,
   "id": "47140f98-cacc-4de8-913b-cd1b8035cd1f",
   "metadata": {},
   "outputs": [],
   "source": []
  }
 ],
 "metadata": {
  "kernelspec": {
   "display_name": "Python 3 (ipykernel)",
   "language": "python",
   "name": "python3"
  },
  "language_info": {
   "codemirror_mode": {
    "name": "ipython",
    "version": 3
   },
   "file_extension": ".py",
   "mimetype": "text/x-python",
   "name": "python",
   "nbconvert_exporter": "python",
   "pygments_lexer": "ipython3",
   "version": "3.9.7"
  }
 },
 "nbformat": 4,
 "nbformat_minor": 5
}
