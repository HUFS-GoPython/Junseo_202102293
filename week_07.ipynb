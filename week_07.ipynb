{
 "cells": [
  {
   "cell_type": "code",
   "execution_count": null,
   "id": "7031ecf9-a331-491d-9897-614045738600",
   "metadata": {},
   "outputs": [],
   "source": []
  },
  {
   "cell_type": "markdown",
   "id": "f7db4bac-3a88-4d9a-840d-d09af75f82e7",
   "metadata": {},
   "source": [
    "### 함수"
   ]
  },
  {
   "cell_type": "markdown",
   "id": "063402f6-24f0-4882-8eb9-8a38a2b1da44",
   "metadata": {},
   "source": [
    "1. 정의\n",
    "    - 코드의 덩어리, 묶음\n",
    "    - 주로 코드를 (편하게) 재사용하기 위함.\n",
    "    - 정의하기(define) -> 호출하기(call)\n",
    "    - 구조\n",
    "        def 함수이름(매개변수1, 2, 3, ...):\n",
    "            수행문1\n",
    "            수행문2\n",
    "            ....\n",
    "            return 출력값\n",
    "            \n",
    "         *호출하기*\n",
    "        함수이름(인수1, 2, 3, ...) # def와 줄 맞춰야 한다!\n",
    "    - '인터페이스'를 잘 설정하면 내부를 몰라도 함수를 쉽게 쓸 수 있음.\n",
    "2. 이름 짓기\n",
    "    - 소문자 사용한다.\n",
    "    - 카멜표기법 가능 그치만 언더바를 선호\n",
    "    - 동사 + 명사 = print_output, save_model, split_text\n",
    "    - 줄임말 지양하기 pr_output (x) -> 명료하게.\n",
    "3. "
   ]
  },
  {
   "cell_type": "code",
   "execution_count": null,
   "id": "1824703b-d305-4f17-8048-198c0dea8dcc",
   "metadata": {},
   "outputs": [],
   "source": [
    "y = x + 1 # x = 매개변수, y = 출력값"
   ]
  },
  {
   "cell_type": "code",
   "execution_count": 1,
   "id": "2471f83c-fb3e-4beb-b2fa-d49f2900778c",
   "metadata": {},
   "outputs": [
    {
     "ename": "NameError",
     "evalue": "name 'split' is not defined",
     "output_type": "error",
     "traceback": [
      "\u001b[1;31m---------------------------------------------------------------------------\u001b[0m",
      "\u001b[1;31mNameError\u001b[0m                                 Traceback (most recent call last)",
      "Input \u001b[1;32mIn [1]\u001b[0m, in \u001b[0;36m<cell line: 1>\u001b[1;34m()\u001b[0m\n\u001b[1;32m----> 1\u001b[0m \u001b[43msplit\u001b[49m(), join()\n",
      "\u001b[1;31mNameError\u001b[0m: name 'split' is not defined"
     ]
    }
   ],
   "source": [
    " # split(), join()"
   ]
  },
  {
   "cell_type": "code",
   "execution_count": null,
   "id": "2865d3e7-abf9-442e-9d8a-ad1f114c4a45",
   "metadata": {},
   "outputs": [],
   "source": [
    "def split():\n",
    "    #####\n",
    "    return"
   ]
  },
  {
   "cell_type": "code",
   "execution_count": 3,
   "id": "e233e4d1-72a5-447b-b78a-b19442c9954f",
   "metadata": {},
   "outputs": [
    {
     "name": "stdout",
     "output_type": "stream",
     "text": [
      "quack\n"
     ]
    }
   ],
   "source": [
    "def make_a_sound():\n",
    "    #1. 입력 없고, return 없음\n",
    "    print('quack')\n",
    "    # return None\n",
    "    \n",
    "make_a_sound()"
   ]
  },
  {
   "cell_type": "code",
   "execution_count": 4,
   "id": "3b7a6b14-b26e-46b9-bec0-5afe12dd508a",
   "metadata": {},
   "outputs": [
    {
     "data": {
      "text/plain": [
       "True"
      ]
     },
     "execution_count": 4,
     "metadata": {},
     "output_type": "execute_result"
    }
   ],
   "source": [
    "def agree():\n",
    "    #2. 입력 없고, 반환 있음\n",
    "    return True\n",
    "\n",
    "agree()\n",
    "    "
   ]
  },
  {
   "cell_type": "code",
   "execution_count": 5,
   "id": "2c278db9-3b31-44d1-9aba-40faf29ccfc3",
   "metadata": {},
   "outputs": [
    {
     "name": "stdout",
     "output_type": "stream",
     "text": [
      "splendid\n"
     ]
    }
   ],
   "source": [
    "if agree():\n",
    "    print('splendid')\n",
    "else:\n",
    "    print('that was expected!')"
   ]
  },
  {
   "cell_type": "code",
   "execution_count": 6,
   "id": "6a7bd37a-13a1-4fa7-9b37-4e322e543bfa",
   "metadata": {},
   "outputs": [
    {
     "data": {
      "text/plain": [
       "'hello hello'"
      ]
     },
     "execution_count": 6,
     "metadata": {},
     "output_type": "execute_result"
    }
   ],
   "source": [
    "def echo(anything):\n",
    "    #3. 입력만 있음\n",
    "    return ('{0} {0}'.format(anything))\n",
    "echo ('hello')"
   ]
  },
  {
   "cell_type": "code",
   "execution_count": 8,
   "id": "17813613-33b2-4812-8d6f-7938af12e212",
   "metadata": {},
   "outputs": [
    {
     "data": {
      "text/plain": [
       "'hello hello'"
      ]
     },
     "execution_count": 8,
     "metadata": {},
     "output_type": "execute_result"
    }
   ],
   "source": [
    "def echo(anything):\n",
    "    #4. 입력 있고, 반환 있고\n",
    "    return ('{0} {0}'.format(anything))\n",
    "\n",
    "echo = echo ('hello')\n",
    "echo"
   ]
  },
  {
   "cell_type": "code",
   "execution_count": 9,
   "id": "e9879a48-57ca-4116-bec2-1821eb553d53",
   "metadata": {},
   "outputs": [
    {
     "ename": "NameError",
     "evalue": "name 'anything' is not defined",
     "output_type": "error",
     "traceback": [
      "\u001b[1;31m---------------------------------------------------------------------------\u001b[0m",
      "\u001b[1;31mNameError\u001b[0m                                 Traceback (most recent call last)",
      "Input \u001b[1;32mIn [9]\u001b[0m, in \u001b[0;36m<cell line: 1>\u001b[1;34m()\u001b[0m\n\u001b[1;32m----> 1\u001b[0m \u001b[43manything\u001b[49m\n",
      "\u001b[1;31mNameError\u001b[0m: name 'anything' is not defined"
     ]
    }
   ],
   "source": [
    "anything"
   ]
  },
  {
   "cell_type": "code",
   "execution_count": null,
   "id": "0e1648f7-1c9c-4eae-9e8e-fa85f94353cb",
   "metadata": {},
   "outputs": [],
   "source": []
  },
  {
   "cell_type": "markdown",
   "id": "0bad6e39-1672-43d6-af15-fbf1b1834f75",
   "metadata": {},
   "source": [
    "3. 인수와 매개변수\n",
    "    - 매개변수: 정의할 때 쓰임. 인터페이스 내에서만 유효함\n",
    "    - 인수: 호출할 때 쓰임. \n",
    "    - 함수 호출 시 인수에 할당된 값이 매개변수에 복제됨\n",
    "         - line = 'hello'\n",
    "         - anything = line ### copy\n",
    "         - anything 사라짐\n",
    "         \n",
    "- 위치인수:\n",
    "    - positional argument\n",
    "    - 값을 순서대로 상응하는 매개변수에 복사하는 것\n",
    "- 키워드 인수\n",
    "    - keyword argument\n",
    "    - 매개변수에 상응하는 이름을 인수에 지정한다.\n",
    "    - 위치가 달라도 됨\n",
    "- 디폴트 인수\n",
    "    - default argument\n",
    "    - 정의할 때 매개변수의 기본값 설정\n",
    "    - 호출 시 인수가 없으면 기본값으로 적용된다."
   ]
  },
  {
   "cell_type": "markdown",
   "id": "061ec7e0-cc08-4e61-82a5-8e41a4c3f367",
   "metadata": {},
   "source": [
    "def commentary(color):\n",
    "    # pass # s나중에 입력하고 싶을 때 \n",
    "    if color == 'g':\n",
    "        return('green')\n",
    "    else:\n",
    "        return('black')\n",
    "\n",
    "color = 'white'    \n",
    "commentary(color)"
   ]
  },
  {
   "cell_type": "code",
   "execution_count": 14,
   "id": "d90423f6-e67c-4c33-821a-1a404d05877a",
   "metadata": {},
   "outputs": [
    {
     "name": "stdout",
     "output_type": "stream",
     "text": [
      "green\n",
      "black\n",
      "black\n"
     ]
    }
   ],
   "source": [
    "colors = ['g','r', 'b']\n",
    "for c in colors:\n",
    "    print(commentary(c))"
   ]
  },
  {
   "cell_type": "code",
   "execution_count": 15,
   "id": "08285dd1-63f6-43cc-83da-4a053fbee422",
   "metadata": {},
   "outputs": [
    {
     "data": {
      "text/plain": [
       "{'wine': 'rioja', 'entree': 'cake', 'dessert': 'egg'}"
      ]
     },
     "execution_count": 15,
     "metadata": {},
     "output_type": "execute_result"
    }
   ],
   "source": [
    "def menu(wine, entree, dessert):\n",
    "    return{'wine':wine, 'entree':entree, 'dessert':dessert}\n",
    "\n",
    "menu('rioja', 'cake', 'egg')"
   ]
  },
  {
   "cell_type": "code",
   "execution_count": 16,
   "id": "aa6fce62-1b60-4ab7-b256-f8cb41c6d4d7",
   "metadata": {},
   "outputs": [
    {
     "data": {
      "text/plain": [
       "{'wine': 'rioja', 'entree': 'egg', 'dessert': 'pancake'}"
      ]
     },
     "execution_count": 16,
     "metadata": {},
     "output_type": "execute_result"
    }
   ],
   "source": [
    "# keyword\n",
    "menu(entree = 'egg', wine = 'rioja', dessert = 'pancake')"
   ]
  },
  {
   "cell_type": "code",
   "execution_count": 26,
   "id": "54991fcc-5659-4733-96e2-d3c36c04ae88",
   "metadata": {},
   "outputs": [
    {
     "data": {
      "text/plain": [
       "{'wine': 'egg', 'entree': 'rioja', 'dessert': 'pancake'}"
      ]
     },
     "execution_count": 26,
     "metadata": {},
     "output_type": "execute_result"
    }
   ],
   "source": [
    "# menu(entree = 'egg','rioja','pancake')\n",
    "menu('egg', 'rioja', dessert= 'pancake') # 위치인수, 키워드인수 혼용할 때 주의. 위치 고려한다."
   ]
  },
  {
   "cell_type": "code",
   "execution_count": null,
   "id": "54f82e27-c881-47d4-9401-bd82d82ec8b2",
   "metadata": {},
   "outputs": [],
   "source": [
    "# default\n",
    "def menu2(wine, entree, dessert = 'scone'):\n",
    "    return{'wine':wine, 'entree':entree, 'dessert':dessert}\n",
    "\n",
    "menu2('rioja', 'cake', 'egg')"
   ]
  },
  {
   "cell_type": "code",
   "execution_count": 23,
   "id": "813d1ac9-3e97-4eae-af7c-ed8d611104de",
   "metadata": {},
   "outputs": [
    {
     "data": {
      "text/plain": [
       "{'wine': 'merlot', 'entree': 'egg', 'dessert': 'scone'}"
      ]
     },
     "execution_count": 23,
     "metadata": {},
     "output_type": "execute_result"
    }
   ],
   "source": [
    "menu2('merlot', 'egg')"
   ]
  },
  {
   "cell_type": "markdown",
   "id": "44255d07-5b1a-4049-bd6e-5f6882eebe82",
   "metadata": {},
   "source": [
    "### 연도 -> 나이\n",
    "def f(x):\n",
    "    # 입력값 = 나이\n",
    "    # 반환값 = 출생년도\n",
    "    \n",
    "- input 입력 받아서 함수 사용해서 출력하기"
   ]
  },
  {
   "cell_type": "code",
   "execution_count": null,
   "id": "b6c0af8d-43fa-40b5-8573-d5ca08c7c6fa",
   "metadata": {},
   "outputs": [],
   "source": []
  },
  {
   "cell_type": "code",
   "execution_count": 28,
   "id": "dbd6278a-0806-4aa5-8bfc-9aeadb76c033",
   "metadata": {},
   "outputs": [
    {
     "name": "stdin",
     "output_type": "stream",
     "text": [
      " 21\n"
     ]
    },
    {
     "data": {
      "text/plain": [
       "2002"
      ]
     },
     "execution_count": 28,
     "metadata": {},
     "output_type": "execute_result"
    }
   ],
   "source": [
    "def calc_birth_year(years_old):\n",
    "    this_year = 2022\n",
    "    return this_year - years_old + 1\n",
    "\n",
    "age = int(input())\n",
    "calc_birth_year(age)"
   ]
  },
  {
   "cell_type": "markdown",
   "id": "08adba2f-7750-4859-b15e-7a3ae20fbad1",
   "metadata": {},
   "source": [
    "### 예\n",
    "- 사각형 넓이 구하기\n",
    "    - 입력: 두 변 길이\n",
    "    - 출력: string= ' xx cm'\n",
    "def ###:"
   ]
  },
  {
   "cell_type": "code",
   "execution_count": null,
   "id": "847887fb-bfcb-4ad5-a5b0-0f6eeb4b1793",
   "metadata": {},
   "outputs": [],
   "source": [
    "def calc_rectangle_area(x,y):\n",
    "    return x * y\n",
    "\n",
    "rectangle_x = 20\n",
    "rectangle_y = 10\n",
    "print('변 x의 길이:', rectangle_x)\n",
    "print('변 y의 길이:', rectangle_y)\n",
    "\n",
    "print('사각형 넓이:', calc_rectangle_area(rectangle_x , rectangle_y))"
   ]
  },
  {
   "cell_type": "markdown",
   "id": "616d69b4-613a-4634-acdb-9679eaaf3753",
   "metadata": {},
   "source": [
    "### 호출 방식:\n",
    "    - 정의된 부분이 메모리에 업로드 되지만 실행은 안 된다.\n",
    "    - 실행은 호출 시\n",
    "    - 값을 넘기는 방식: 참조에 의한 호출(call by reference) 메모리 주소\n",
    "    - 메모리 주소가 복사되기 때문에 가변객체가 매개변수로 들어갈 때 주의할 것"
   ]
  },
  {
   "cell_type": "code",
   "execution_count": 32,
   "id": "63dc6455-b40d-4b03-b551-24b32f0db00f",
   "metadata": {},
   "outputs": [
    {
     "name": "stdout",
     "output_type": "stream",
     "text": [
      "2\n",
      "3\n",
      "1\n",
      "4\n"
     ]
    }
   ],
   "source": [
    "def calc_area(length, width):\n",
    "    print('1')\n",
    "    return length * width  # 정의는 먼저 해줘야 함 !\n",
    "\n",
    "print('2')\n",
    "garo = 2\n",
    "sero = 43\n",
    "print('3')\n",
    "calc_area(garo, sero) # call\n",
    "print('4')"
   ]
  },
  {
   "cell_type": "code",
   "execution_count": 34,
   "id": "5c6d2d93-df58-41cd-83f7-2237d32cc999",
   "metadata": {},
   "outputs": [
    {
     "name": "stdout",
     "output_type": "stream",
     "text": [
      "['a']\n",
      "['a', 'b']\n"
     ]
    }
   ],
   "source": [
    "def buggy(arg, result = []):\n",
    "    result = [] # 비운 다음에\n",
    "    result.append(arg)\n",
    "    print(result)\n",
    "    \n",
    "buggy('a') \n",
    "buggy('b')"
   ]
  },
  {
   "cell_type": "code",
   "execution_count": 35,
   "id": "a0f10af6-0aed-4884-953a-d52430aa9ad8",
   "metadata": {},
   "outputs": [
    {
     "name": "stdout",
     "output_type": "stream",
     "text": [
      "[2, 3] eggs\n",
      "[0, 1] ham\n"
     ]
    }
   ],
   "source": [
    " # length = garo # list copy\n",
    "def spam(eggs):\n",
    "    eggs.append(1)\n",
    "    eggs = [2 ,3]\n",
    "    print(eggs, 'eggs')\n",
    "ham = [0]\n",
    "spam(ham)\n",
    "print(ham, 'ham')"
   ]
  },
  {
   "cell_type": "code",
   "execution_count": 38,
   "id": "13685e21-0fe2-4ef6-b2e9-eba79c6d9067",
   "metadata": {},
   "outputs": [
    {
     "name": "stdout",
     "output_type": "stream",
     "text": [
      "a\n"
     ]
    }
   ],
   "source": [
    "# None <- is None\n",
    "thing = None\n",
    "if thing is None:\n",
    "    print('a') # True\n",
    "elif thing:\n",
    "    print('b') # False\n",
    "else:\n",
    "    print('c')"
   ]
  },
  {
   "cell_type": "code",
   "execution_count": 48,
   "id": "6630500d-7ab2-4872-be45-50f6447f8c9d",
   "metadata": {},
   "outputs": [
    {
     "name": "stdout",
     "output_type": "stream",
     "text": [
      "['a']\n",
      "['a', 'b']\n"
     ]
    }
   ],
   "source": [
    "def nonbuggy(arg, result = None):\n",
    "    if result is None:\n",
    "        result = []\n",
    "    result.append(arg)\n",
    "    print(result)\n",
    "\n",
    "list_a = []\n",
    "nonbuggy('a', list_a)\n",
    "nonbuggy('b', list_a)\n"
   ]
  },
  {
   "cell_type": "markdown",
   "id": "e983d030-a60e-4f3c-a0c1-f7df3c9d3ece",
   "metadata": {},
   "source": [
    "### 지역변수 vs 전역변수\n",
    "- 지역변수: 함수 내에서만 사용 가능\n",
    "- 전역변수: 프로그램 전체에서 사용 가능 (global)"
   ]
  },
  {
   "cell_type": "code",
   "execution_count": 50,
   "id": "c30c7ae5-623f-40fe-84c7-bc9ca2fc5d77",
   "metadata": {},
   "outputs": [
    {
     "name": "stdout",
     "output_type": "stream",
     "text": [
      "london\n",
      "london\n"
     ]
    }
   ],
   "source": [
    "def fx():\n",
    "    \"\"\"\n",
    "    doc string: 함수에 대한 설명\n",
    "    매개변수에 대한 설명, 타입, 함수의 의도\n",
    "    \"\"\"\n",
    "    \n",
    "    global city\n",
    "    city = 'london'\n",
    "    print(city)\n",
    "    \n",
    "city = 'paris'\n",
    "fx() # city -> lodon\n",
    "print(city)"
   ]
  },
  {
   "cell_type": "code",
   "execution_count": 56,
   "id": "7e86dee2-0175-49b9-8315-f5275db5a2b3",
   "metadata": {},
   "outputs": [
    {
     "name": "stdout",
     "output_type": "stream",
     "text": [
      "london\n",
      "Help on NoneType object:\n",
      "\n",
      "class NoneType(object)\n",
      " |  Methods defined here:\n",
      " |  \n",
      " |  __bool__(self, /)\n",
      " |      self != 0\n",
      " |  \n",
      " |  __repr__(self, /)\n",
      " |      Return repr(self).\n",
      " |  \n",
      " |  ----------------------------------------------------------------------\n",
      " |  Static methods defined here:\n",
      " |  \n",
      " |  __new__(*args, **kwargs) from builtins.type\n",
      " |      Create and return a new object.  See help(type) for accurate signature.\n",
      "\n"
     ]
    }
   ],
   "source": [
    "# 독스트링\n",
    "help(fx())"
   ]
  },
  {
   "cell_type": "code",
   "execution_count": 57,
   "id": "ad9d53fa-e0c9-4704-b87f-a1233df77bc7",
   "metadata": {},
   "outputs": [],
   "source": [
    "fx.__doc__"
   ]
  },
  {
   "cell_type": "markdown",
   "id": "5aaec874-0a58-421b-87c7-dd701a553263",
   "metadata": {},
   "source": [
    "### 연습 \n",
    "- f(x) = 2x + 7, g(x) = x2(제곱), x =2일때 \n",
    "  f(x) + g(x) + f(g(x)) + g(f(x)의 값??"
   ]
  },
  {
   "cell_type": "code",
   "execution_count": 1,
   "id": "ad7fdbfa-604b-4f29-b4ca-435aca4c7553",
   "metadata": {},
   "outputs": [
    {
     "name": "stdout",
     "output_type": "stream",
     "text": [
      "f(2)= 11 g(2)= 4 f(g(2))= 15 g(f(2))=  121\n",
      "151\n"
     ]
    }
   ],
   "source": [
    "def set_function(x):\n",
    "    return 2 * x + 7\n",
    "\n",
    "def set_gunction(x):\n",
    "    return x ** 2\n",
    "\n",
    "x = 2 \n",
    "print('f(2)=',set_function(x), 'g(2)=',set_gunction(x), 'f(g(2))=',set_function(set_gunction(x)),\n",
    "      'g(f(2))= ',set_gunction(set_function(x)))\n",
    "print(set_function (x) + set_gunction(x) + set_function(set_gunction(x)) + set_gunction(set_function(x)))"
   ]
  },
  {
   "cell_type": "code",
   "execution_count": null,
   "id": "84af48f4-3fa3-477d-ba6b-9e0430346f17",
   "metadata": {},
   "outputs": [],
   "source": []
  }
 ],
 "metadata": {
  "kernelspec": {
   "display_name": "Python 3 (ipykernel)",
   "language": "python",
   "name": "python3"
  },
  "language_info": {
   "codemirror_mode": {
    "name": "ipython",
    "version": 3
   },
   "file_extension": ".py",
   "mimetype": "text/x-python",
   "name": "python",
   "nbconvert_exporter": "python",
   "pygments_lexer": "ipython3",
   "version": "3.9.7"
  }
 },
 "nbformat": 4,
 "nbformat_minor": 5
}
