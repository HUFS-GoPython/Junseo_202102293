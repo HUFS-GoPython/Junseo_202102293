{
 "cells": [
  {
   "cell_type": "markdown",
   "id": "0b66f6cd-8253-4e35-903a-6bb8d952a20f",
   "metadata": {},
   "source": [
    "### 중첩조건문\n",
    "- nested conditional\n",
    "- if 블록 안에 또다른 if 블록이 있는 경우\n",
    "- 들여쓰기로 논리를 구분한다."
   ]
  },
  {
   "cell_type": "code",
   "execution_count": 1,
   "id": "04bd3281-9f0b-49b7-b8d4-f14eee5cf155",
   "metadata": {},
   "outputs": [
    {
     "name": "stdout",
     "output_type": "stream",
     "text": [
      "Block b\n"
     ]
    }
   ],
   "source": [
    "x = 0\n",
    "y = 1\n",
    "if x == y :\n",
    "    print(\"Block a\")\n",
    "else:\n",
    "    if x < y:\n",
    "        print(\"Block b\")\n",
    "    else:\n",
    "        print(\"Block c\")\n",
    "# 안좋은 예"
   ]
  },
  {
   "cell_type": "code",
   "execution_count": 2,
   "id": "b6fd3a22-d454-4f97-8ce6-a29d3cf8c503",
   "metadata": {},
   "outputs": [
    {
     "name": "stdout",
     "output_type": "stream",
     "text": [
      "Block C\n"
     ]
    }
   ],
   "source": [
    "if x > 0: \n",
    "    if x < 10:\n",
    "        print('Block A')\n",
    "    else:\n",
    "        print('Block B')\n",
    "else:\n",
    "    print('Block C')\n",
    "\n",
    "# 0 < x < 10 => 파이선에서만 가능함."
   ]
  },
  {
   "cell_type": "code",
   "execution_count": 12,
   "id": "67e08715-488e-44df-984e-53d3476dac6f",
   "metadata": {},
   "outputs": [
    {
     "ename": "IndentationError",
     "evalue": "expected an indented block (204968422.py, line 3)",
     "output_type": "error",
     "traceback": [
      "\u001b[1;36m  Input \u001b[1;32mIn [12]\u001b[1;36m\u001b[0m\n\u001b[1;33m    elif x < y:\u001b[0m\n\u001b[1;37m    ^\u001b[0m\n\u001b[1;31mIndentationError\u001b[0m\u001b[1;31m:\u001b[0m expected an indented block\n"
     ]
    }
   ],
   "source": [
    "if x == y:\n",
    "    # block a\n",
    "elif x < y:\n",
    "    # block b\n",
    "else:\n",
    "    # block c"
   ]
  },
  {
   "cell_type": "code",
   "execution_count": 32,
   "id": "afe88e62",
   "metadata": {},
   "outputs": [
    {
     "ename": "IndentationError",
     "evalue": "expected an indented block (591310999.py, line 4)",
     "output_type": "error",
     "traceback": [
      "\u001b[1;36m  Input \u001b[1;32mIn [32]\u001b[1;36m\u001b[0m\n\u001b[1;33m    else:\u001b[0m\n\u001b[1;37m    ^\u001b[0m\n\u001b[1;31mIndentationError\u001b[0m\u001b[1;31m:\u001b[0m expected an indented block\n"
     ]
    }
   ],
   "source": [
    "#방법1\n",
    "if (x > 0) and (x <10): # 논리 연산자\n",
    "    # block a\n",
    "else:\n",
    "    # block b\n",
    "    \n",
    "#방법2\n",
    "if 0 < x < 10:\n",
    "    # block a\n",
    "else:\n",
    "    # block b"
   ]
  },
  {
   "cell_type": "markdown",
   "id": "4d992390",
   "metadata": {},
   "source": [
    "### 논리연산자\n",
    "- 비교연산자가 여러변 사용될 때 사용하는 것\n",
    "- and, or, not\n",
    "    - A and B: A도 참이고, B도 참일때 true\n",
    "        - 예: A & B\n",
    "    - A or B: A 혹은 B, 둘 중 하나만 참이면 true\n",
    "        - 예: A | B\n",
    "    - not A: A가 False일 때 True, True일 때 False\n",
    "- 비교연산자의 괄호는 가독성을 위해 (선택)\n",
    "- 파이썬에서만 가능한 표현: 0 < x < 10"
   ]
  },
  {
   "cell_type": "markdown",
   "id": "32bb6310",
   "metadata": {},
   "source": [
    "### True, False\n",
    "- \"만약 a가 참이라면, ...\"\n",
    "- a = True"
   ]
  },
  {
   "cell_type": "code",
   "execution_count": null,
   "id": "2ba1bc77",
   "metadata": {},
   "outputs": [],
   "source": [
    "if a == True:\n",
    "    print() #틀림\n",
    "    \n",
    "    \n",
    "if a:\n",
    "    print()"
   ]
  },
  {
   "cell_type": "markdown",
   "id": "46b5f6be",
   "metadata": {},
   "source": [
    "### in\n",
    "- membership operator\n",
    "- 어떤 요소가 그 안에 있는지 확인하고 싶다\n",
    "- 비슷한 조건이 여러번 반복될 때 사용 가능"
   ]
  },
  {
   "cell_type": "code",
   "execution_count": 17,
   "id": "65b3382d",
   "metadata": {},
   "outputs": [
    {
     "name": "stdout",
     "output_type": "stream",
     "text": [
      "No\n"
     ]
    }
   ],
   "source": [
    "letter = 'k'\n",
    "\n",
    "#letter가 모음인지 확인하고 싶다\n",
    "# if letter == 'a' or letter == 'e' ...\n",
    "\n",
    "if letter in ['a', 'e', 'i', 'o', 'u']: # 리스트 요소에 letter와 일치하는 것이 있는가\n",
    "    print('Yes')\n",
    "else: \n",
    "    print('No')\n",
    "    "
   ]
  },
  {
   "cell_type": "code",
   "execution_count": 1,
   "id": "266c2478",
   "metadata": {},
   "outputs": [
    {
     "name": "stdout",
     "output_type": "stream",
     "text": [
      "Yes\n"
     ]
    }
   ],
   "source": [
    "word = 'abcde'\n",
    "\n",
    "#word에 모음이 있는지 확인\n",
    "if 'a' or 'e' or 'i' or 'o' or 'u' in word:\n",
    "    print('Yes')\n",
    "else: \n",
    "    print('No')"
   ]
  },
  {
   "cell_type": "code",
   "execution_count": 2,
   "id": "a8e9b4f8",
   "metadata": {},
   "outputs": [
    {
     "name": "stdout",
     "output_type": "stream",
     "text": [
      "No\n"
     ]
    }
   ],
   "source": [
    "if word in ['a', 'b', 'c', 'd', 'e']: #abcde == a, b, ...\n",
    "    print('Yes')\n",
    "else:\n",
    "    print('No')"
   ]
  },
  {
   "cell_type": "code",
   "execution_count": 31,
   "id": "eac6e0ef",
   "metadata": {},
   "outputs": [
    {
     "name": "stdout",
     "output_type": "stream",
     "text": [
      "No\n"
     ]
    }
   ],
   "source": [
    "vowel = 'aeiou'\n",
    "#type(vowel)\n",
    "if vowel in ['a', 'e', 'i', 'o', 'u']:\n",
    "    print('Yes')\n",
    "else:\n",
    "    print('No')"
   ]
  },
  {
   "cell_type": "code",
   "execution_count": null,
   "id": "c9d0c6b6",
   "metadata": {},
   "outputs": [],
   "source": [
    "# for loop => pass"
   ]
  },
  {
   "cell_type": "markdown",
   "id": "04b41240",
   "metadata": {},
   "source": [
    "### 바다코끼리 연산자\n",
    "- walrus operator\n",
    "- 할당과 동시에 테스트를 하는 기능\n",
    "- :="
   ]
  },
  {
   "cell_type": "code",
   "execution_count": 4,
   "id": "a3d18351",
   "metadata": {},
   "outputs": [
    {
     "data": {
      "text/plain": [
       "'blahblahblahblahblahblahblahblahblahblahblahblahblahblahblahblahblahblahblahblahblahblahblahblahblahblahblahblahblahblahblahblahblahblahblahblahblahblahblahblahblahblahblahblahblahblahblahblahblahblah'"
      ]
     },
     "execution_count": 4,
     "metadata": {},
     "output_type": "execute_result"
    }
   ],
   "source": [
    "tweet_limit = 200\n",
    "tweet_string = 'blah' * 50 #공백없이 스트링 4*50\n",
    "tweet_string"
   ]
  },
  {
   "cell_type": "code",
   "execution_count": 6,
   "id": "afdac011",
   "metadata": {},
   "outputs": [
    {
     "name": "stdout",
     "output_type": "stream",
     "text": [
      "불가능\n"
     ]
    }
   ],
   "source": [
    "diff = tweet_limit - len(tweet_string)\n",
    "if diff > 0:\n",
    "    print('가능')\n",
    "else:\n",
    "    print('불가능')"
   ]
  },
  {
   "cell_type": "code",
   "execution_count": 7,
   "id": "9c1854c0",
   "metadata": {},
   "outputs": [],
   "source": [
    "if diff := tweet_limit - len(tweet_string) > 0:\n",
    "        print('가능')"
   ]
  },
  {
   "cell_type": "markdown",
   "id": "0c3e5c6f",
   "metadata": {},
   "source": [
    "### Quiz\n",
    "- 윤년을 구하는 코드를 짜보자\n",
    "    - 연도가 4로 나눠떨어지면 윤년\n",
    "    - 100으로 나눠떨어지면 안된다\n",
    "    - 400으로 나눠떨어지면 됨\n",
    "\n",
    "- year을 입력받는다.\n",
    "- 출력 = '{}년은 윤년입니다' / '{}년은 윤년이 아닙니다.'"
   ]
  },
  {
   "cell_type": "code",
   "execution_count": 8,
   "id": "6905206a",
   "metadata": {},
   "outputs": [
    {
     "name": "stdout",
     "output_type": "stream",
     "text": [
      "연도를 입력하세요: 2028\n",
      "2028년은 윤년입니다.\n"
     ]
    }
   ],
   "source": [
    "year = int(input('연도를 입력하세요: '))\n",
    "\n",
    "if year % 4 == 0 and year % 400 == 0 or year % 100 != 0:\n",
    "    print(f'{year}년은 윤년입니다.')\n",
    "else: \n",
    "    print(f'{year}년은 윤년이 아닙니다.')"
   ]
  },
  {
   "cell_type": "markdown",
   "id": "c7aca9e8",
   "metadata": {},
   "source": [
    "## string | 문자열\n",
    "\n",
    "- str type \n",
    "- 시스템에서 가장 작은 단위\n",
    "- 불변적인 성격 가짐(immutable)\n",
    "    - 'abcd' -> b -> a 바꿀 수 없다\n",
    "- 문법: '', \"\" 감싸면 모두 문자열\n",
    "    - 예: '24'\n",
    "- ''' or \"\"\" -> 주석\n",
    "- 형 변환은 str()\n",
    "\n",
    "## Escape character | 이스케이프 문자\n",
    "- 눈에 보이는 대로 인식되지 않는 문자열\n",
    "- 문법: \\ + <character>\n",
    "- \\n, \\t, \\b, \\'\n",
    "- print() 함수 쓰지 않으면 형태는 출력됨.\n",
    "- '\\n' 출력은 어떻게?\n",
    "    - \\\\n (\\ 두 번)\n",
    "    - r'' (raw string)\n",
    "- 문자열의 형태를 바꾸는 것이 아니라 표면상의 형태를 바꿈."
   ]
  },
  {
   "cell_type": "code",
   "execution_count": 13,
   "id": "620c833d",
   "metadata": {},
   "outputs": [
    {
     "name": "stdout",
     "output_type": "stream",
     "text": [
      "hello\tworld I'm a boy\n"
     ]
    }
   ],
   "source": [
    "sent = 'hello\\tworld I\\'m a boy'\n",
    "print(sent)"
   ]
  },
  {
   "cell_type": "code",
   "execution_count": 14,
   "id": "1410fc91",
   "metadata": {},
   "outputs": [
    {
     "data": {
      "text/plain": [
       "\"hello\\tworld I'm a boy\""
      ]
     },
     "execution_count": 14,
     "metadata": {},
     "output_type": "execute_result"
    }
   ],
   "source": [
    "sent"
   ]
  },
  {
   "cell_type": "markdown",
   "id": "479dcdf3",
   "metadata": {},
   "source": [
    "### 연산\n",
    "- concentation (+)\n",
    "    - '' + '' => 붙이기\n",
    "- 복제 (*)\n",
    "    - '' * 4 => 4번 반복\n",
    "- print 함수는 각 인수 사이에 공백을, 마지막에는 줄바꿈 문자를 붙임. "
   ]
  },
  {
   "cell_type": "code",
   "execution_count": 15,
   "id": "d9f9b831",
   "metadata": {},
   "outputs": [
    {
     "data": {
      "text/plain": [
       "'brainbrain'"
      ]
     },
     "execution_count": 15,
     "metadata": {},
     "output_type": "execute_result"
    }
   ],
   "source": [
    "word = 'brain' #공백 없이 붙는다\n",
    "word + word"
   ]
  },
  {
   "cell_type": "code",
   "execution_count": 16,
   "id": "12953d5a",
   "metadata": {},
   "outputs": [
    {
     "data": {
      "text/plain": [
       "'brainbrainbrainbrain'"
      ]
     },
     "execution_count": 16,
     "metadata": {},
     "output_type": "execute_result"
    }
   ],
   "source": [
    "word * 4"
   ]
  },
  {
   "cell_type": "code",
   "execution_count": 17,
   "id": "64019c01",
   "metadata": {},
   "outputs": [
    {
     "data": {
      "text/plain": [
       "'my name isJake'"
      ]
     },
     "execution_count": 17,
     "metadata": {},
     "output_type": "execute_result"
    }
   ],
   "source": [
    "'my name is' + 'Jake'"
   ]
  },
  {
   "cell_type": "markdown",
   "id": "0bf315e6",
   "metadata": {},
   "source": [
    "### Slicing\n",
    "- 지정 범위의 문자열을 추출\n",
    "- 문법: 대괄호 + 오프셋 이용 [offset]\n",
    "    - [start:end:step]\n",
    "- 오프셋은 0부터 시작\n",
    "- start 포함, end 미포함 (크거나 같고, 작다)\n",
    "- 0일 경우 생략.\n",
    "    - 예: ~4까지 출력하라 => [:5]\n",
    "- 오프셋은 음수로도 가능\n",
    "0 1 2 3 4\n",
    "h e l l o\n",
    "     -2 -1"
   ]
  },
  {
   "cell_type": "code",
   "execution_count": 18,
   "id": "c7b727b8",
   "metadata": {},
   "outputs": [
    {
     "data": {
      "text/plain": [
       "(\"hello\\tworld I'm a boy\", 'e')"
      ]
     },
     "execution_count": 18,
     "metadata": {},
     "output_type": "execute_result"
    }
   ],
   "source": [
    "sent, sent[1] #2번째 글자"
   ]
  },
  {
   "cell_type": "code",
   "execution_count": 19,
   "id": "d200c21d",
   "metadata": {},
   "outputs": [
    {
     "data": {
      "text/plain": [
       "'l'"
      ]
     },
     "execution_count": 19,
     "metadata": {},
     "output_type": "execute_result"
    }
   ],
   "source": [
    "sent[3:4] #3만 추출"
   ]
  },
  {
   "cell_type": "code",
   "execution_count": 20,
   "id": "783225d0",
   "metadata": {},
   "outputs": [
    {
     "data": {
      "text/plain": [
       "'hello'"
      ]
     },
     "execution_count": 20,
     "metadata": {},
     "output_type": "execute_result"
    }
   ],
   "source": [
    "#처음부터 4까지\n",
    "sent[:5]"
   ]
  },
  {
   "cell_type": "code",
   "execution_count": 21,
   "id": "f382f375",
   "metadata": {},
   "outputs": [
    {
     "data": {
      "text/plain": [
       "11"
      ]
     },
     "execution_count": 21,
     "metadata": {},
     "output_type": "execute_result"
    }
   ],
   "source": [
    "sent2 = 'hello world'\n",
    "len(sent2) #length (공백까지 포함)"
   ]
  },
  {
   "cell_type": "code",
   "execution_count": 22,
   "id": "633e90cc",
   "metadata": {},
   "outputs": [
    {
     "data": {
      "text/plain": [
       "'hlowrdImaby'"
      ]
     },
     "execution_count": 22,
     "metadata": {},
     "output_type": "execute_result"
    }
   ],
   "source": [
    "#처음부터 끝까지 2스텝씩 출력\n",
    "sent[::2]"
   ]
  },
  {
   "cell_type": "code",
   "execution_count": 23,
   "id": "9ca0c53c",
   "metadata": {},
   "outputs": [
    {
     "data": {
      "text/plain": [
       "'olleh'"
      ]
     },
     "execution_count": 23,
     "metadata": {},
     "output_type": "execute_result"
    }
   ],
   "source": [
    "hello = 'hello'\n",
    "hello[::-1]"
   ]
  },
  {
   "cell_type": "code",
   "execution_count": 24,
   "id": "dc223058",
   "metadata": {},
   "outputs": [
    {
     "ename": "TypeError",
     "evalue": "'str' object does not support item assignment",
     "output_type": "error",
     "traceback": [
      "\u001b[1;31m---------------------------------------------------------------------------\u001b[0m",
      "\u001b[1;31mTypeError\u001b[0m                                 Traceback (most recent call last)",
      "Input \u001b[1;32mIn [24]\u001b[0m, in \u001b[0;36m<cell line: 1>\u001b[1;34m()\u001b[0m\n\u001b[1;32m----> 1\u001b[0m hello[\u001b[38;5;241m2\u001b[39m] \u001b[38;5;241m=\u001b[39m \u001b[38;5;124m'\u001b[39m\u001b[38;5;124mL\u001b[39m\u001b[38;5;124m'\u001b[39m \u001b[38;5;66;03m# error\u001b[39;00m\n\u001b[0;32m      2\u001b[0m hello\n",
      "\u001b[1;31mTypeError\u001b[0m: 'str' object does not support item assignment"
     ]
    }
   ],
   "source": [
    "hello[2] = 'L' # 변경 불가 => 오류\n",
    "hello"
   ]
  },
  {
   "cell_type": "code",
   "execution_count": 29,
   "id": "bb12b6b1-7554-4184-a39e-d76f04474047",
   "metadata": {},
   "outputs": [
    {
     "data": {
      "text/plain": [
       "'Junser'"
      ]
     },
     "execution_count": 29,
     "metadata": {},
     "output_type": "execute_result"
    }
   ],
   "source": [
    "nom = 'Junseo'\n",
    "nom.replace('o', 'r') # replace() 함수 사용할 수 있음. "
   ]
  },
  {
   "cell_type": "code",
   "execution_count": 6,
   "id": "f824a3ec-8aff-4587-9609-bb1250851b83",
   "metadata": {},
   "outputs": [
    {
     "data": {
      "text/plain": [
       "'Junseo'"
      ]
     },
     "execution_count": 6,
     "metadata": {},
     "output_type": "execute_result"
    }
   ],
   "source": [
    "nom"
   ]
  },
  {
   "cell_type": "code",
   "execution_count": 8,
   "id": "c8f001c0-00c6-48f5-8aa0-06de2c5077d9",
   "metadata": {},
   "outputs": [
    {
     "data": {
      "text/plain": [
       "'Anna'"
      ]
     },
     "execution_count": 8,
     "metadata": {},
     "output_type": "execute_result"
    }
   ],
   "source": [
    "setup = 'anna'\n",
    "setup.capitalize() # 첫 글자만 대문자로"
   ]
  },
  {
   "cell_type": "markdown",
   "id": "abf1834d",
   "metadata": {},
   "source": [
    "### NLTK\n",
    "- natural language toolkit\n",
    "- 교육용으로 개발된 자연어처리 패키지\n",
    "- 코퍼스 제공하는데 어떤 처리가 되어있다.\n",
    "    - 토그나이즈, 파싱, 태깅 ..."
   ]
  },
  {
   "cell_type": "code",
   "execution_count": 2,
   "id": "d5d88afb-d63a-4d47-9f20-21306b9e7cc4",
   "metadata": {},
   "outputs": [],
   "source": [
    "# !pip install nltk"
   ]
  },
  {
   "cell_type": "code",
   "execution_count": 3,
   "id": "e5f583d7-ab3b-4ccc-baf5-535e985cab62",
   "metadata": {},
   "outputs": [
    {
     "data": {
      "text/plain": [
       "True"
      ]
     },
     "execution_count": 3,
     "metadata": {},
     "output_type": "execute_result"
    }
   ],
   "source": [
    "import nltk\n",
    "nltk.download('book', quiet = True)"
   ]
  },
  {
   "cell_type": "code",
   "execution_count": 4,
   "id": "91d56170-044f-4b2d-872f-5b4e7408b46f",
   "metadata": {},
   "outputs": [
    {
     "name": "stdout",
     "output_type": "stream",
     "text": [
      "*** Introductory Examples for the NLTK Book ***\n",
      "Loading text1, ..., text9 and sent1, ..., sent9\n",
      "Type the name of the text or sentence to view it.\n",
      "Type: 'texts()' or 'sents()' to list the materials.\n",
      "text1: Moby Dick by Herman Melville 1851\n",
      "text2: Sense and Sensibility by Jane Austen 1811\n",
      "text3: The Book of Genesis\n",
      "text4: Inaugural Address Corpus\n",
      "text5: Chat Corpus\n",
      "text6: Monty Python and the Holy Grail\n",
      "text7: Wall Street Journal\n",
      "text8: Personals Corpus\n",
      "text9: The Man Who Was Thursday by G . K . Chesterton 1908\n"
     ]
    }
   ],
   "source": [
    "from nltk import book"
   ]
  },
  {
   "cell_type": "code",
   "execution_count": 6,
   "id": "cb256acf-fbb1-4439-8267-e4a0743dbca2",
   "metadata": {},
   "outputs": [],
   "source": [
    "Gen = book.text4"
   ]
  },
  {
   "cell_type": "code",
   "execution_count": 16,
   "id": "13169815-9daf-435b-ab24-f56da5e236e9",
   "metadata": {},
   "outputs": [
    {
     "data": {
      "text/plain": [
       "['Fellow', '-', 'Citizens', 'of', 'the', 'Senate', 'and', 'of', 'the', 'House']"
      ]
     },
     "execution_count": 16,
     "metadata": {},
     "output_type": "execute_result"
    }
   ],
   "source": [
    "Gen.tokens[:10]"
   ]
  },
  {
   "cell_type": "code",
   "execution_count": 8,
   "id": "b58f39cd-75cc-4da9-88e3-6eb51ad44691",
   "metadata": {},
   "outputs": [
    {
     "data": {
      "text/plain": [
       "152901"
      ]
     },
     "execution_count": 8,
     "metadata": {},
     "output_type": "execute_result"
    }
   ],
   "source": [
    "len(Gen.tokens)"
   ]
  },
  {
   "cell_type": "markdown",
   "id": "6852e571-5586-4b1f-b00a-92c51f277a12",
   "metadata": {},
   "source": [
    "### Set\n",
    "- {a, b, c, ...}\n",
    "- 중복 불가능\n",
    "- 수학의 집합과 같은 개념 \n",
    "- 순서 없음"
   ]
  },
  {
   "cell_type": "markdown",
   "id": "a29599b6-c71a-4521-a58e-1d44efc3e112",
   "metadata": {},
   "source": [
    "### list\n",
    "- [a, b, c, ...]\n",
    "- 중복 가능\n",
    "- 순서 있음"
   ]
  },
  {
   "cell_type": "code",
   "execution_count": 33,
   "id": "2693d473-ff55-4529-bc53-ccdea7ef2c7c",
   "metadata": {},
   "outputs": [
    {
     "data": {
      "text/plain": [
       "{'Avengers', 'Cap_America', 'Iron_man'}"
      ]
     },
     "execution_count": 33,
     "metadata": {},
     "output_type": "execute_result"
    }
   ],
   "source": [
    "movies = ['Avengers' , 'Iron_man', 'Cap_America', 'Avengers']\n",
    "set(movies)"
   ]
  },
  {
   "cell_type": "code",
   "execution_count": 12,
   "id": "6bde5595-8e01-4518-90ee-759a03c1cf44",
   "metadata": {},
   "outputs": [
    {
     "data": {
      "text/plain": [
       "10025"
      ]
     },
     "execution_count": 12,
     "metadata": {},
     "output_type": "execute_result"
    }
   ],
   "source": [
    "# 중복 없는 단어 수\n",
    "len(set(Gen.tokens))"
   ]
  },
  {
   "cell_type": "code",
   "execution_count": 13,
   "id": "1fbf4750-91ed-4254-9337-25442909a16c",
   "metadata": {},
   "outputs": [
    {
     "data": {
      "text/plain": [
       "0.06556530042314962"
      ]
     },
     "execution_count": 13,
     "metadata": {},
     "output_type": "execute_result"
    }
   ],
   "source": [
    "len(set(Gen.tokens)) / len(Gen.tokens)"
   ]
  },
  {
   "cell_type": "code",
   "execution_count": 18,
   "id": "98772376-1977-4b73-b9ee-90ea43f02c00",
   "metadata": {},
   "outputs": [
    {
     "data": {
      "text/plain": [
       "['¡¨¡', '¡§', '¡¦', '¡', '\\x80\\x94', 'zone']"
      ]
     },
     "execution_count": 18,
     "metadata": {},
     "output_type": "execute_result"
    }
   ],
   "source": [
    "sorted(set(Gen.tokens), reverse = True)[:6]"
   ]
  },
  {
   "cell_type": "markdown",
   "id": "174c713e-ca27-4033-8326-b3e445617962",
   "metadata": {},
   "source": [
    "### Quiz 1\n",
    "- text 9에서 lexical diversity 계산하기\n",
    "- text 6에서 중복없는 셋 내림차순 정렬하기\n",
    "    - a. 앞에서 단어 10개 추출하기\n",
    "    - b. 조건문 연습: 'z'가 있으면 대문자로 바꾸기, 'z'가 없는데 4글자 이상이면 대문자로 바꾸기"
   ]
  },
  {
   "cell_type": "code",
   "execution_count": 21,
   "id": "15b73aed-f1e2-4a8a-ac42-62fdf945b8df",
   "metadata": {},
   "outputs": [
    {
     "data": {
      "text/plain": [
       "1.0"
      ]
     },
     "execution_count": 21,
     "metadata": {},
     "output_type": "execute_result"
    }
   ],
   "source": [
    "Thursday = book.text9\n",
    "len(sorted(Thursday.tokens)) / len(Thursday.tokens)"
   ]
  },
  {
   "cell_type": "code",
   "execution_count": 46,
   "id": "bf30d326-6098-4be0-b54b-33878786e6c2",
   "metadata": {},
   "outputs": [
    {
     "data": {
      "text/plain": [
       "['SCENE', '1', ':', '[', 'wind', ']', '[', 'clop', 'clop', 'clop']"
      ]
     },
     "execution_count": 46,
     "metadata": {},
     "output_type": "execute_result"
    }
   ],
   "source": [
    "monty = book.text6\n",
    "monty.tokens[:10]"
   ]
  },
  {
   "cell_type": "code",
   "execution_count": 50,
   "id": "43525afc-e2ee-4afd-b7a3-b13b391b284b",
   "metadata": {},
   "outputs": [],
   "source": [
    "# 그 다음을 모르겠어요 ... ㅎㅎ"
   ]
  },
  {
   "cell_type": "code",
   "execution_count": null,
   "id": "5a846ec4-59b4-438f-96ab-c4fcbae56561",
   "metadata": {},
   "outputs": [],
   "source": []
  },
  {
   "cell_type": "markdown",
   "id": "731a7380-6c51-414e-85f5-ba0bbc2a2abb",
   "metadata": {},
   "source": [
    "### Quiz 2.\n",
    "- 주민등록번호, 핸드폰 번호, 이메일 입력.\n",
    "    - 주민번호, 핸드폰 번호는 숫자만 입력(- 없이)\n",
    "    - 이메일은 아이디만 입력(@ 없이)\n",
    "    \n",
    "- 출력:\n",
    "    - \"당신은 {}년 {}월 {}일 출생의 {남자/여자}입니다.''\n",
    "    - 휴대폰 번호: {} # 하이픈으로 연결하기\n",
    "    - 이메일주소: {아이디}@gmail.com"
   ]
  },
  {
   "cell_type": "code",
   "execution_count": null,
   "id": "aaf8c43a-24d0-430b-bc13-b339641b2f9f",
   "metadata": {},
   "outputs": [],
   "source": [
    "ident = int(input('주민번호를 입력하세요: '))\n",
    "phone = int(input('핸드폰 번호를 입력하세요: '))\n",
    "email = input('이메일 주소를 입력하세요: '))\n",
    "\n",
    "if ident[6] == 1 or ident[6] == 3:\n",
    "    print(f'당신은 {ident[:2]}년 {ident[2:4]}월 {ident[4:6]}일 출생의 남자입니다.')\n",
    "else:\n",
    "    print(f'당신은 {ident[:2]}년 {ident[2:4]}월 {ident[4:6]}일 출생의 여자입니다.'\n",
    "          \n",
    "print(f'{phone[:3]}-{phone[3:7]}-{phone[7:11]}\n",
    "print(f'{email}@gmail.'com'')"
   ]
  },
  {
   "cell_type": "code",
   "execution_count": null,
   "id": "46327c72-e809-453c-ad7a-8e027b06a137",
   "metadata": {},
   "outputs": [],
   "source": []
  }
 ],
 "metadata": {
  "kernelspec": {
   "display_name": "Python 3 (ipykernel)",
   "language": "python",
   "name": "python3"
  },
  "language_info": {
   "codemirror_mode": {
    "name": "ipython",
    "version": 3
   },
   "file_extension": ".py",
   "mimetype": "text/x-python",
   "name": "python",
   "nbconvert_exporter": "python",
   "pygments_lexer": "ipython3",
   "version": "3.9.7"
  }
 },
 "nbformat": 4,
 "nbformat_minor": 5
}
