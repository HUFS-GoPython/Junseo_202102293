{
 "cells": [
  {
   "cell_type": "markdown",
   "id": "a92d0ea2-2ff4-4a24-9998-e9e3a058044d",
   "metadata": {},
   "source": [
    "### 함수 II"
   ]
  },
  {
   "cell_type": "markdown",
   "id": "e3747a54-b4d3-4126-8968-60423906f62f",
   "metadata": {},
   "source": [
    "#### asterisk (star) *, **"
   ]
  },
  {
   "cell_type": "code",
   "execution_count": 2,
   "id": "7f270fc1-df6d-4246-a6ce-8e8367e7c43e",
   "metadata": {},
   "outputs": [
    {
     "name": "stdout",
     "output_type": "stream",
     "text": [
      "hey hello hi\n"
     ]
    }
   ],
   "source": [
    "def print_arg(*args): #1.\n",
    "    # 인자를 튜플로 묶어서 활용하는 역할\n",
    "    print(*args) #2. 언패킹(튜플 -> 인자로)\n",
    "    \n",
    "print_arg('hey', 'hello', 'hi')"
   ]
  },
  {
   "cell_type": "code",
   "execution_count": 9,
   "id": "18415b8f-c48c-49e7-8ea0-9f27eb2a2f08",
   "metadata": {},
   "outputs": [
    {
     "name": "stdout",
     "output_type": "stream",
     "text": [
      "obligatory book\n",
      "1 2 3 4\n",
      "obligatory book\n",
      "(1, 2, 3, 4)\n",
      "obligatory book\n",
      "1 2 3 4\n"
     ]
    }
   ],
   "source": [
    "def print_arg2(name, *args):\n",
    "    print('obligatory',name)\n",
    "    print(*args)\n",
    "    \n",
    "print_arg2('book', 1,2,3,4)\n",
    "nums = (1,2,3,4)\n",
    "print_arg2('book', nums)\n",
    "print_arg2('book', *nums)"
   ]
  },
  {
   "cell_type": "markdown",
   "id": "14e347fd-3b93-4602-ac40-2a904dd7b393",
   "metadata": {},
   "source": [
    "#### 외부에서 활용하기\n",
    "- 컬렉션 자료형 언패킹 출력 시\n",
    "- zip()\n",
    "- 키워드 전용 인수 선언\n",
    "    - 별 뒤에 오는 매개변수들은 반드시 키워드 인수로 들어오도록 설정하는 역할\n",
    "    - kargs와 혼선을 빚지 않기 위해"
   ]
  },
  {
   "cell_type": "code",
   "execution_count": 6,
   "id": "e1b70de8-99ad-46ae-91c8-87a81ad7050e",
   "metadata": {},
   "outputs": [
    {
     "name": "stdout",
     "output_type": "stream",
     "text": [
      "0 1 2 3 4\n"
     ]
    }
   ],
   "source": [
    "nums = list(range(5))\n",
    "print(*nums)"
   ]
  },
  {
   "cell_type": "code",
   "execution_count": 7,
   "id": "b2f57caa-6163-4205-84ac-570148c79603",
   "metadata": {},
   "outputs": [
    {
     "name": "stdout",
     "output_type": "stream",
     "text": [
      "(1, 3, 5)\n",
      "(2, 4, 6)\n"
     ]
    }
   ],
   "source": [
    "a = [\n",
    "    [1,2],\n",
    "    [3,4],\n",
    "    [5,6]\n",
    "]\n",
    "\n",
    "# 1,3,5 / 2,4,6 (열을 순회하고 싶다)\n",
    "for row in zip(*a):\n",
    "    print(row)"
   ]
  },
  {
   "cell_type": "code",
   "execution_count": 11,
   "id": "c95a6e71-a240-4463-a77a-9a5f6f09fabe",
   "metadata": {},
   "outputs": [
    {
     "name": "stdout",
     "output_type": "stream",
     "text": [
      "2\n",
      "3\n"
     ]
    }
   ],
   "source": [
    "def print_data(data, *, starts, end): #starts, end -> start = 0\n",
    "    for value in data[starts:end]:\n",
    "        print(value)\n",
    "        \n",
    "print_data(nums, starts=1, end=3)"
   ]
  },
  {
   "cell_type": "markdown",
   "id": "6777a193-5f84-4f11-9b95-cfa9c339c4eb",
   "metadata": {},
   "source": [
    "#### **"
   ]
  },
  {
   "cell_type": "code",
   "execution_count": 14,
   "id": "7d4036e4-06b1-441f-9e25-eebebf1f075b",
   "metadata": {},
   "outputs": [
    {
     "name": "stdout",
     "output_type": "stream",
     "text": [
      "{'wine': 'merlot', 'dessert': 'cake'}\n"
     ]
    }
   ],
   "source": [
    "def print_kargs(**kargs): #딕셔너리로 묶는 기능\n",
    "    print(kargs) # **는 언패킹 기능이 없어서 여기에는 쓰면 안됨.\n",
    "    #print(kargs['wine'], 'is semi-sweet')\n",
    "    \n",
    "print_kargs(wine='merlot', dessert='cake')"
   ]
  },
  {
   "cell_type": "code",
   "execution_count": 15,
   "id": "f7ef4861-dbef-4750-ae63-6a7b5eb89976",
   "metadata": {},
   "outputs": [
    {
     "name": "stdout",
     "output_type": "stream",
     "text": [
      "{'wine': 'merlot', 'dessert': 'scone'}\n",
      "{'wine': 'cabernet', 'dessert': 'scone'}\n",
      "{'wine': 'crianza', 'dessert': 'scone'}\n"
     ]
    }
   ],
   "source": [
    "wine_list = 'merlot cabernet crianza'.split()\n",
    "for wine in wine_list:\n",
    "    print_kargs(wine=wine, dessert='scone')"
   ]
  },
  {
   "cell_type": "code",
   "execution_count": 17,
   "id": "6fc82477-773b-4dcc-8aa9-268c39d8dd79",
   "metadata": {},
   "outputs": [
    {
     "ename": "TypeError",
     "evalue": "print_both() got multiple values for argument 'one'",
     "output_type": "error",
     "traceback": [
      "\u001b[1;31m---------------------------------------------------------------------------\u001b[0m",
      "\u001b[1;31mTypeError\u001b[0m                                 Traceback (most recent call last)",
      "Input \u001b[1;32mIn [17]\u001b[0m, in \u001b[0;36m<cell line: 5>\u001b[1;34m()\u001b[0m\n\u001b[0;32m      2\u001b[0m     \u001b[38;5;28mprint\u001b[39m(one \u001b[38;5;241m+\u001b[39m two \u001b[38;5;241m+\u001b[39m \u001b[38;5;28msum\u001b[39m(args))\n\u001b[0;32m      3\u001b[0m     \u001b[38;5;28mprint\u001b[39m(kargs)\n\u001b[1;32m----> 5\u001b[0m \u001b[43mprint_both\u001b[49m\u001b[43m(\u001b[49m\u001b[38;5;241;43m1\u001b[39;49m\u001b[43m,\u001b[49m\u001b[38;5;241;43m2\u001b[39;49m\u001b[43m,\u001b[49m\u001b[38;5;241;43m3\u001b[39;49m\u001b[43m,\u001b[49m\u001b[38;5;241;43m4\u001b[39;49m\u001b[43m,\u001b[49m\u001b[38;5;241;43m5\u001b[39;49m\u001b[43m,\u001b[49m\u001b[43m \u001b[49m\u001b[43mone\u001b[49m\u001b[38;5;241;43m=\u001b[39;49m\u001b[38;5;241;43m1\u001b[39;49m\u001b[43m,\u001b[49m\u001b[43m \u001b[49m\u001b[43mtwo\u001b[49m\u001b[38;5;241;43m=\u001b[39;49m\u001b[38;5;241;43m2\u001b[39;49m\u001b[43m)\u001b[49m\n",
      "\u001b[1;31mTypeError\u001b[0m: print_both() got multiple values for argument 'one'"
     ]
    }
   ],
   "source": [
    "def print_both(one, two, *args, **kargs): # 위치인수 > args > kargs\n",
    "    print(one + two + sum(args))\n",
    "    print(kargs)\n",
    "    \n",
    "print_both(1,2,3,4,5, one=1, two=2) # => first, second"
   ]
  },
  {
   "cell_type": "markdown",
   "id": "32d822fc-be2b-4218-b377-93a903a8c7aa",
   "metadata": {},
   "source": [
    "### 딕셔너리 결합할 때 사용할 수 있다 (3.5이상)"
   ]
  },
  {
   "cell_type": "code",
   "execution_count": 18,
   "id": "47d77cd2-74d0-44b9-9b97-03391d820d84",
   "metadata": {},
   "outputs": [],
   "source": [
    "x = {1: 'a', 2: 'b'}\n",
    "y = {2: 'c', 3: 'd'}\n",
    "z = {**x, **y}"
   ]
  },
  {
   "cell_type": "code",
   "execution_count": 19,
   "id": "31086b3c-6ecb-4338-9a62-f8210c721f6f",
   "metadata": {},
   "outputs": [
    {
     "data": {
      "text/plain": [
       "{1: 'a', 2: 'c', 3: 'd'}"
      ]
     },
     "execution_count": 19,
     "metadata": {},
     "output_type": "execute_result"
    }
   ],
   "source": [
    "z"
   ]
  },
  {
   "cell_type": "markdown",
   "id": "0e799abd-5f50-4f6f-9e59-890d59a36ba1",
   "metadata": {},
   "source": [
    "### 일급객체\n",
    "- first class object / first class citizen\n",
    "- 함수도 객체다.\n",
    "- 함수의 인자로 전달 가능\n",
    "- 반환값이 될 수 있다.\n",
    "- 수정, 할당될 수 있다."
   ]
  },
  {
   "cell_type": "code",
   "execution_count": 21,
   "id": "5dab40d8-f8c3-4784-ad19-a44582d9fd89",
   "metadata": {},
   "outputs": [
    {
     "name": "stdout",
     "output_type": "stream",
     "text": [
      "43\n",
      "43\n"
     ]
    }
   ],
   "source": [
    "def answer():\n",
    "    print(43)\n",
    "    \n",
    "def run_something(func): ## 파이썬에서만. 함수가 객체이므로\n",
    "    func()\n",
    "\n",
    "run_something(answer)\n",
    "\n",
    "def run_anything(func):\n",
    "    return func\n",
    "\n",
    "run_anything(answer)() #괄호 => 실행"
   ]
  },
  {
   "cell_type": "code",
   "execution_count": 23,
   "id": "b5e833c8-5664-4a36-bb11-4c094138e3b3",
   "metadata": {},
   "outputs": [
    {
     "data": {
      "text/plain": [
       "13"
      ]
     },
     "execution_count": 23,
     "metadata": {},
     "output_type": "execute_result"
    }
   ],
   "source": [
    "def sum_args(*args):\n",
    "    return sum(args)\n",
    "\n",
    "def run_with_positional_args(func, *args):\n",
    "    return func(*args)\n",
    "\n",
    "run_with_positional_args(sum_args, 1,3,4,5)"
   ]
  },
  {
   "cell_type": "code",
   "execution_count": 24,
   "id": "18e514b9-44a2-4bd0-932a-c5beaf82c348",
   "metadata": {},
   "outputs": [],
   "source": [
    "# 가변 인자, 불변 인자 => 초기화하지 않으면 변수 내용이 변할 수 있음\n",
    "def func(num_list):\n",
    "    # 변할 수 있음을 문서화할 것. 혹은 다른 방법 찾아볼 것\n",
    "    sum_num = sum(num_list)\n",
    "    num_list.append(sum_num)\n",
    "    \n",
    "a = [1,3,5]\n",
    "func(a)"
   ]
  },
  {
   "cell_type": "code",
   "execution_count": 25,
   "id": "a58be5a0-325e-4632-bb6b-21fe0dd3124d",
   "metadata": {},
   "outputs": [
    {
     "data": {
      "text/plain": [
       "[1, 3, 5, 9]"
      ]
     },
     "execution_count": 25,
     "metadata": {},
     "output_type": "execute_result"
    }
   ],
   "source": [
    "a"
   ]
  },
  {
   "cell_type": "code",
   "execution_count": 26,
   "id": "97c483ed-c52e-4b2e-bdc5-bc30d1f3fa61",
   "metadata": {},
   "outputs": [],
   "source": [
    "func(a)"
   ]
  },
  {
   "cell_type": "code",
   "execution_count": 27,
   "id": "2b60760b-c385-443a-9516-87ab7f2c326c",
   "metadata": {},
   "outputs": [
    {
     "data": {
      "text/plain": [
       "[1, 3, 5, 9, 18]"
      ]
     },
     "execution_count": 27,
     "metadata": {},
     "output_type": "execute_result"
    }
   ],
   "source": [
    "a"
   ]
  },
  {
   "cell_type": "markdown",
   "id": "f9e692bd-28b1-4cf2-905e-9a89116d138c",
   "metadata": {},
   "source": [
    "### 내부함수 => 다음주"
   ]
  },
  {
   "cell_type": "markdown",
   "id": "96030b90-3c4f-4a90-af42-d137302ac2b8",
   "metadata": {},
   "source": [
    "### 익명함수 (람다)\n",
    "- lambda\n",
    "- 함수인데 이름이 없음 (def, return)\n",
    "- 왜? 단순한 함수를 사용할 때 \n",
    "- 단, 잦은 사용은 권장하지 않는다. => 직관적이지 않고 재활용 낮다.\n",
    "- lambda x: <x를 요리할 코드>"
   ]
  },
  {
   "cell_type": "code",
   "execution_count": 29,
   "id": "9bd0b440-1386-4746-bca3-dd76fa3335d5",
   "metadata": {},
   "outputs": [
    {
     "data": {
      "text/plain": [
       "'ok'"
      ]
     },
     "execution_count": 29,
     "metadata": {},
     "output_type": "execute_result"
    }
   ],
   "source": [
    "#lambda x : x.lower()\n",
    "\n",
    "def f(x):\n",
    "    return x.lower()\n",
    "\n",
    "f2 = lambda x: x.lower()\n",
    "f2('OK')"
   ]
  },
  {
   "cell_type": "code",
   "execution_count": 28,
   "id": "aa754973-4360-4939-9a4b-467135430532",
   "metadata": {},
   "outputs": [
    {
     "data": {
      "text/plain": [
       "'ok'"
      ]
     },
     "execution_count": 28,
     "metadata": {},
     "output_type": "execute_result"
    }
   ],
   "source": [
    "(lambda x: x.lower())('OK')"
   ]
  },
  {
   "cell_type": "code",
   "execution_count": 30,
   "id": "7517b734-6c67-4fd7-89e5-e744ae8099fd",
   "metadata": {},
   "outputs": [
    {
     "data": {
      "text/plain": [
       "10"
      ]
     },
     "execution_count": 30,
     "metadata": {},
     "output_type": "execute_result"
    }
   ],
   "source": [
    "f3 = lambda x,y: x + y\n",
    "f3(5,5)"
   ]
  },
  {
   "cell_type": "code",
   "execution_count": null,
   "id": "4b76b9dc-7cf2-41c8-9afd-791e17a216ac",
   "metadata": {},
   "outputs": [],
   "source": [
    "# abc -> Abc!\n",
    "# (lambda x:x[0].upper()+x[1]+x[2]+\"!\")"
   ]
  }
 ],
 "metadata": {
  "kernelspec": {
   "display_name": "Python 3 (ipykernel)",
   "language": "python",
   "name": "python3"
  },
  "language_info": {
   "codemirror_mode": {
    "name": "ipython",
    "version": 3
   },
   "file_extension": ".py",
   "mimetype": "text/x-python",
   "name": "python",
   "nbconvert_exporter": "python",
   "pygments_lexer": "ipython3",
   "version": "3.9.7"
  }
 },
 "nbformat": 4,
 "nbformat_minor": 5
}
