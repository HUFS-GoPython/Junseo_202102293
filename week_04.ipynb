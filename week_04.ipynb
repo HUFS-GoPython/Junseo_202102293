{
 "cells": [
  {
   "cell_type": "markdown",
   "id": "7dbe8097-2a93-4c4c-b999-2012684ea579",
   "metadata": {},
   "source": [
    "## NLTK"
   ]
  },
  {
   "cell_type": "code",
   "execution_count": 4,
   "id": "0ae287aa-f306-465d-b562-2a7acdf643ae",
   "metadata": {},
   "outputs": [
    {
     "name": "stdout",
     "output_type": "stream",
     "text": [
      "*** Introductory Examples for the NLTK Book ***\n",
      "Loading text1, ..., text9 and sent1, ..., sent9\n",
      "Type the name of the text or sentence to view it.\n",
      "Type: 'texts()' or 'sents()' to list the materials.\n",
      "text1: Moby Dick by Herman Melville 1851\n",
      "text2: Sense and Sensibility by Jane Austen 1811\n",
      "text3: The Book of Genesis\n",
      "text4: Inaugural Address Corpus\n",
      "text5: Chat Corpus\n",
      "text6: Monty Python and the Holy Grail\n",
      "text7: Wall Street Journal\n",
      "text8: Personals Corpus\n",
      "text9: The Man Who Was Thursday by G . K . Chesterton 1908\n"
     ]
    },
    {
     "data": {
      "text/plain": [
       "True"
      ]
     },
     "execution_count": 4,
     "metadata": {},
     "output_type": "execute_result"
    }
   ],
   "source": [
    "# nltk book import\n",
    "import nltk\n",
    "from nltk.book import *\n",
    "nltk.download('book', quiet = True) "
   ]
  },
  {
   "cell_type": "markdown",
   "id": "c563cfd5-373c-4c35-8c6f-8a8a4e69e523",
   "metadata": {
    "tags": []
   },
   "source": [
    "### 함수 I\n",
    "\n",
    "- '<str>'.fx(<요소>) # 기본 형태\n",
    "    \n",
    "- count(): 텍스트에서 어떤 요소의 개수를 세는\n",
    "- replace(): A => B\n",
    "- strip(): 불필요한 공백, 등등 원하는 요소 제거하는 역할\n",
    "- find(): 원하는 문자열 찾기\n",
    "- index(): 원하는 문자열의 인덱스 반환\n",
    "    \n",
    "\n"
   ]
  },
  {
   "cell_type": "code",
   "execution_count": 5,
   "id": "13639c52-3fe3-41ef-8fd2-b91229a51eb0",
   "metadata": {},
   "outputs": [
    {
     "data": {
      "text/plain": [
       "13721"
      ]
     },
     "execution_count": 5,
     "metadata": {},
     "output_type": "execute_result"
    }
   ],
   "source": [
    "# count()\n",
    "text1.count('the') #The, THE, ... 대소문자 구분함"
   ]
  },
  {
   "cell_type": "code",
   "execution_count": 6,
   "id": "7c3fe060-bbd0-4b05-8b66-ccc00b8e60da",
   "metadata": {},
   "outputs": [
    {
     "data": {
      "text/plain": [
       "3861"
      ]
     },
     "execution_count": 6,
     "metadata": {},
     "output_type": "execute_result"
    }
   ],
   "source": [
    "text2.count('the')"
   ]
  },
  {
   "cell_type": "code",
   "execution_count": 41,
   "id": "1297698e-a3f6-407d-a6a8-60c420ecc065",
   "metadata": {},
   "outputs": [],
   "source": [
    "# replace(A,B)\n",
    "word = 'wind'\n",
    "word = word.replace('d', 'e')"
   ]
  },
  {
   "cell_type": "code",
   "execution_count": 42,
   "id": "a2d1c03b-6f4b-44ca-9a93-5b7da6fe9e85",
   "metadata": {},
   "outputs": [
    {
     "data": {
      "text/plain": [
       "'wine'"
      ]
     },
     "execution_count": 42,
     "metadata": {},
     "output_type": "execute_result"
    }
   ],
   "source": [
    "word"
   ]
  },
  {
   "cell_type": "code",
   "execution_count": 43,
   "id": "c7c0e610-293b-4280-8b89-5df5cce3dccd",
   "metadata": {},
   "outputs": [
    {
     "data": {
      "text/plain": [
       "'word'"
      ]
     },
     "execution_count": 43,
     "metadata": {},
     "output_type": "execute_result"
    }
   ],
   "source": [
    "# strip(), rstrip(), lstrip()\n",
    "word = '       \\t word'\n",
    "word.lstrip() # strip()으로 해도 결과는 같음."
   ]
  },
  {
   "cell_type": "code",
   "execution_count": 46,
   "id": "65aa895d-137a-4478-9a8c-e465f423314a",
   "metadata": {},
   "outputs": [
    {
     "data": {
      "text/plain": [
       "'word'"
      ]
     },
     "execution_count": 46,
     "metadata": {},
     "output_type": "execute_result"
    }
   ],
   "source": [
    "word = 'word              '\n",
    "word.rstrip() # 오른쪽 공백들 제거"
   ]
  },
  {
   "cell_type": "code",
   "execution_count": 11,
   "id": "db952915-dfa5-4cdc-8b35-19c8fa187079",
   "metadata": {},
   "outputs": [
    {
     "data": {
      "text/plain": [
       "'Work'"
      ]
     },
     "execution_count": 11,
     "metadata": {},
     "output_type": "execute_result"
    }
   ],
   "source": [
    "word.strip().replace('w', 'W').replace('d', 'k') # 계속 연달아 할 수 있다 !"
   ]
  },
  {
   "cell_type": "markdown",
   "id": "5b157fbe-7e44-45e3-a92d-e4c48bd7cda3",
   "metadata": {},
   "source": [
    "# find : 첫 번째 발견한 r의 인덱스\n"
   ]
  },
  {
   "cell_type": "code",
   "execution_count": 1,
   "id": "c0633f7b-1d96-4fc8-90ca-55551e20e4db",
   "metadata": {},
   "outputs": [
    {
     "data": {
      "text/plain": [
       "3"
      ]
     },
     "execution_count": 1,
     "metadata": {},
     "output_type": "execute_result"
    }
   ],
   "source": [
    "word2 = 'I have a pen.'\n",
    "word2.find('a') # lfind, rfind 존재"
   ]
  },
  {
   "cell_type": "code",
   "execution_count": 50,
   "id": "03c5a66b-c5ed-4ef4-9f28-1575c2155466",
   "metadata": {},
   "outputs": [
    {
     "data": {
      "text/plain": [
       "8"
      ]
     },
     "execution_count": 50,
     "metadata": {},
     "output_type": "execute_result"
    }
   ],
   "source": [
    "word2 = 'I love you'\n",
    "word2.rfind('o')"
   ]
  },
  {
   "cell_type": "code",
   "execution_count": 51,
   "id": "53276db5-117f-4e47-b27d-cf03a34e913d",
   "metadata": {},
   "outputs": [
    {
     "ename": "AttributeError",
     "evalue": "'str' object has no attribute 'lfind'",
     "output_type": "error",
     "traceback": [
      "\u001b[1;31m---------------------------------------------------------------------------\u001b[0m",
      "\u001b[1;31mAttributeError\u001b[0m                            Traceback (most recent call last)",
      "Input \u001b[1;32mIn [51]\u001b[0m, in \u001b[0;36m<cell line: 1>\u001b[1;34m()\u001b[0m\n\u001b[1;32m----> 1\u001b[0m \u001b[43mword2\u001b[49m\u001b[38;5;241;43m.\u001b[39;49m\u001b[43mlfind\u001b[49m(\u001b[38;5;124m'\u001b[39m\u001b[38;5;124mo\u001b[39m\u001b[38;5;124m'\u001b[39m)\n",
      "\u001b[1;31mAttributeError\u001b[0m: 'str' object has no attribute 'lfind'"
     ]
    }
   ],
   "source": [
    "word2.lfind('o') # 오류가 나는 이유가 무엇일까??"
   ]
  },
  {
   "cell_type": "code",
   "execution_count": 16,
   "id": "9095e779-9dc0-41bc-800d-601156685959",
   "metadata": {},
   "outputs": [
    {
     "data": {
      "text/plain": [
       "3"
      ]
     },
     "execution_count": 16,
     "metadata": {},
     "output_type": "execute_result"
    }
   ],
   "source": [
    "word2.index('a')"
   ]
  },
  {
   "cell_type": "code",
   "execution_count": 17,
   "id": "aaf87cd4-4716-47b6-8bff-73e71e28d02e",
   "metadata": {},
   "outputs": [
    {
     "data": {
      "text/plain": [
       "-1"
      ]
     },
     "execution_count": 17,
     "metadata": {},
     "output_type": "execute_result"
    }
   ],
   "source": [
    "word2.find('k') # find()는 없는 문자를 -1로 반환"
   ]
  },
  {
   "cell_type": "code",
   "execution_count": 18,
   "id": "f1e4cfac-b494-4d20-899d-9dc33c27f70c",
   "metadata": {},
   "outputs": [
    {
     "ename": "ValueError",
     "evalue": "substring not found",
     "output_type": "error",
     "traceback": [
      "\u001b[1;31m---------------------------------------------------------------------------\u001b[0m",
      "\u001b[1;31mValueError\u001b[0m                                Traceback (most recent call last)",
      "Input \u001b[1;32mIn [18]\u001b[0m, in \u001b[0;36m<cell line: 1>\u001b[1;34m()\u001b[0m\n\u001b[1;32m----> 1\u001b[0m \u001b[43mword2\u001b[49m\u001b[38;5;241;43m.\u001b[39;49m\u001b[43mindex\u001b[49m\u001b[43m(\u001b[49m\u001b[38;5;124;43m'\u001b[39;49m\u001b[38;5;124;43mk\u001b[39;49m\u001b[38;5;124;43m'\u001b[39;49m\u001b[43m)\u001b[49m\n",
      "\u001b[1;31mValueError\u001b[0m: substring not found"
     ]
    }
   ],
   "source": [
    "word2.index('k') # index는 오류가 뜬다"
   ]
  },
  {
   "cell_type": "markdown",
   "id": "f4a811f6-a546-4761-82ae-3f1c2d0d5e0f",
   "metadata": {},
   "source": [
    "### 함수 II\n",
    "- NLKT 전용\n",
    "- concordance(): 특정 스트링이 어떤 문맥에서 쓰이는지 알려줌\n",
    "- similar(): 주어진 스트링과 비슷한 문맥에서 쓰이는 단어를 알려줌\n",
    "- common_context(리스트): 주어진 스트링들이 공유하는 문맥\n",
    "- dispersion_plot(리스트): 주어진 스트링들이 텍스트의 어느 위치에 나오는지 이미지로 보여줌"
   ]
  },
  {
   "cell_type": "code",
   "execution_count": 19,
   "id": "349b9c8b-203f-45fd-975e-b0d41fe9bd7c",
   "metadata": {},
   "outputs": [
    {
     "name": "stdout",
     "output_type": "stream",
     "text": [
      "Displaying 25 of 1226 matches:\n",
      "s , and to teach them by what name a whale - fish is to be called in our tongue\n",
      "t which is not true .\" -- HACKLUYT \" WHALE . ... Sw . and Dan . HVAL . This ani\n",
      "ulted .\" -- WEBSTER ' S DICTIONARY \" WHALE . ... It is more immediately from th\n",
      "ISH . WAL , DUTCH . HWAL , SWEDISH . WHALE , ICELANDIC . WHALE , ENGLISH . BALE\n",
      "HWAL , SWEDISH . WHALE , ICELANDIC . WHALE , ENGLISH . BALEINE , FRENCH . BALLE\n",
      "least , take the higgledy - piggledy whale statements , however authentic , in \n",
      " dreadful gulf of this monster ' s ( whale ' s ) mouth , are immediately lost a\n",
      " patient Job .\" -- RABELAIS . \" This whale ' s liver was two cartloads .\" -- ST\n",
      " Touching that monstrous bulk of the whale or ork we have received nothing cert\n",
      " of oil will be extracted out of one whale .\" -- IBID . \" HISTORY OF LIFE AND D\n",
      "ise .\" -- KING HENRY . \" Very like a whale .\" -- HAMLET . \" Which to secure , n\n",
      "restless paine , Like as the wounded whale to shore flies thro ' the maine .\" -\n",
      ". OF SPERMA CETI AND THE SPERMA CETI WHALE . VIDE HIS V . E . \" Like Spencer ' \n",
      "t had been a sprat in the mouth of a whale .\" -- PILGRIM ' S PROGRESS . \" That \n",
      "EN ' S ANNUS MIRABILIS . \" While the whale is floating at the stern of the ship\n",
      "e ship called The Jonas - in - the - Whale . ... Some say the whale can ' t ope\n",
      " in - the - Whale . ... Some say the whale can ' t open his mouth , but that is\n",
      " masts to see whether they can see a whale , for the first discoverer has a duc\n",
      " for his pains . ... I was told of a whale taken near Shetland , that had above\n",
      "oneers told me that he caught once a whale in Spitzbergen that was white all ov\n",
      "2 , one eighty feet in length of the whale - bone kind came in , which ( as I w\n",
      "n master and kill this Sperma - ceti whale , for I could never hear of any of t\n",
      " . 1729 . \"... and the breath of the whale is frequendy attended with such an i\n",
      "ed with hoops and armed with ribs of whale .\" -- RAPE OF THE LOCK . \" If we com\n",
      "contemptible in the comparison . The whale is doubtless the largest animal in c\n"
     ]
    }
   ],
   "source": [
    "text1.concordance('whale')"
   ]
  },
  {
   "cell_type": "code",
   "execution_count": 20,
   "id": "9d158968-6e28-4227-a475-ed469a707f0e",
   "metadata": {},
   "outputs": [
    {
     "name": "stdout",
     "output_type": "stream",
     "text": [
      "ship boat sea time captain world man deck pequod other whales air\n",
      "water head crew line thing side way body\n"
     ]
    }
   ],
   "source": [
    "text1.similar('whale') # type이 nontype. 변수로 저장하는 것이 의미가 없다..?"
   ]
  },
  {
   "cell_type": "code",
   "execution_count": 21,
   "id": "11d3efab-5609-45f2-abe1-3eb1657ab8eb",
   "metadata": {},
   "outputs": [
    {
     "name": "stdout",
     "output_type": "stream",
     "text": [
      "am_glad a_pretty a_lucky is_pretty be_glad\n"
     ]
    }
   ],
   "source": [
    "text2.common_contexts(['monstrous', 'very'])"
   ]
  },
  {
   "cell_type": "code",
   "execution_count": 2,
   "id": "d9bc2e40-5b98-4ca4-80d7-393d6c0023bd",
   "metadata": {},
   "outputs": [
    {
     "name": "stdout",
     "output_type": "stream",
     "text": [
      "Requirement already satisfied: matplotlib in c:\\users\\82103\\.conda\\envs\\jupyterlab\\lib\\site-packages (3.5.1)\n",
      "Requirement already satisfied: numpy>=1.17 in c:\\users\\82103\\.conda\\envs\\jupyterlab\\lib\\site-packages (from matplotlib) (1.22.3)\n",
      "Requirement already satisfied: kiwisolver>=1.0.1 in c:\\users\\82103\\.conda\\envs\\jupyterlab\\lib\\site-packages (from matplotlib) (1.4.0)\n",
      "Requirement already satisfied: fonttools>=4.22.0 in c:\\users\\82103\\.conda\\envs\\jupyterlab\\lib\\site-packages (from matplotlib) (4.31.2)\n",
      "Requirement already satisfied: pillow>=6.2.0 in c:\\users\\82103\\.conda\\envs\\jupyterlab\\lib\\site-packages (from matplotlib) (9.0.1)\n",
      "Requirement already satisfied: python-dateutil>=2.7 in c:\\users\\82103\\appdata\\roaming\\python\\python39\\site-packages (from matplotlib) (2.8.2)\n",
      "Requirement already satisfied: packaging>=20.0 in c:\\users\\82103\\.conda\\envs\\jupyterlab\\lib\\site-packages (from matplotlib) (21.3)\n",
      "Requirement already satisfied: pyparsing>=2.2.1 in c:\\users\\82103\\.conda\\envs\\jupyterlab\\lib\\site-packages (from matplotlib) (3.0.4)\n",
      "Requirement already satisfied: cycler>=0.10 in c:\\users\\82103\\.conda\\envs\\jupyterlab\\lib\\site-packages (from matplotlib) (0.11.0)\n",
      "Requirement already satisfied: six>=1.5 in c:\\users\\82103\\appdata\\roaming\\python\\python39\\site-packages (from python-dateutil>=2.7->matplotlib) (1.16.0)\n"
     ]
    }
   ],
   "source": [
    "!pip install matplotlib"
   ]
  },
  {
   "cell_type": "code",
   "execution_count": 8,
   "id": "3c607846-09a9-4a34-be74-c056e622652f",
   "metadata": {
    "collapsed": true,
    "jupyter": {
     "outputs_hidden": true
    },
    "tags": []
   },
   "outputs": [
    {
     "name": "stdout",
     "output_type": "stream",
     "text": [
      "*** Introductory Examples for the NLTK Book ***\n",
      "Loading text1, ..., text9 and sent1, ..., sent9\n",
      "Type the name of the text or sentence to view it.\n",
      "Type: 'texts()' or 'sents()' to list the materials.\n",
      "text1: Moby Dick by Herman Melville 1851\n",
      "text2: Sense and Sensibility by Jane Austen 1811\n",
      "text3: The Book of Genesis\n",
      "text4: Inaugural Address Corpus\n",
      "text5: Chat Corpus\n",
      "text6: Monty Python and the Holy Grail\n",
      "text7: Wall Street Journal\n",
      "text8: Personals Corpus\n",
      "text9: The Man Who Was Thursday by G . K . Chesterton 1908\n"
     ]
    },
    {
     "ename": "NameError",
     "evalue": "name 'nlkt' is not defined",
     "output_type": "error",
     "traceback": [
      "\u001b[1;31m---------------------------------------------------------------------------\u001b[0m",
      "\u001b[1;31mNameError\u001b[0m                                 Traceback (most recent call last)",
      "Input \u001b[1;32mIn [8]\u001b[0m, in \u001b[0;36m<cell line: 3>\u001b[1;34m()\u001b[0m\n\u001b[0;32m      1\u001b[0m \u001b[38;5;28;01mimport\u001b[39;00m \u001b[38;5;21;01mnltk\u001b[39;00m\n\u001b[0;32m      2\u001b[0m \u001b[38;5;28;01mfrom\u001b[39;00m \u001b[38;5;21;01mnltk\u001b[39;00m\u001b[38;5;21;01m.\u001b[39;00m\u001b[38;5;21;01mbook\u001b[39;00m \u001b[38;5;28;01mimport\u001b[39;00m \u001b[38;5;241m*\u001b[39m\n\u001b[1;32m----> 3\u001b[0m \u001b[43mnlkt\u001b[49m\u001b[38;5;241m.\u001b[39mdownload(\u001b[38;5;124m'\u001b[39m\u001b[38;5;124mbook\u001b[39m\u001b[38;5;124m'\u001b[39m, quiet \u001b[38;5;241m=\u001b[39m \u001b[38;5;28;01mTrue\u001b[39;00m)\n",
      "\u001b[1;31mNameError\u001b[0m: name 'nlkt' is not defined"
     ]
    }
   ],
   "source": [
    "import nltk\n",
    "from nltk.book import *\n",
    "nlkt.download('book', quiet = True)"
   ]
  },
  {
   "cell_type": "code",
   "execution_count": 9,
   "id": "29db1a1f-2d5f-4cd9-ba1d-1089a6fba0b6",
   "metadata": {},
   "outputs": [
    {
     "data": {
      "image/png": "[encoded data removed]",
      "text/plain": [
       "<Figure size 432x288 with 1 Axes>"
      ]
     },
     "metadata": {
      "needs_background": "light"
     },
     "output_type": "display_data"
    }
   ],
   "source": [
    "text4.dispersion_plot(['citizens','democracy','America'])"
   ]
  },
  {
   "cell_type": "markdown",
   "id": "174755a3-88ac-4cf8-aee1-bea15c7e96d7",
   "metadata": {},
   "source": [
    "### 리스트 &리스트컴프리헨션\n",
    "- 프로그래밍에서 '배열'에 해당, 파이썬에서는 리스트라고 부른다.\n",
    "- 하나의 변수에 여러 값을 할당하는 자료형\n",
    "    - 'example = [1, 2, 3, 4]'\n",
    "- 대괄호 사용\n",
    "- 내부 요소들의 자료형은 같을 필요 없다.\n",
    "    - example = [1, 'yes', True]\n",
    "- 순서가 있는 자료형 => 슬라이싱, 인덱싱\n",
    "- 빈 리스트 선언: 'set(), []'"
   ]
  },
  {
   "cell_type": "code",
   "execution_count": 25,
   "id": "fa9fc43f-0a7f-4eac-84ba-583e67c5d080",
   "metadata": {},
   "outputs": [],
   "source": [
    "empty = []"
   ]
  },
  {
   "cell_type": "code",
   "execution_count": 26,
   "id": "157e0275-096f-4c51-9e7b-b1e6ea65948c",
   "metadata": {},
   "outputs": [
    {
     "data": {
      "text/plain": [
       "'blue'"
      ]
     },
     "execution_count": 26,
     "metadata": {},
     "output_type": "execute_result"
    }
   ],
   "source": [
    "colors = ['blue', 'yellow', 'white']\n",
    "colors[0]"
   ]
  },
  {
   "cell_type": "code",
   "execution_count": 29,
   "id": "f4723d43-bbe3-470d-8e07-28ea6c254f71",
   "metadata": {
    "collapsed": true,
    "jupyter": {
     "outputs_hidden": true
    },
    "tags": []
   },
   "outputs": [
    {
     "ename": "TypeError",
     "evalue": "list indices must be integers or slices, not str",
     "output_type": "error",
     "traceback": [
      "\u001b[1;31m---------------------------------------------------------------------------\u001b[0m",
      "\u001b[1;31mTypeError\u001b[0m                                 Traceback (most recent call last)",
      "Input \u001b[1;32mIn [29]\u001b[0m, in \u001b[0;36m<cell line: 1>\u001b[1;34m()\u001b[0m\n\u001b[1;32m----> 1\u001b[0m \u001b[43mcolors\u001b[49m\u001b[43m[\u001b[49m\u001b[38;5;124;43m'\u001b[39;49m\u001b[38;5;124;43mblue\u001b[39;49m\u001b[38;5;124;43m'\u001b[39;49m\u001b[43m]\u001b[49m\n",
      "\u001b[1;31mTypeError\u001b[0m: list indices must be integers or slices, not str"
     ]
    }
   ],
   "source": [
    "#colors[02] 불가"
   ]
  },
  {
   "cell_type": "code",
   "execution_count": 30,
   "id": "5a910f32-0645-4851-bfc9-304af6a4f834",
   "metadata": {},
   "outputs": [
    {
     "data": {
      "text/plain": [
       "['white', 'yellow', 'blue']"
      ]
     },
     "execution_count": 30,
     "metadata": {},
     "output_type": "execute_result"
    }
   ],
   "source": [
    "colors[::-1]"
   ]
  },
  {
   "cell_type": "markdown",
   "id": "0aa23c76-71ce-4feb-b867-3400e9e2eb16",
   "metadata": {},
   "source": [
    "#### list comprehension\n",
    "- 포함(지능/축약)형 리스트\n",
    "- 하나의 리스트에서 그걸 포함하여 다른 리스트를 만든다.\n",
    "- list + for loop\n",
    "- [A for A' in C]\n",
    "    - C에 있는 A'에서 A를 가져와라 => 리스트에 담아서 반환\n",
    "    - A: 내가 원하는 형태\n",
    "    - A' : C의 형태\n",
    "    - C: 반복가능한 자료형 (리스트)\n",
    "    \n",
    "- 조건 추가: [A for A' in C if ...]"
   ]
  },
  {
   "cell_type": "code",
   "execution_count": 32,
   "id": "96a35957-cf05-450b-a936-24221183c6a4",
   "metadata": {},
   "outputs": [
    {
     "data": {
      "text/plain": [
       "['blue', 'yellow', 'white']"
      ]
     },
     "execution_count": 32,
     "metadata": {},
     "output_type": "execute_result"
    }
   ],
   "source": [
    "[color for color in colors]"
   ]
  },
  {
   "cell_type": "code",
   "execution_count": 33,
   "id": "bae6cfed-bfda-4693-8ef5-39960ee25a2d",
   "metadata": {},
   "outputs": [
    {
     "data": {
      "text/plain": [
       "['[', 'y', 'k', 'y', 'n', 'e', '1', ']', 'Y', '.']"
      ]
     },
     "execution_count": 33,
     "metadata": {},
     "output_type": "execute_result"
    }
   ],
   "source": [
    "# text1의 토큰 중 처음 10개 단어에서 마지막 알파벳 반환\n",
    "[word[-1] for word in text1.tokens[:10]] # 이쪽 복습 많이 하기.."
   ]
  },
  {
   "cell_type": "code",
   "execution_count": 38,
   "id": "246717a4-d640-48f7-a14e-d027bc23fd30",
   "metadata": {},
   "outputs": [
    {
     "data": {
      "text/plain": [
       "['.']"
      ]
     },
     "execution_count": 38,
     "metadata": {},
     "output_type": "execute_result"
    }
   ],
   "source": [
    "[word for word in text1.tokens[:10] if (len(word) < 3) and (word == '.') ]"
   ]
  },
  {
   "cell_type": "code",
   "execution_count": 39,
   "id": "25cf67ec-7877-4c44-9eeb-71d1dec0b27e",
   "metadata": {},
   "outputs": [],
   "source": [
    "#2. text3에서 대문자인 단어를 소문자로 추출"
   ]
  },
  {
   "cell_type": "code",
   "execution_count": 40,
   "id": "cf48ed96-9e92-49f6-9a43-89ed3e4a00a0",
   "metadata": {},
   "outputs": [
    {
     "data": {
      "text/plain": [
       "False"
      ]
     },
     "execution_count": 40,
     "metadata": {},
     "output_type": "execute_result"
    }
   ],
   "source": [
    "'hey'.isupper()"
   ]
  },
  {
   "cell_type": "code",
   "execution_count": 41,
   "id": "0c456fa2-359d-400d-b60c-ce52a8540c7e",
   "metadata": {},
   "outputs": [
    {
     "data": {
      "text/plain": [
       "'her'"
      ]
     },
     "execution_count": 41,
     "metadata": {},
     "output_type": "execute_result"
    }
   ],
   "source": [
    "'HER'.lower()"
   ]
  },
  {
   "cell_type": "code",
   "execution_count": 54,
   "id": "a288bc86-6d25-4a6c-a129-8a5bc948c6ad",
   "metadata": {},
   "outputs": [
    {
     "data": {
      "text/plain": [
       "['iamahotniplickme',\n",
       " '!!!!!!!!!!!!!!!!',\n",
       " 'iamahotnipwithpics',\n",
       " 'iamahotnipwithhotnippics',\n",
       " '--------------------',\n",
       " '..............................',\n",
       " '!!!!!!!!!!!!!!!!',\n",
       " 'mikeeeeeeeeeeeeeeeeeeeeeeeeee',\n",
       " 'oooooooooooooonnnnnnnnnnnneeeeeeeeeeeeeeesssssssss',\n",
       " 'WEEEEEEEEEEEEEEEEEE',\n",
       " '!!!!!!!!!!!!!!!!!!!!!!!',\n",
       " 'niteeeeeeeeeeeeeeeeeee',\n",
       " '#talkcity_adults',\n",
       " 'http://forums.talkcity.com/tc-adults/start ',\n",
       " '#talkcity_adults',\n",
       " 'http://www.shadowbots.com',\n",
       " '(((((((((((((((((((((',\n",
       " ')))))))))))))))))))))',\n",
       " 'huuuuuuuuuuuuuuuuuuuuuuuuuuuuuuuuuuugZ',\n",
       " ')))))))))))))))',\n",
       " 'wooooooooooooohoooooooooooooooo',\n",
       " 'www.Wunderground.com',\n",
       " '//www.wunderground.com/cgi-bin/findweather/getForecast?query=95953#FIR',\n",
       " 'www.Wunderground.com',\n",
       " 'www.Wunderground.com',\n",
       " '#talkcity_adults',\n",
       " 'whoaaaaaaaaaaaa',\n",
       " '((((((((((((((((((((',\n",
       " ')))))))))))))))))))',\n",
       " '((((((((((((((((((',\n",
       " ')))))))))))))))))))',\n",
       " '(((((((((((((((((',\n",
       " ')))))))))))))))))))))',\n",
       " 'ohhhhhhhhhhhhhhhh',\n",
       " '((((((((((((((((((((',\n",
       " ')))))))))))))))))))))))))))))))',\n",
       " '((((((((((((((((((((((((((',\n",
       " ')))))))))))))))))))))',\n",
       " '(((((((((((((((',\n",
       " ')))))))))))))))))))',\n",
       " 'grrrrrrrrrrrrrrrrr',\n",
       " '(((((((((((((((((',\n",
       " '))))))))))))))))))))))',\n",
       " '.(..(.vMp3 v1.7.4.).)',\n",
       " 'technologically',\n",
       " '.A.n.a.c.?.n.?.a.',\n",
       " '#talkcity_adults',\n",
       " 'http://forums.talkcity.com/tc-adults/start ',\n",
       " '#talkcity_adults',\n",
       " 'http://www.shadowbots.com',\n",
       " 'Nooooooooooooooo',\n",
       " '#talkcity_adults',\n",
       " '#talkcity_adults',\n",
       " 'hearthechatters',\n",
       " 'bwahahahahahahahahahaha',\n",
       " '[[[[[[[[[[[[[[[[[[',\n",
       " ']]]]]]]]]]]]]]]]]]]]]',\n",
       " 'noooooooooooooo',\n",
       " '#talkcity_adults',\n",
       " '#talkcity_adults',\n",
       " '<3333333333333333',\n",
       " '<33333333333333333',\n",
       " 'heeheeheeheeheehee',\n",
       " '))))))))))))))))))))))))))))',\n",
       " 'agurlwithbigguns',\n",
       " 'agurlwithbigguns',\n",
       " 'anyyyyyyyyyyyyyyyyy',\n",
       " 'muahsssssssssssssssssss',\n",
       " '(((((((((((((((',\n",
       " 'muahssssssssssssssss',\n",
       " '((((((((((((((((((((((((',\n",
       " ')))))))))))))))))',\n",
       " '(((((((((((((((((((((((',\n",
       " ')))))))))))))))',\n",
       " '(((((((((((((((((((((((((',\n",
       " '(((((((((((((((',\n",
       " '#talkcity_adults',\n",
       " '#talkcity_adults',\n",
       " 'http://www.shadowbots.com',\n",
       " 'antidepressants',\n",
       " 'antidepressants',\n",
       " 'antidepressants',\n",
       " 'heyyyyyyyyyyyyyy',\n",
       " '!!!!!!!!!!!!!!!!!!!!!!!!!!!',\n",
       " 'miiiiiinnnnnnnnnneeeeeeee',\n",
       " '....................',\n",
       " '...................',\n",
       " '..................',\n",
       " 'lllllllliiiiiiiiiikeee',\n",
       " 'miiiiiiiiiiiiinnnnnnnnnnneeeeeeeeee',\n",
       " 'aiiiiiiiiiiiiiiiiiiiiiiii',\n",
       " 'mmmmmmmmiiiiiiiiinnnnnnnnneeeeeeee',\n",
       " 'woooooooooaaaahhhhhhhhhhhh',\n",
       " 'backfrontsidewaysandallaroundtheworld',\n",
       " 'ahhhhhhhhhhhhhh',\n",
       " '#talkcity_adults',\n",
       " 'tatatatnanaantatat',\n",
       " '#talkcity_adults',\n",
       " '#talkcity_adults',\n",
       " 'weeeeeeeeeeeeeeeeeeeeeeeeed',\n",
       " '#talkcity_adults',\n",
       " 'hahahahahahahahahahahahahahahaha',\n",
       " '!!!!!!!!!!!!!!!!',\n",
       " 'eeeeeeeeewwwwwwww',\n",
       " '.(..(.vMp3 vi.p.t.)..).',\n",
       " '.(..(.vMp3 vi.p.t.)..).',\n",
       " 'cooooooooookiiiiiiiiiiiieeeeeeeeeeee',\n",
       " 'yuuuuuuuuuuuummmmmmmmmmmm',\n",
       " 'aaaaaaaaaaaaaaaaa',\n",
       " 'raaaaaaaaaaaaaaaaaaaaaaaaaaaaa',\n",
       " 'weeeeeeeeeeeeeeee',\n",
       " 'oooooooooooglyyyyyyyy',\n",
       " 'boooooooooooglyyyyyy',\n",
       " 'HHEEYYYYYYYYYYYYYYYYYYYYYYYYYYYYYYYYYYYYYYYYYYYYYYY',\n",
       " 'llloooozzzzeeerrrrzzzzzzzzzzzzzzzzzzzzzzzzzzzzzzzzzzzzzzzzzzzzzzzzz',\n",
       " '!!!!!!!!!!!!!!!!!!!!!!!!!!!!',\n",
       " '................',\n",
       " '........................',\n",
       " '!!!!!!!!!!!!!!!!!!!!!!',\n",
       " '!!!!!!!!!!!!!!!!!!!!!!',\n",
       " 'byeeeeeeeeeeeee',\n",
       " 'peace-and-quiet',\n",
       " '#talkcity_adults',\n",
       " 'http://forums.talkcity.com/tc-adults/start ',\n",
       " '#talkcity_adults',\n",
       " 'http://www.shadowbots.com',\n",
       " 'Mooooooooooooooooooooooooooo',\n",
       " 'wheeeeeeeeeeeeeeeeeeeeeeeeeeeeeeeeee',\n",
       " 'bbbbbyyyyyyyeeeeeeeee',\n",
       " '!!!!!!!!!!!!!!!!!!!!!!!!!!!!!!!!!!!!!!!!!!!!!!!!!!!!!!',\n",
       " 'HolocaustYourMom',\n",
       " 'Bloooooooooooood',\n",
       " 'BAAAAALLLLLLLLIIIIIIINNNNNNNNNNN']"
      ]
     },
     "execution_count": 54,
     "metadata": {},
     "output_type": "execute_result"
    }
   ],
   "source": [
    "#1.  text5에서 길이가 15 이상인 단어 추출하\n",
    "[word for word in text5.tokens if len(word) >= 15] # 대괄호 꼭 해주기"
   ]
  },
  {
   "cell_type": "code",
   "execution_count": 55,
   "id": "c3b03f2a-db46-4ced-8fda-06c0b1ea4884",
   "metadata": {},
   "outputs": [
    {
     "data": {
      "text/plain": [
       "['i', 'i', 'lord', 'lord', 'lord', 'lord']"
      ]
     },
     "execution_count": 55,
     "metadata": {},
     "output_type": "execute_result"
    }
   ],
   "source": [
    "#2. text3에서 대문자인 단어를 소문자로 추출\n",
    "[word.lower() for word in text3 if (word.isupper())][:6] # 출력을 할 A에 lower 함수를.."
   ]
  },
  {
   "cell_type": "markdown",
   "id": "41a58a2f-6ec8-466e-a25e-6979dbaf3bcc",
   "metadata": {},
   "source": [
    "#### cased, uncased\n",
    "- 'upper(), lower(), title(), swapcase()' # 변환\n",
    "- 'isupper(), islower(), istitle()' # 형태 체크\n",
    "    - 'endswith(<string>), startswith()' \n",
    "    \n",
    "- isalpha(): 문자냐\n",
    "- 'string'.upper()\n",
    "- 'string'.endswith()"
   ]
  },
  {
   "cell_type": "code",
   "execution_count": null,
   "id": "57c16a7c-4454-44fd-90d9-03f72ec9ea1b",
   "metadata": {},
   "outputs": [],
   "source": [
    "# text1에서 'ableness'로 끝나는 단어를 중복없이, 정렬해서"
   ]
  },
  {
   "cell_type": "code",
   "execution_count": 69,
   "id": "f29a33bc-dae8-48f0-b140-ed1ec53abaed",
   "metadata": {},
   "outputs": [
    {
     "data": {
      "text/plain": [
       "[['comfortableness',\n",
       "  'honourableness',\n",
       "  'immutableness',\n",
       "  'indispensableness',\n",
       "  'indomitableness',\n",
       "  'intolerableness',\n",
       "  'palpableness',\n",
       "  'reasonableness',\n",
       "  'uncomfortableness']]"
      ]
     },
     "execution_count": 69,
     "metadata": {},
     "output_type": "execute_result"
    }
   ],
   "source": [
    "[sorted(set(word for word in text1 if word.endswith('ableness')))]"
   ]
  },
  {
   "cell_type": "code",
   "execution_count": 70,
   "id": "a7345058-ccde-4b0a-af50-2d1370b7f4bf",
   "metadata": {},
   "outputs": [],
   "source": [
    "# text4에서 'gnt'가 포함된 단어들을 소문자로 리스트 반환"
   ]
  },
  {
   "cell_type": "code",
   "execution_count": 57,
   "id": "645b0059-28f2-429c-8a7b-9b1328eb2aaa",
   "metadata": {
    "collapsed": true,
    "jupyter": {
     "outputs_hidden": true
    },
    "tags": []
   },
   "outputs": [
    {
     "data": {
      "text/plain": [
       "[{'sovereignty'},\n",
       " {'sovereignty'},\n",
       " {'sovereignty'},\n",
       " {'sovereignty'},\n",
       " {'sovereignty'},\n",
       " {'sovereignty'},\n",
       " {'sovereignty'},\n",
       " {'sovereignty'},\n",
       " {'sovereignty'},\n",
       " {'sovereignties'},\n",
       " {'sovereignties'},\n",
       " {'sovereignty'},\n",
       " {'sovereignties'},\n",
       " {'sovereignty'},\n",
       " {'sovereignty'},\n",
       " {'sovereignty'},\n",
       " {'sovereignty'},\n",
       " {'sovereignty'},\n",
       " {'sovereignty'},\n",
       " {'sovereignty'},\n",
       " {'sovereignty'},\n",
       " {'sovereignty'},\n",
       " {'sovereignty'},\n",
       " {'sovereignty'},\n",
       " {'sovereignty'},\n",
       " {'sovereignty'},\n",
       " {'sovereignties'},\n",
       " {'sovereignty'},\n",
       " {'sovereignty'},\n",
       " {'sovereignty'},\n",
       " {'sovereignty'}]"
      ]
     },
     "execution_count": 57,
     "metadata": {},
     "output_type": "execute_result"
    }
   ],
   "source": [
    "[set([w.lower()]) for w in text4 if 'gnt' in w] \n",
    "\n",
    "# 작업을 끝낸 뒤 중복을 없앰\n",
    "# 소문자로 리스트 반환 -> A 부분\n",
    "# text4에서 'gnt'가 포함 -> C 부분"
   ]
  },
  {
   "cell_type": "markdown",
   "id": "5dfe7fec-9c14-4b35-849d-b3a49090a056",
   "metadata": {},
   "source": [
    "### NLTK\n",
    "- Frequency Distribution: 단어가 몇 번 출현했는지 (빈도수)\n",
    "- 텍스트의 성질 알기위해\n",
    "    - 단어 개수\n",
    "    - 단어 빈도수\n"
   ]
  },
  {
   "cell_type": "code",
   "execution_count": 85,
   "id": "5684fff9-2b64-4182-8f0c-c289cd64723a",
   "metadata": {},
   "outputs": [
    {
     "data": {
      "text/plain": [
       "True"
      ]
     },
     "execution_count": 85,
     "metadata": {},
     "output_type": "execute_result"
    }
   ],
   "source": [
    "import nltk\n",
    "from nltk.book import *\n",
    "nltk.download('book', quiet = True)"
   ]
  },
  {
   "cell_type": "code",
   "execution_count": 3,
   "id": "f43a9cf1-cda5-4d0e-92b8-000033bd3062",
   "metadata": {},
   "outputs": [],
   "source": [
    "fdist = FreqDist(text1)"
   ]
  },
  {
   "cell_type": "code",
   "execution_count": 58,
   "id": "1575e972-9b01-4336-b637-cc0240250543",
   "metadata": {
    "collapsed": true,
    "jupyter": {
     "outputs_hidden": true
    },
    "tags": []
   },
   "outputs": [
    {
     "data": {
      "text/plain": [
       "[(',', 18713),\n",
       " ('the', 13721),\n",
       " ('.', 6862),\n",
       " ('of', 6536),\n",
       " ('and', 6024),\n",
       " ('a', 4569),\n",
       " ('to', 4542),\n",
       " (';', 4072),\n",
       " ('in', 3916),\n",
       " ('that', 2982),\n",
       " (\"'\", 2684),\n",
       " ('-', 2552),\n",
       " ('his', 2459),\n",
       " ('it', 2209),\n",
       " ('I', 2124),\n",
       " ('s', 1739),\n",
       " ('is', 1695),\n",
       " ('he', 1661),\n",
       " ('with', 1659),\n",
       " ('was', 1632),\n",
       " ('as', 1620),\n",
       " ('\"', 1478),\n",
       " ('all', 1462),\n",
       " ('for', 1414),\n",
       " ('this', 1280),\n",
       " ('!', 1269),\n",
       " ('at', 1231),\n",
       " ('by', 1137),\n",
       " ('but', 1113),\n",
       " ('not', 1103),\n",
       " ('--', 1070),\n",
       " ('him', 1058),\n",
       " ('from', 1052),\n",
       " ('be', 1030),\n",
       " ('on', 1005),\n",
       " ('so', 918),\n",
       " ('whale', 906),\n",
       " ('one', 889),\n",
       " ('you', 841),\n",
       " ('had', 767),\n",
       " ('have', 760),\n",
       " ('there', 715),\n",
       " ('But', 705),\n",
       " ('or', 697),\n",
       " ('were', 680),\n",
       " ('now', 646),\n",
       " ('which', 640),\n",
       " ('?', 637),\n",
       " ('me', 627),\n",
       " ('like', 624)]"
      ]
     },
     "execution_count": 58,
     "metadata": {},
     "output_type": "execute_result"
    }
   ],
   "source": [
    "fdist.most_common(50) # 가장 빈번하게 나온 문자 50번째까지"
   ]
  },
  {
   "cell_type": "code",
   "execution_count": 5,
   "id": "11f6ebb3-3aa8-4087-b00e-db18d996621a",
   "metadata": {},
   "outputs": [
    {
     "data": {
      "text/plain": [
       "2982"
      ]
     },
     "execution_count": 5,
     "metadata": {},
     "output_type": "execute_result"
    }
   ],
   "source": [
    "fdist['that']"
   ]
  },
  {
   "cell_type": "code",
   "execution_count": 16,
   "id": "957b23be-82ed-4ea3-b549-2507338e643c",
   "metadata": {
    "collapsed": true,
    "jupyter": {
     "outputs_hidden": true
    },
    "tags": []
   },
   "outputs": [
    {
     "data": {
      "text/plain": [
       "[(',', 18713),\n",
       " ('the', 13721),\n",
       " ('.', 6862),\n",
       " ('of', 6536),\n",
       " ('and', 6024),\n",
       " ('a', 4569),\n",
       " ('to', 4542),\n",
       " (';', 4072),\n",
       " ('in', 3916),\n",
       " ('that', 2982),\n",
       " (\"'\", 2684),\n",
       " ('-', 2552),\n",
       " ('his', 2459),\n",
       " ('it', 2209),\n",
       " ('I', 2124),\n",
       " ('s', 1739),\n",
       " ('is', 1695),\n",
       " ('he', 1661),\n",
       " ('with', 1659),\n",
       " ('was', 1632),\n",
       " ('as', 1620),\n",
       " ('\"', 1478),\n",
       " ('all', 1462),\n",
       " ('for', 1414),\n",
       " ('this', 1280),\n",
       " ('!', 1269),\n",
       " ('at', 1231),\n",
       " ('by', 1137),\n",
       " ('but', 1113),\n",
       " ('not', 1103),\n",
       " ('--', 1070),\n",
       " ('him', 1058),\n",
       " ('from', 1052),\n",
       " ('be', 1030),\n",
       " ('on', 1005),\n",
       " ('so', 918),\n",
       " ('whale', 906),\n",
       " ('one', 889),\n",
       " ('you', 841),\n",
       " ('had', 767),\n",
       " ('have', 760),\n",
       " ('there', 715),\n",
       " ('But', 705),\n",
       " ('or', 697),\n",
       " ('were', 680),\n",
       " ('now', 646),\n",
       " ('which', 640),\n",
       " ('?', 637),\n",
       " ('me', 627),\n",
       " ('like', 624)]"
      ]
     },
     "execution_count": 16,
     "metadata": {},
     "output_type": "execute_result"
    }
   ],
   "source": [
    "fdist.most_common(50)"
   ]
  },
  {
   "cell_type": "code",
   "execution_count": 17,
   "id": "53c056a6-66fd-4db5-ae84-68bf4b6886e8",
   "metadata": {},
   "outputs": [
    {
     "data": {
      "text/plain": [
       "(2982, 2982)"
      ]
     },
     "execution_count": 17,
     "metadata": {},
     "output_type": "execute_result"
    }
   ],
   "source": [
    "fdist['that'], text1.count('that')"
   ]
  },
  {
   "cell_type": "code",
   "execution_count": 18,
   "id": "a3a150ce-d5c3-49d9-a6cd-ad58f820b246",
   "metadata": {},
   "outputs": [
    {
     "data": {
      "text/plain": [
       "0.011433216138394826"
      ]
     },
     "execution_count": 18,
     "metadata": {},
     "output_type": "execute_result"
    }
   ],
   "source": [
    "fdist.freq('that') #비율"
   ]
  },
  {
   "cell_type": "code",
   "execution_count": 21,
   "id": "766051e3-5949-4db4-bc06-dddf02cdd16d",
   "metadata": {
    "collapsed": true,
    "jupyter": {
     "outputs_hidden": true
    },
    "tags": []
   },
   "outputs": [
    {
     "name": "stdout",
     "output_type": "stream",
     "text": [
      "Requirement already satisfied: matplotlib in c:\\users\\82103\\.conda\\envs\\jupyterlab\\lib\\site-packages (3.5.1)\n",
      "Requirement already satisfied: packaging>=20.0 in c:\\users\\82103\\.conda\\envs\\jupyterlab\\lib\\site-packages (from matplotlib) (21.3)\n",
      "Requirement already satisfied: kiwisolver>=1.0.1 in c:\\users\\82103\\.conda\\envs\\jupyterlab\\lib\\site-packages (from matplotlib) (1.4.0)\n",
      "Requirement already satisfied: numpy>=1.17 in c:\\users\\82103\\.conda\\envs\\jupyterlab\\lib\\site-packages (from matplotlib) (1.22.3)\n",
      "Requirement already satisfied: pillow>=6.2.0 in c:\\users\\82103\\.conda\\envs\\jupyterlab\\lib\\site-packages (from matplotlib) (9.0.1)\n",
      "Requirement already satisfied: python-dateutil>=2.7 in c:\\users\\82103\\appdata\\roaming\\python\\python39\\site-packages (from matplotlib) (2.8.2)\n",
      "Requirement already satisfied: cycler>=0.10 in c:\\users\\82103\\.conda\\envs\\jupyterlab\\lib\\site-packages (from matplotlib) (0.11.0)\n",
      "Requirement already satisfied: pyparsing>=2.2.1 in c:\\users\\82103\\.conda\\envs\\jupyterlab\\lib\\site-packages (from matplotlib) (3.0.4)\n",
      "Requirement already satisfied: fonttools>=4.22.0 in c:\\users\\82103\\.conda\\envs\\jupyterlab\\lib\\site-packages (from matplotlib) (4.31.2)\n",
      "Requirement already satisfied: six>=1.5 in c:\\users\\82103\\appdata\\roaming\\python\\python39\\site-packages (from python-dateutil>=2.7->matplotlib) (1.16.0)\n"
     ]
    }
   ],
   "source": [
    "!pip install matplotlib  \n",
    "# 깔려있지 않으면 사진이 안나옴"
   ]
  },
  {
   "cell_type": "code",
   "execution_count": 22,
   "id": "e38b4ba4-20c8-46a3-8dd9-20c1daf6e714",
   "metadata": {
    "tags": []
   },
   "outputs": [
    {
     "data": {
      "image/png": "[encoded data removed]",
      "text/plain": [
       "<Figure size 432x288 with 1 Axes>"
      ]
     },
     "metadata": {
      "needs_background": "light"
     },
     "output_type": "display_data"
    },
    {
     "data": {
      "text/plain": [
       "<AxesSubplot:xlabel='Samples', ylabel='Cumulative Counts'>"
      ]
     },
     "execution_count": 22,
     "metadata": {},
     "output_type": "execute_result"
    }
   ],
   "source": [
    "fdist.plot(50, cumulative = True)"
   ]
  },
  {
   "cell_type": "code",
   "execution_count": 86,
   "id": "4c031b14-6515-4a82-a4d7-217d85c4b255",
   "metadata": {},
   "outputs": [
    {
     "data": {
      "image/png": "[encoded data removed]",
      "text/plain": [
       "<Figure size 432x288 with 1 Axes>"
      ]
     },
     "metadata": {
      "needs_background": "light"
     },
     "output_type": "display_data"
    },
    {
     "data": {
      "text/plain": [
       "<AxesSubplot:xlabel='Samples', ylabel='Counts'>"
      ]
     },
     "execution_count": 86,
     "metadata": {},
     "output_type": "execute_result"
    }
   ],
   "source": [
    "fdist.plot(45, cumulative = False)"
   ]
  },
  {
   "cell_type": "code",
   "execution_count": 23,
   "id": "e7901872-e201-419c-9997-41b154d847fd",
   "metadata": {},
   "outputs": [
    {
     "data": {
      "text/plain": [
       "9002"
      ]
     },
     "execution_count": 23,
     "metadata": {},
     "output_type": "execute_result"
    }
   ],
   "source": [
    "# 가장 빈번하지 않은 => 1번 나타나는 단어들\n",
    " # 알파벳만 리스트에 담아보기\n",
    "len(fdist.hapaxes())"
   ]
  },
  {
   "cell_type": "code",
   "execution_count": 59,
   "id": "e23a7e75-285c-4d78-91ee-58a0b907f5c4",
   "metadata": {
    "collapsed": true,
    "jupyter": {
     "outputs_hidden": true
    },
    "tags": []
   },
   "outputs": [
    {
     "data": {
      "text/plain": [
       "['Herman',\n",
       " 'Melville',\n",
       " 'ETYMOLOGY',\n",
       " 'Late',\n",
       " 'Consumptive',\n",
       " 'School',\n",
       " 'threadbare',\n",
       " 'lexicons',\n",
       " 'mockingly',\n",
       " 'flags',\n",
       " 'mortality',\n",
       " 'signification',\n",
       " 'HACKLUYT',\n",
       " 'Sw',\n",
       " 'HVAL',\n",
       " 'roundness',\n",
       " 'Dut',\n",
       " 'Ger',\n",
       " 'WALLEN',\n",
       " 'WALW',\n",
       " 'IAN',\n",
       " 'RICHARDSON',\n",
       " 'KETOS',\n",
       " 'GREEK',\n",
       " 'CETUS',\n",
       " 'LATIN',\n",
       " 'WHOEL',\n",
       " 'ANGLO',\n",
       " 'SAXON',\n",
       " 'WAL',\n",
       " 'HWAL',\n",
       " 'SWEDISH',\n",
       " 'ICELANDIC',\n",
       " 'BALEINE',\n",
       " 'BALLENA',\n",
       " 'FEGEE',\n",
       " 'ERROMANGOAN',\n",
       " 'Librarian',\n",
       " 'painstaking',\n",
       " 'burrower',\n",
       " 'grub',\n",
       " 'Vaticans',\n",
       " 'stalls',\n",
       " 'higgledy',\n",
       " 'piggledy',\n",
       " 'gospel',\n",
       " 'promiscuously',\n",
       " 'commentator',\n",
       " 'belongest',\n",
       " 'sallow',\n",
       " 'Pale',\n",
       " 'Sherry',\n",
       " 'loves',\n",
       " 'bluntly',\n",
       " 'Subs',\n",
       " 'thankless',\n",
       " 'Hampton',\n",
       " 'Court',\n",
       " 'hie',\n",
       " 'refugees',\n",
       " 'pampered',\n",
       " 'Michael',\n",
       " 'Raphael',\n",
       " 'unsplinterable',\n",
       " 'GENESIS',\n",
       " 'JOB',\n",
       " 'JONAH',\n",
       " 'punish',\n",
       " 'ISAIAH',\n",
       " 'soever',\n",
       " 'cometh',\n",
       " 'incontinently',\n",
       " 'perisheth',\n",
       " 'PLUTARCH',\n",
       " 'MORALS',\n",
       " 'breedeth',\n",
       " 'Whirlpooles',\n",
       " 'Balaene',\n",
       " 'arpens',\n",
       " 'PLINY',\n",
       " 'Scarcely',\n",
       " 'TOOKE',\n",
       " 'LUCIAN',\n",
       " 'TRUE',\n",
       " 'catched',\n",
       " 'OCTHER',\n",
       " 'VERBAL',\n",
       " 'TAKEN',\n",
       " 'MOUTH',\n",
       " 'ALFRED',\n",
       " 'gudgeon',\n",
       " 'retires',\n",
       " 'MONTAIGNE',\n",
       " 'APOLOGY',\n",
       " 'RAIMOND',\n",
       " 'SEBOND',\n",
       " 'Nick',\n",
       " 'RABELAIS',\n",
       " 'cartloads',\n",
       " 'STOWE',\n",
       " 'ANNALS',\n",
       " 'LORD',\n",
       " 'BACON',\n",
       " 'Touching',\n",
       " 'ork',\n",
       " 'DEATH',\n",
       " 'sovereignest',\n",
       " 'bruise',\n",
       " 'HAMLET',\n",
       " 'leach',\n",
       " 'Mote',\n",
       " 'availle',\n",
       " 'returne',\n",
       " 'againe',\n",
       " 'worker',\n",
       " 'Dinting',\n",
       " 'paine',\n",
       " 'thro',\n",
       " 'maine',\n",
       " 'FAERIE',\n",
       " 'Immense',\n",
       " 'til',\n",
       " 'DAVENANT',\n",
       " 'PREFACE',\n",
       " 'GONDIBERT',\n",
       " 'spermacetti',\n",
       " 'Hosmannus',\n",
       " 'Nescio',\n",
       " 'VIDE',\n",
       " 'Spencer',\n",
       " 'Talus',\n",
       " 'flail',\n",
       " 'threatens',\n",
       " 'jav',\n",
       " 'lins',\n",
       " 'WALLER',\n",
       " 'SUMMER',\n",
       " 'ISLANDS',\n",
       " 'Commonwealth',\n",
       " 'Civitas',\n",
       " 'OPENING',\n",
       " 'SENTENCE',\n",
       " 'HOBBES',\n",
       " 'LEVIATHAN',\n",
       " 'Silly',\n",
       " 'Mansoul',\n",
       " 'chewing',\n",
       " 'sprat',\n",
       " 'PILGRIM',\n",
       " 'PROGRESS',\n",
       " 'Created',\n",
       " 'PARADISE',\n",
       " 'LOST',\n",
       " 'Hugest',\n",
       " 'Stretched',\n",
       " 'Draws',\n",
       " 'FULLLER',\n",
       " 'PROFANE',\n",
       " 'HOLY',\n",
       " 'STATE',\n",
       " 'DRYDEN',\n",
       " 'ANNUS',\n",
       " 'MIRABILIS',\n",
       " 'aground',\n",
       " 'EDGE',\n",
       " 'TEN',\n",
       " 'SPITZBERGEN',\n",
       " 'PURCHAS',\n",
       " 'wantonness',\n",
       " 'fuzzing',\n",
       " 'vents',\n",
       " 'HERBERT',\n",
       " 'INTO',\n",
       " 'ASIA',\n",
       " 'AFRICA',\n",
       " 'SCHOUTEN',\n",
       " 'SIXTH',\n",
       " 'CIRCUMNAVIGATION',\n",
       " 'Elbe',\n",
       " 'ducat',\n",
       " 'herrings',\n",
       " 'GREENLAND',\n",
       " 'Several',\n",
       " 'Fife',\n",
       " 'Anno',\n",
       " 'Pitferren',\n",
       " 'SIBBALD',\n",
       " 'FIFE',\n",
       " 'KINROSS',\n",
       " 'Myself',\n",
       " 'Sperma',\n",
       " 'ceti',\n",
       " 'fierceness',\n",
       " 'RICHARD',\n",
       " 'STRAFFORD',\n",
       " 'LETTER',\n",
       " 'BERMUDAS',\n",
       " 'PHIL',\n",
       " 'TRANS',\n",
       " 'PRIMER',\n",
       " 'COWLEY',\n",
       " 'frequendy',\n",
       " 'insupportable',\n",
       " 'disorder',\n",
       " 'ULLOA',\n",
       " 'SOUTH',\n",
       " 'AMERICA',\n",
       " 'sylphs',\n",
       " 'petticoat',\n",
       " 'Oft',\n",
       " 'Tho',\n",
       " 'RAPE',\n",
       " 'LOCK',\n",
       " 'NAT',\n",
       " 'wales',\n",
       " 'JOHNSON',\n",
       " 'COOK',\n",
       " 'dung',\n",
       " 'lime',\n",
       " 'juniper',\n",
       " 'UNO',\n",
       " 'VON',\n",
       " 'TROIL',\n",
       " 'LETTERS',\n",
       " 'BANKS',\n",
       " 'SOLANDER',\n",
       " 'Nantuckois',\n",
       " 'JEFFERSON',\n",
       " 'MEMORIAL',\n",
       " 'MINISTER',\n",
       " 'REFERENCE',\n",
       " 'PARLIAMENT',\n",
       " 'SOMEWHERE',\n",
       " 'guarding',\n",
       " 'protecting',\n",
       " 'robbers',\n",
       " 'BLACKSTONE',\n",
       " 'Rodmond',\n",
       " 'suspends',\n",
       " 'attends',\n",
       " 'FALCONER',\n",
       " 'Bright',\n",
       " 'roofs',\n",
       " 'domes',\n",
       " 'rockets',\n",
       " 'Around',\n",
       " 'unwieldy',\n",
       " 'COWPER',\n",
       " 'VISIT',\n",
       " 'LONDON',\n",
       " 'HUNTER',\n",
       " 'DISSECTION',\n",
       " 'SMALL',\n",
       " 'SIZED',\n",
       " 'aorta',\n",
       " 'gushing',\n",
       " 'PALEY',\n",
       " 'THEOLOGY',\n",
       " 'mammiferous',\n",
       " 'hind',\n",
       " 'BARON',\n",
       " 'CUVIER',\n",
       " 'COLNETT',\n",
       " 'PURPOSE',\n",
       " 'EXTENDING',\n",
       " 'SPERMACETI',\n",
       " 'Floundered',\n",
       " 'chace',\n",
       " 'peopling',\n",
       " 'Gather',\n",
       " 'Led',\n",
       " 'instincts',\n",
       " 'trackless',\n",
       " 'Assaulted',\n",
       " 'voracious',\n",
       " 'spiral',\n",
       " 'MONTGOMERY',\n",
       " 'WORLD',\n",
       " 'FLOOD',\n",
       " 'Paean',\n",
       " 'fatter',\n",
       " 'Flounders',\n",
       " 'CHARLES',\n",
       " 'LAMB',\n",
       " 'TRIUMPH',\n",
       " 'OBED',\n",
       " 'Susan',\n",
       " 'HAWTHORNE',\n",
       " 'TWICE',\n",
       " 'bespeak',\n",
       " 'raal',\n",
       " 'COOPER',\n",
       " 'PILOT',\n",
       " 'Berlin',\n",
       " 'Gazette',\n",
       " 'ECKERMANN',\n",
       " 'CONVERSATIONS',\n",
       " 'GOETHE',\n",
       " 'ESSEX',\n",
       " 'WAS',\n",
       " 'ATTACKED',\n",
       " 'FINALLY',\n",
       " 'DESTROYED',\n",
       " 'OWEN',\n",
       " 'CHACE',\n",
       " 'FIRST',\n",
       " 'SAID',\n",
       " 'VESSEL',\n",
       " 'YORK',\n",
       " 'piping',\n",
       " 'dimmed',\n",
       " 'phospher',\n",
       " 'ELIZABETH',\n",
       " 'OAKES',\n",
       " 'SMITH',\n",
       " 'amounted',\n",
       " 'SCORESBY',\n",
       " 'Mad',\n",
       " 'agonies',\n",
       " 'endures',\n",
       " 'infuriated',\n",
       " 'rears',\n",
       " 'snaps',\n",
       " 'propelled',\n",
       " 'observers',\n",
       " 'opportunities',\n",
       " 'habitudes',\n",
       " 'BEALE',\n",
       " 'offensively',\n",
       " 'artful',\n",
       " 'mischievous',\n",
       " 'FREDERICK',\n",
       " 'DEBELL',\n",
       " 'October',\n",
       " 'Raise',\n",
       " 'ay',\n",
       " 'THAR',\n",
       " 'bowes',\n",
       " 'os',\n",
       " 'ROSS',\n",
       " 'ETCHINGS',\n",
       " 'CRUIZE',\n",
       " 'Globe',\n",
       " 'transactions',\n",
       " 'relate',\n",
       " 'HUSSEY',\n",
       " 'SURVIVORS',\n",
       " 'parried',\n",
       " 'MISSIONARY',\n",
       " 'JOURNAL',\n",
       " 'TYERMAN',\n",
       " 'boldest',\n",
       " 'persevering',\n",
       " 'REPORT',\n",
       " 'DANIEL',\n",
       " 'SPEECH',\n",
       " 'SENATE',\n",
       " 'APPLICATION',\n",
       " 'ERECTION',\n",
       " 'BREAKWATER',\n",
       " 'CAPTORS',\n",
       " 'WHALEMAN',\n",
       " 'ADVENTURES',\n",
       " 'BIOGRAPHY',\n",
       " 'GATHERED',\n",
       " 'HOMEWARD',\n",
       " 'COMMODORE',\n",
       " 'PREBLE',\n",
       " 'REV',\n",
       " 'CHEEVER',\n",
       " 'MUTINEER',\n",
       " 'BROTHER',\n",
       " 'ANOTHER',\n",
       " 'MCCULLOCH',\n",
       " 'COMMERCIAL',\n",
       " 'reciprocal',\n",
       " 'clews',\n",
       " 'SOMETHING',\n",
       " 'UNPUBLISHED',\n",
       " 'CURRENTS',\n",
       " 'Pedestrians',\n",
       " 'recollect',\n",
       " 'gateways',\n",
       " 'VOYAGER',\n",
       " 'ARCTIC',\n",
       " 'NEWSPAPER',\n",
       " 'TAKING',\n",
       " 'RETAKING',\n",
       " 'HOBOMACK',\n",
       " 'MIRIAM',\n",
       " 'FISHERMAN',\n",
       " 'appliance',\n",
       " 'RIBS',\n",
       " 'TRUCKS',\n",
       " 'Terra',\n",
       " 'Del',\n",
       " 'Fuego',\n",
       " 'DARWIN',\n",
       " 'NATURALIST',\n",
       " 'WHARTON',\n",
       " 'Loomings',\n",
       " 'spleen',\n",
       " 'regulating',\n",
       " 'circulation',\n",
       " 'Whenever',\n",
       " 'drizzly',\n",
       " 'hypos',\n",
       " 'philosophical',\n",
       " 'Cato',\n",
       " 'Manhattoes',\n",
       " 'reefs',\n",
       " 'downtown',\n",
       " 'gazers',\n",
       " 'Circumambulate',\n",
       " 'Corlears',\n",
       " 'Coenties',\n",
       " 'Slip',\n",
       " 'Whitehall',\n",
       " 'Posted',\n",
       " 'sentinels',\n",
       " 'spiles',\n",
       " 'pier',\n",
       " 'lath',\n",
       " 'counters',\n",
       " 'desks',\n",
       " 'loitering',\n",
       " 'shady',\n",
       " 'Inlanders',\n",
       " 'lanes',\n",
       " 'alleys',\n",
       " 'attract',\n",
       " 'dale',\n",
       " 'dreamiest',\n",
       " 'shadiest',\n",
       " 'quietest',\n",
       " 'enchanting',\n",
       " 'Saco',\n",
       " 'crucifix',\n",
       " 'Deep',\n",
       " 'mazy',\n",
       " 'Tiger',\n",
       " 'Tennessee',\n",
       " 'Rockaway',\n",
       " 'Persians',\n",
       " 'deity',\n",
       " 'Narcissus',\n",
       " 'ungraspable',\n",
       " 'hazy',\n",
       " 'quarrelsome',\n",
       " 'offices',\n",
       " 'abominate',\n",
       " 'toils',\n",
       " 'trials',\n",
       " 'barques',\n",
       " 'schooners',\n",
       " 'broiling',\n",
       " 'buttered',\n",
       " 'judgmatically',\n",
       " 'peppered',\n",
       " 'reverentially',\n",
       " 'idolatrous',\n",
       " 'dotings',\n",
       " 'ibis',\n",
       " 'roasted',\n",
       " 'bake',\n",
       " 'plumb',\n",
       " 'Van',\n",
       " 'Rensselaers',\n",
       " 'Randolphs',\n",
       " 'Hardicanutes',\n",
       " 'lording',\n",
       " 'tallest',\n",
       " 'decoction',\n",
       " 'Seneca',\n",
       " 'Stoics',\n",
       " 'Testament',\n",
       " 'promptly',\n",
       " 'rub',\n",
       " 'infliction',\n",
       " 'BEING',\n",
       " 'PAID',\n",
       " 'urbane',\n",
       " 'ills',\n",
       " 'monied',\n",
       " 'consign',\n",
       " 'prevalent',\n",
       " 'violate',\n",
       " 'Pythagorean',\n",
       " 'commonalty',\n",
       " 'police',\n",
       " 'surveillance',\n",
       " 'programme',\n",
       " 'solo',\n",
       " 'CONTESTED',\n",
       " 'ELECTION',\n",
       " 'PRESIDENCY',\n",
       " 'UNITED',\n",
       " 'STATES',\n",
       " 'ISHMAEL',\n",
       " 'BLOODY',\n",
       " 'AFFGHANISTAN',\n",
       " 'managers',\n",
       " 'genteel',\n",
       " 'comedies',\n",
       " 'farces',\n",
       " 'cunningly',\n",
       " 'disguises',\n",
       " 'cajoling',\n",
       " 'unbiased',\n",
       " 'freewill',\n",
       " 'discriminating',\n",
       " 'overwhelming',\n",
       " 'undeliverable',\n",
       " 'itch',\n",
       " 'forbidden',\n",
       " 'ignoring',\n",
       " 'lodges',\n",
       " 'Carpet',\n",
       " 'Bag',\n",
       " 'Manhatto',\n",
       " 'candidates',\n",
       " 'penalties',\n",
       " 'Tyre',\n",
       " 'Carthage',\n",
       " 'imported',\n",
       " 'cobblestones',\n",
       " 'bitingly',\n",
       " 'shouldering',\n",
       " 'price',\n",
       " 'fervent',\n",
       " 'asphaltic',\n",
       " 'pavement',\n",
       " 'flinty',\n",
       " 'projections',\n",
       " 'soles',\n",
       " 'Too',\n",
       " 'cheapest',\n",
       " 'cheeriest',\n",
       " 'invitingly',\n",
       " 'particles',\n",
       " 'peer',\n",
       " 'Angel',\n",
       " 'Doom',\n",
       " 'wailing',\n",
       " 'gnashing',\n",
       " 'Wretched',\n",
       " 'entertainment',\n",
       " 'Moving',\n",
       " 'emigrant',\n",
       " 'poverty',\n",
       " 'creak',\n",
       " 'lodgings',\n",
       " 'zephyr',\n",
       " 'hob',\n",
       " 'toasting',\n",
       " 'observest',\n",
       " 'sashless',\n",
       " 'glazier',\n",
       " 'reasonest',\n",
       " 'chinks',\n",
       " 'crannies',\n",
       " 'lint',\n",
       " 'chattering',\n",
       " 'shiverings',\n",
       " 'cob',\n",
       " 'redder',\n",
       " 'Orion',\n",
       " 'glitters',\n",
       " 'conservatories',\n",
       " 'president',\n",
       " 'temperance',\n",
       " 'blubbering',\n",
       " 'straggling',\n",
       " 'wainscots',\n",
       " 'reminding',\n",
       " 'oilpainting',\n",
       " 'besmoked',\n",
       " 'defaced',\n",
       " 'unequal',\n",
       " 'crosslights',\n",
       " 'hags',\n",
       " 'delineate',\n",
       " 'bewitched',\n",
       " 'ponderings',\n",
       " 'boggy',\n",
       " 'soggy',\n",
       " 'squitchy',\n",
       " 'froze',\n",
       " 'heath',\n",
       " 'icebound',\n",
       " 'represents',\n",
       " 'Horner',\n",
       " 'foundered',\n",
       " 'clubs',\n",
       " 'harvesting',\n",
       " 'hacking',\n",
       " 'horrifying',\n",
       " 'Mixed',\n",
       " 'Nathan',\n",
       " 'Swain',\n",
       " 'corkscrew',\n",
       " 'Blanco',\n",
       " 'sojourning',\n",
       " 'fireplaces',\n",
       " 'duskier',\n",
       " 'cockpits',\n",
       " 'rarities',\n",
       " 'Projecting',\n",
       " 'Within',\n",
       " 'shelves',\n",
       " 'flasks',\n",
       " 'bustles',\n",
       " 'deliriums',\n",
       " 'Abominable',\n",
       " 'tumblers',\n",
       " 'cylinders',\n",
       " 'goggling',\n",
       " 'deceitfully',\n",
       " 'tapered',\n",
       " 'Parallel',\n",
       " 'pecked',\n",
       " 'footpads',\n",
       " 'Fill',\n",
       " 'shilling',\n",
       " 'examining',\n",
       " 'SKRIMSHANDER',\n",
       " 'accommodated',\n",
       " 'unoccupied',\n",
       " 'haint',\n",
       " 'pose',\n",
       " 'whalin',\n",
       " 'decidedly',\n",
       " 'objectionable',\n",
       " 'wander',\n",
       " 'Battery',\n",
       " 'ruminating',\n",
       " 'adorning',\n",
       " 'potatoes',\n",
       " 'sartainty',\n",
       " 'diabolically',\n",
       " 'steaks',\n",
       " 'undress',\n",
       " 'looker',\n",
       " 'rioting',\n",
       " 'Grampus',\n",
       " 'seed',\n",
       " 'Feegees',\n",
       " 'tramping',\n",
       " 'Enveloped',\n",
       " 'bedarned',\n",
       " 'eruption',\n",
       " 'officiating',\n",
       " 'brimmers',\n",
       " 'complained',\n",
       " 'potion',\n",
       " 'colds',\n",
       " 'catarrhs',\n",
       " 'liquor',\n",
       " 'arrantest',\n",
       " 'topers',\n",
       " 'obstreperously',\n",
       " 'aloof',\n",
       " 'desirous',\n",
       " 'hilarity',\n",
       " 'coffer',\n",
       " 'Southerner',\n",
       " 'mountaineers',\n",
       " 'Alleghanian',\n",
       " 'missed',\n",
       " 'supernaturally',\n",
       " 'congratulate',\n",
       " 'multiply',\n",
       " 'bachelor',\n",
       " 'abominated',\n",
       " 'tidiest',\n",
       " 'bedwards',\n",
       " 'shan',\n",
       " 'tablecloth',\n",
       " 'Skrimshander',\n",
       " 'bump',\n",
       " 'spraining',\n",
       " 'eider',\n",
       " 'yoking',\n",
       " 'rickety',\n",
       " 'whirlwinds',\n",
       " 'knockings',\n",
       " 'dismissed',\n",
       " 'popped',\n",
       " 'cherishing',\n",
       " 'chuckled',\n",
       " 'chuckle',\n",
       " 'mightily',\n",
       " 'catches',\n",
       " 'bamboozingly',\n",
       " 'overstocked',\n",
       " 'toothpick',\n",
       " 'rayther',\n",
       " 'BROWN',\n",
       " 'slanderin',\n",
       " 'farrago',\n",
       " 'BROKE',\n",
       " 'Sartain',\n",
       " 'Mt',\n",
       " 'Hecla',\n",
       " 'persist',\n",
       " 'mystifying',\n",
       " 'unsay',\n",
       " 'criminal',\n",
       " 'Wall',\n",
       " 'purty',\n",
       " 'sarmon',\n",
       " 'rips',\n",
       " 'tellin',\n",
       " 'bought',\n",
       " 'balmed',\n",
       " 'curios',\n",
       " 'sellin',\n",
       " 'inions',\n",
       " 'fooling',\n",
       " 'idolators',\n",
       " 'Depend',\n",
       " 'reg',\n",
       " 'lar',\n",
       " 'spliced',\n",
       " 'Johnny',\n",
       " 'sprawling',\n",
       " 'Arter',\n",
       " 'glim',\n",
       " 'jiffy',\n",
       " 'irresolute',\n",
       " 'vum',\n",
       " 'WON',\n",
       " 'Folding',\n",
       " 'scrutiny',\n",
       " 'porcupine',\n",
       " 'moccasin',\n",
       " 'ponchos',\n",
       " 'parade',\n",
       " 'rainy',\n",
       " 'remembering',\n",
       " 'commended',\n",
       " 'cobs',\n",
       " 'Nod',\n",
       " 'footfall',\n",
       " 'unlacing',\n",
       " 'blackish',\n",
       " 'plasters',\n",
       " 'inkling',\n",
       " 'Placing',\n",
       " 'crammed',\n",
       " 'scalp',\n",
       " 'mildewed',\n",
       " 'Ignorance',\n",
       " 'parent',\n",
       " 'nonplussed',\n",
       " 'undressing',\n",
       " 'checkered',\n",
       " 'Thirty',\n",
       " 'frogs',\n",
       " 'quaked',\n",
       " 'wrapall',\n",
       " 'dreadnaught',\n",
       " 'fumbled',\n",
       " 'Remembering',\n",
       " 'manikin',\n",
       " 'tenpin',\n",
       " 'andirons',\n",
       " 'jambs',\n",
       " 'bricks',\n",
       " 'appropriate',\n",
       " 'applying',\n",
       " 'hastier',\n",
       " 'withdrawals',\n",
       " 'antics',\n",
       " 'devotee',\n",
       " 'extinguishing',\n",
       " 'unceremoniously',\n",
       " 'bagged',\n",
       " 'sportsman',\n",
       " 'woodcock',\n",
       " 'uncomfortableness',\n",
       " 'deliberating',\n",
       " 'puffed',\n",
       " 'sang',\n",
       " 'Stammering',\n",
       " 'conjured',\n",
       " 'responses',\n",
       " 'debel',\n",
       " 'flourishing',\n",
       " 'Angels',\n",
       " 'flourishings',\n",
       " 'peddlin',\n",
       " 'sleepe',\n",
       " 'grunted',\n",
       " 'gettee',\n",
       " 'motioning',\n",
       " 'comely',\n",
       " 'insured',\n",
       " 'Counterpane',\n",
       " 'parti',\n",
       " 'triangles',\n",
       " 'interminable',\n",
       " 'caper',\n",
       " 'supperless',\n",
       " 'hemisphere',\n",
       " 'sigh',\n",
       " 'Sixteen',\n",
       " 'ached',\n",
       " 'coaches',\n",
       " 'stockinged',\n",
       " 'slippering',\n",
       " 'misbehaviour',\n",
       " 'unendurable',\n",
       " 'stepmothers',\n",
       " 'misfortunes',\n",
       " 'steeped',\n",
       " 'shudderingly',\n",
       " 'confounding',\n",
       " 'soberly',\n",
       " 'recurred',\n",
       " 'predicament',\n",
       " 'unlock',\n",
       " 'bridegroom',\n",
       " 'clasp',\n",
       " 'hugged',\n",
       " 'rouse',\n",
       " 'snore',\n",
       " 'scratch',\n",
       " 'Throwing',\n",
       " 'expostulations',\n",
       " 'unbecomingness',\n",
       " 'matrimonial',\n",
       " 'dawning',\n",
       " 'overture',\n",
       " 'innate',\n",
       " 'compliment',\n",
       " 'civility',\n",
       " 'rudeness',\n",
       " 'toilette',\n",
       " 'dressing',\n",
       " 'donning',\n",
       " 'gaspings',\n",
       " 'booting',\n",
       " 'caterpillar',\n",
       " 'outlandishness',\n",
       " 'manners',\n",
       " 'education',\n",
       " 'undergraduate',\n",
       " 'dreamt',\n",
       " 'cowhide',\n",
       " 'pinched',\n",
       " 'curtains',\n",
       " 'indecorous',\n",
       " 'contented',\n",
       " 'restricting',\n",
       " 'donned',\n",
       " 'lathering',\n",
       " 'unsheathes',\n",
       " 'whets',\n",
       " 'Rogers',\n",
       " 'cutlery',\n",
       " 'Afterwards',\n",
       " 'baton',\n",
       " 'Breakfast',\n",
       " 'pleasantly',\n",
       " 'bountifully',\n",
       " 'laughable',\n",
       " 'bosky',\n",
       " 'unshorn',\n",
       " 'gowns',\n",
       " 'toasted',\n",
       " 'lingers',\n",
       " 'tarried',\n",
       " 'barred',\n",
       " 'Grub',\n",
       " 'Park',\n",
       " 'assurance',\n",
       " 'polish',\n",
       " 'occasioned',\n",
       " 'embarrassed',\n",
       " 'bashfulness',\n",
       " 'duelled',\n",
       " 'winking',\n",
       " 'tastes',\n",
       " 'sheepishly',\n",
       " 'bashful',\n",
       " 'icicle',\n",
       " 'admirer',\n",
       " 'cordially',\n",
       " 'grappling',\n",
       " 'genteelly',\n",
       " 'eschewed',\n",
       " 'undivided',\n",
       " 'circulating',\n",
       " 'nondescripts',\n",
       " 'Chestnut',\n",
       " 'jostle',\n",
       " 'Regent',\n",
       " 'Lascars',\n",
       " 'Bombay',\n",
       " 'Apollo',\n",
       " 'Feegeeans',\n",
       " 'Tongatobooarrs',\n",
       " 'Erromanggoans',\n",
       " 'Pannangians',\n",
       " 'Brighggians',\n",
       " 'weekly',\n",
       " 'Vermonters',\n",
       " 'stalwart',\n",
       " 'frames',\n",
       " 'felled',\n",
       " 'strutting',\n",
       " 'wester',\n",
       " 'bombazine',\n",
       " 'cloak',\n",
       " 'mow',\n",
       " 'gloves',\n",
       " 'joins',\n",
       " 'outfit',\n",
       " 'waistcoats',\n",
       " 'Hay',\n",
       " 'Seed',\n",
       " 'tract',\n",
       " 'dearest',\n",
       " 'pave',\n",
       " 'eggs',\n",
       " 'patrician',\n",
       " 'parks',\n",
       " 'scraggy',\n",
       " 'scoria',\n",
       " 'Herr',\n",
       " 'dowers',\n",
       " 'nieces',\n",
       " 'reservoirs',\n",
       " 'maples',\n",
       " 'bountiful',\n",
       " 'proffer',\n",
       " 'passer',\n",
       " 'cones',\n",
       " 'blossoms',\n",
       " 'superinduced',\n",
       " 'carnation',\n",
       " 'Salem',\n",
       " 'sweethearts',\n",
       " 'Puritanic',\n",
       " 'Whaleman',\n",
       " 'Wrapping',\n",
       " 'Each',\n",
       " 'quote',\n",
       " 'TALBOT',\n",
       " 'Near',\n",
       " 'Desolation',\n",
       " 'SISTER',\n",
       " 'ROBERT',\n",
       " 'WILLIS',\n",
       " 'ELLERY',\n",
       " 'NATHAN',\n",
       " 'COLEMAN',\n",
       " 'WALTER',\n",
       " 'CANNY',\n",
       " 'SETH',\n",
       " 'GLEIG',\n",
       " 'Forming',\n",
       " 'ELIZA',\n",
       " 'MARBLE',\n",
       " 'SHIPMATES',\n",
       " 'EZEKIEL',\n",
       " 'HARDY',\n",
       " 'AUGUST',\n",
       " 'WIDOW',\n",
       " 'Shaking',\n",
       " 'glazed',\n",
       " 'Affected',\n",
       " 'relatives',\n",
       " 'unhealing',\n",
       " 'sympathetically',\n",
       " 'wounds',\n",
       " 'bleed',\n",
       " 'blanks',\n",
       " 'bordered',\n",
       " 'infidelities',\n",
       " 'gnaw',\n",
       " 'resurrections',\n",
       " 'placelessly',\n",
       " 'Goodwin',\n",
       " 'Sands',\n",
       " 'prefix',\n",
       " 'entitle',\n",
       " 'embarks',\n",
       " 'Companies',\n",
       " 'forfeitures',\n",
       " 'immortals',\n",
       " 'unstirring',\n",
       " 'paralysis',\n",
       " 'comforted',\n",
       " 'strive',\n",
       " 'rumor',\n",
       " 'tombs',\n",
       " 'Delightful',\n",
       " 'brevet',\n",
       " ...]"
      ]
     },
     "execution_count": 59,
     "metadata": {},
     "output_type": "execute_result"
    }
   ],
   "source": [
    "# 가장 빈번하지 않은 => 1번 나타나는 단어들\n",
    "# 알파벳만 리스트에 담아보기\n",
    "[w for w in fdist.hapaxes() if w.isalpha()]"
   ]
  },
  {
   "cell_type": "code",
   "execution_count": 25,
   "id": "1363989a-1734-4646-9c29-b9e9d80243cf",
   "metadata": {},
   "outputs": [
    {
     "data": {
      "text/plain": [
       "14431"
      ]
     },
     "execution_count": 25,
     "metadata": {},
     "output_type": "execute_result"
    }
   ],
   "source": [
    "# 대소문자 구분 없이 FreqDist 만드려면?\n",
    "# 리스트 -> 리스트, 컴프리헨션 사용하기\n",
    "# set -> 중복 없앰 -> 빈도 수 == 1\n",
    "fdist2 = FreqDist([word.lower() for word in text1]) #한꺼번에 세어질 수 있도록 함\n",
    "fdist2['the']"
   ]
  },
  {
   "cell_type": "code",
   "execution_count": 26,
   "id": "89347422-474c-426c-a767-6ebfd2f52ec3",
   "metadata": {},
   "outputs": [
    {
     "data": {
      "text/plain": [
       "0"
      ]
     },
     "execution_count": 26,
     "metadata": {},
     "output_type": "execute_result"
    }
   ],
   "source": [
    "fdist2['The']"
   ]
  },
  {
   "cell_type": "code",
   "execution_count": 27,
   "id": "37b39367-76e7-4196-a81a-157d66f6e456",
   "metadata": {},
   "outputs": [
    {
     "data": {
      "text/plain": [
       "<Text: Sense and Sensibility by Jane Austen 1811>"
      ]
     },
     "execution_count": 27,
     "metadata": {},
     "output_type": "execute_result"
    }
   ],
   "source": [
    "text2"
   ]
  },
  {
   "cell_type": "code",
   "execution_count": 10,
   "id": "a10ebbfa-9052-4afa-a9cd-43e885363277",
   "metadata": {},
   "outputs": [
    {
     "ename": "NameError",
     "evalue": "name 'text2' is not defined",
     "output_type": "error",
     "traceback": [
      "\u001b[1;31m---------------------------------------------------------------------------\u001b[0m",
      "\u001b[1;31mNameError\u001b[0m                                 Traceback (most recent call last)",
      "Input \u001b[1;32mIn [10]\u001b[0m, in \u001b[0;36m<cell line: 3>\u001b[1;34m()\u001b[0m\n\u001b[0;32m      1\u001b[0m \u001b[38;5;66;03m#text2에서 길이가 3자이하이고, 빈도수가 5 이상\u001b[39;00m\n\u001b[1;32m----> 3\u001b[0m fdist6 \u001b[38;5;241m=\u001b[39m FreqDist(\u001b[43mtext2\u001b[49m)\n\u001b[0;32m      4\u001b[0m [w \u001b[38;5;28;01mfor\u001b[39;00m w \u001b[38;5;129;01min\u001b[39;00m text2 \u001b[38;5;28;01mif\u001b[39;00m (\u001b[38;5;28mlen\u001b[39m(w) \u001b[38;5;241m<\u001b[39m\u001b[38;5;241m=\u001b[39m \u001b[38;5;241m3\u001b[39m) \u001b[38;5;129;01mand\u001b[39;00m (fdist6(w) \u001b[38;5;241m>\u001b[39m\u001b[38;5;241m=\u001b[39m \u001b[38;5;241m5\u001b[39m)]\n",
      "\u001b[1;31mNameError\u001b[0m: name 'text2' is not defined"
     ]
    }
   ],
   "source": [
    "#text2에서 길이가 3자이하이고, 빈도수가 5 이상\n",
    "\n",
    "fdist6 = FreqDist(text2)\n",
    "[w for w in text2 if (len(w) <= 3) and (fdist6(w) >= 5)] # 내가 한 것. 왜 오류..?\n",
    "\n",
    "# 팀장에게 물어본 결과: fdist6은 counter, 5는 int이기 때문에 타입이 달라 오류가 난다."
   ]
  },
  {
   "cell_type": "code",
   "execution_count": 29,
   "id": "d1156255-1ab2-4100-a54b-2e0bf656c0e6",
   "metadata": {},
   "outputs": [
    {
     "data": {
      "text/plain": [
       "FreqDist({',': 9397, 'to': 4063, '.': 3975, 'the': 3861, 'of': 3565, 'and': 3350, 'her': 2436, 'a': 2043, 'I': 2004, 'in': 1904, ...})"
      ]
     },
     "execution_count": 29,
     "metadata": {},
     "output_type": "execute_result"
    }
   ],
   "source": [
    "FreqDist(text2) # 딕셔너리 타입 "
   ]
  },
  {
   "cell_type": "code",
   "execution_count": 87,
   "id": "b9111f5d-412e-44f3-8f11-803f6431ab7f",
   "metadata": {
    "collapsed": true,
    "jupyter": {
     "outputs_hidden": true
    },
    "tags": []
   },
   "outputs": [
    {
     "data": {
      "text/plain": [
       "['and',\n",
       " 'by',\n",
       " 'The',\n",
       " 'of',\n",
       " 'had',\n",
       " 'in',\n",
       " '.',\n",
       " 'was',\n",
       " ',',\n",
       " 'at',\n",
       " 'the',\n",
       " 'for',\n",
       " 'so',\n",
       " 'a',\n",
       " 'as',\n",
       " 'to',\n",
       " 'man',\n",
       " 'who',\n",
       " 'age',\n",
       " 'his',\n",
       " 'But',\n",
       " 'her',\n",
       " 'ten',\n",
       " 'own',\n",
       " ';',\n",
       " 'he',\n",
       " 'Mr',\n",
       " 'it',\n",
       " 'In',\n",
       " 'old',\n",
       " \"'\",\n",
       " 's',\n",
       " 'His',\n",
       " 'all',\n",
       " 'Mrs',\n",
       " 'not',\n",
       " 'but',\n",
       " 'him',\n",
       " 'By',\n",
       " 'one',\n",
       " 'son',\n",
       " ':',\n",
       " 'on',\n",
       " 'To',\n",
       " 'be',\n",
       " '-',\n",
       " 'He',\n",
       " 'nor',\n",
       " ';--',\n",
       " 'or',\n",
       " 'way',\n",
       " 'no',\n",
       " 'any',\n",
       " 'its',\n",
       " 'up',\n",
       " 'far',\n",
       " 'are',\n",
       " 'two',\n",
       " 'an',\n",
       " 'lay',\n",
       " 'sum',\n",
       " 'law',\n",
       " 'do',\n",
       " 'how',\n",
       " 'ill',\n",
       " 'is',\n",
       " 'Had',\n",
       " ':--',\n",
       " '.--',\n",
       " '\"',\n",
       " 'Yes',\n",
       " '!',\n",
       " 'It',\n",
       " 'day',\n",
       " 'did',\n",
       " 'No',\n",
       " 'HER',\n",
       " 'she',\n",
       " 'act',\n",
       " 'So',\n",
       " 'led',\n",
       " 'She',\n",
       " 'yet',\n",
       " 'saw',\n",
       " 'now',\n",
       " 'too',\n",
       " 'As',\n",
       " 'A',\n",
       " 'boy',\n",
       " 'How',\n",
       " '?',\n",
       " 'And',\n",
       " 'why',\n",
       " 'my',\n",
       " 'me',\n",
       " ',\"',\n",
       " 'I',\n",
       " '.\"',\n",
       " 'say',\n",
       " 'you',\n",
       " 'if',\n",
       " 'new',\n",
       " 'can',\n",
       " 'If',\n",
       " 'our',\n",
       " '--\"',\n",
       " 'Why',\n",
       " 'may',\n",
       " '!\"',\n",
       " 'Oh',\n",
       " '--',\n",
       " '!--',\n",
       " 'One',\n",
       " 'we',\n",
       " 'My',\n",
       " 'An',\n",
       " 'You',\n",
       " 'out',\n",
       " 'Her',\n",
       " 'has',\n",
       " 'am',\n",
       " 'NOT',\n",
       " 'end',\n",
       " 'Do',\n",
       " 'pay',\n",
       " '?--',\n",
       " 'YOU',\n",
       " 'ONE',\n",
       " 'set',\n",
       " 'owe',\n",
       " 'For',\n",
       " 'see',\n",
       " 'get',\n",
       " 'men',\n",
       " 'All',\n",
       " 'few',\n",
       " 'We',\n",
       " 'SHE',\n",
       " '?\"',\n",
       " 'us',\n",
       " 'Yet',\n",
       " 'Nay',\n",
       " 'MY',\n",
       " 'At',\n",
       " 'Of',\n",
       " '(',\n",
       " ',)',\n",
       " 'HIM',\n",
       " 'Sir',\n",
       " 'On',\n",
       " 'Are',\n",
       " 'off',\n",
       " 'Now',\n",
       " 'six',\n",
       " 'bed',\n",
       " 'joy',\n",
       " 'add',\n",
       " 'ask',\n",
       " 'eat',\n",
       " 'sex',\n",
       " 'met',\n",
       " 'gay',\n",
       " 'put',\n",
       " 'HE',\n",
       " 'wit',\n",
       " 'use',\n",
       " 'Did',\n",
       " ')',\n",
       " 'eye',\n",
       " 'try',\n",
       " 'air',\n",
       " 'Is',\n",
       " 'ran',\n",
       " 'got',\n",
       " 'Was',\n",
       " 'Has',\n",
       " 'yes',\n",
       " 'let',\n",
       " 'o',\n",
       " 'Aye',\n",
       " 'aye',\n",
       " \",'\",\n",
       " 'ago',\n",
       " 'Ay',\n",
       " 'Who',\n",
       " 'HIS',\n",
       " 'buy',\n",
       " ',--',\n",
       " '\"--',\n",
       " 'low',\n",
       " 'cut',\n",
       " 'tea',\n",
       " 'red',\n",
       " 'ma',\n",
       " 'sit',\n",
       " 'go',\n",
       " 'bad',\n",
       " ';\"',\n",
       " 'won',\n",
       " 't',\n",
       " 'Can',\n",
       " 'sat',\n",
       " 'WAS',\n",
       " 'bye',\n",
       " 'NOW',\n",
       " 'Not',\n",
       " 'Our',\n",
       " 'ME',\n",
       " 'due',\n",
       " 'odd',\n",
       " '&',\n",
       " 'c',\n",
       " 'fix',\n",
       " 'run',\n",
       " 'bow',\n",
       " 'don',\n",
       " 'Ah',\n",
       " 'Don',\n",
       " 'fit',\n",
       " 'DID',\n",
       " 'beg',\n",
       " 'ear',\n",
       " 'DO',\n",
       " 'tis',\n",
       " 'God',\n",
       " 'Ma',\n",
       " 'CAN',\n",
       " 'Two',\n",
       " \".'\",\n",
       " 'sir']"
      ]
     },
     "execution_count": 87,
     "metadata": {},
     "output_type": "execute_result"
    }
   ],
   "source": [
    "[word for (word,count) in FreqDist(text2).items()\n",
    "     if (len(word) <= 3) and (count >= 5)] # dictionary 타입이라..? "
   ]
  },
  {
   "cell_type": "markdown",
   "id": "d89e7866-0118-408a-a55c-446f990227be",
   "metadata": {},
   "source": [
    "### 리스트 <-> 스트링\n",
    "- split(): string.split(seperator)\n",
    "    - default = ' '\n",
    "- join(): serperator.join(string)"
   ]
  },
  {
   "cell_type": "code",
   "execution_count": 32,
   "id": "cb9222a3-671a-44ed-b2ea-bf482691a96d",
   "metadata": {},
   "outputs": [
    {
     "data": {
      "text/plain": [
       "['I', ' have', ' a', ' car']"
      ]
     },
     "execution_count": 32,
     "metadata": {},
     "output_type": "execute_result"
    }
   ],
   "source": [
    "sent = 'I, have, a, car'\n",
    "# ['I', 'have', 'a', 'car'] # tokens\n",
    "sent.split(',') #string.strip"
   ]
  },
  {
   "cell_type": "code",
   "execution_count": 33,
   "id": "8c3e845d-b1ab-4b93-9056-6ab022690d76",
   "metadata": {},
   "outputs": [
    {
     "data": {
      "text/plain": [
       "['I', 'have', 'a', 'car']"
      ]
     },
     "execution_count": 33,
     "metadata": {},
     "output_type": "execute_result"
    }
   ],
   "source": [
    "# solution\n",
    "sent_tokens = [word.strip() for word in sent.split(',')]\n",
    "sent_tokens"
   ]
  },
  {
   "cell_type": "code",
   "execution_count": 34,
   "id": "97514ef1-d394-49f2-bbab-dff25ca046d9",
   "metadata": {},
   "outputs": [
    {
     "data": {
      "text/plain": [
       "'I-have-a-car'"
      ]
     },
     "execution_count": 34,
     "metadata": {},
     "output_type": "execute_result"
    }
   ],
   "source": [
    "'-'.join(sent_tokens) # 먼저 결합할 문자열 지정."
   ]
  },
  {
   "cell_type": "markdown",
   "id": "5abdf461-ae8d-46f5-898e-9a5e087212a2",
   "metadata": {},
   "source": [
    "### 반복문 맛보기\n",
    "- 자료구조를 순회할 때 사용\n",
    "- 시작조건, 종료조건, 수행명령\n",
    "\n",
    "- for 변수 in <반복 범위>:\n",
    "   <들여쓰기> <수행명령>\n",
    "- [<수행명령> for 변수 in <반복 범위]\n",
    "- range(start, end, step): 숫자 순회할 때\n",
    "    - 0부터 시작\n",
    "    - 인덱스랑 다른 점은 ','와 ':'"
   ]
  },
  {
   "cell_type": "code",
   "execution_count": 35,
   "id": "34fc6e88-4a2f-4daf-a9cf-9bee9b642342",
   "metadata": {},
   "outputs": [
    {
     "data": {
      "text/plain": [
       "['I', 'have', 'a', 'car']"
      ]
     },
     "execution_count": 35,
     "metadata": {},
     "output_type": "execute_result"
    }
   ],
   "source": [
    "[word for word in sent_tokens]"
   ]
  },
  {
   "cell_type": "code",
   "execution_count": 36,
   "id": "5e9caa0b-8928-4023-8e12-a3e8b31080c0",
   "metadata": {},
   "outputs": [
    {
     "name": "stdout",
     "output_type": "stream",
     "text": [
      "I\n",
      "have\n",
      "a\n",
      "car\n"
     ]
    }
   ],
   "source": [
    "for word in sent_tokens:\n",
    "    print(word)"
   ]
  },
  {
   "cell_type": "code",
   "execution_count": 37,
   "id": "ba2628fd-cd8c-486a-8255-987eaa49af47",
   "metadata": {},
   "outputs": [
    {
     "name": "stdout",
     "output_type": "stream",
     "text": [
      "0\n",
      "1\n",
      "2\n",
      "3\n",
      "4\n",
      "5\n",
      "6\n",
      "7\n",
      "8\n",
      "9\n"
     ]
    }
   ],
   "source": [
    "# 1에서 10 출력\n",
    "\n",
    "for i in range(10):\n",
    "    print(i)"
   ]
  },
  {
   "cell_type": "markdown",
   "id": "74150b24-f948-4bcd-b748-7bd51c118342",
   "metadata": {},
   "source": [
    "### Ex\n",
    "- 1. text6에서 길이가 4자 이하인 알파벳 중 ie를 포함하는 단어를 단어 개수로 출력하시오.\n",
    "    - 예: [1, 3, 4, 3]\n",
    "- 2. text2에서 ch로 끝나는 단어를 출력하는데 \n",
    "    - 중복 없음\n",
    "    - 첫 글자 oh 남기고 가운데는 모두 -로 가려라.\n",
    "        예: much -> m-ch\n",
    "        - ch로 시작하면 바꾸면 안됨\n",
    "    - 정렬:\n",
    "        - 문자 길이로 정렬하기"
   ]
  },
  {
   "cell_type": "code",
   "execution_count": 63,
   "id": "cb4923ac-83a8-4351-b46c-ebf275ec9cf7",
   "metadata": {},
   "outputs": [
    {
     "data": {
      "text/plain": [
       "[]"
      ]
     },
     "execution_count": 63,
     "metadata": {},
     "output_type": "execute_result"
    }
   ],
   "source": [
    "[w.count() for w in text6 if 'ie' in text6 and len(w) <= 4] "
   ]
  },
  {
   "cell_type": "code",
   "execution_count": 79,
   "id": "128e0c0e-4042-49b4-bfaf-6321a0fde840",
   "metadata": {},
   "outputs": [
    {
     "data": {
      "text/plain": [
       "<Text: Monty Python and the Holy Grail>"
      ]
     },
     "execution_count": 79,
     "metadata": {},
     "output_type": "execute_result"
    }
   ],
   "source": [
    "text6"
   ]
  },
  {
   "cell_type": "code",
   "execution_count": 94,
   "id": "f41d4db3-8072-49c1-9bd7-a42ed56e5127",
   "metadata": {},
   "outputs": [
    {
     "data": {
      "text/plain": [
       "[2, 10, 4, 2, 1, 1, 3]"
      ]
     },
     "execution_count": 94,
     "metadata": {},
     "output_type": "execute_result"
    }
   ],
   "source": [
    "[count for (word, count) in FreqDist(text6).items()\n",
    "    if len(word) <= 4 and 'ie' in word]"
   ]
  },
  {
   "cell_type": "code",
   "execution_count": null,
   "id": "f86ccf25-8710-4967-8079-e9f16b799543",
   "metadata": {},
   "outputs": [],
   "source": [
    "# 2번은 모르겠다 ..\n",
    "\n"
   ]
  }
 ],
 "metadata": {
  "kernelspec": {
   "display_name": "Python 3 (ipykernel)",
   "language": "python",
   "name": "python3"
  },
  "language_info": {
   "codemirror_mode": {
    "name": "ipython",
    "version": 3
   },
   "file_extension": ".py",
   "mimetype": "text/x-python",
   "name": "python",
   "nbconvert_exporter": "python",
   "pygments_lexer": "ipython3",
   "version": "3.9.7"
  }
 },
 "nbformat": 4,
 "nbformat_minor": 5
}
