{
 "cells": [
  {
   "cell_type": "markdown",
   "id": "7a0d038e-94d7-41da-a158-2882dfd40a52",
   "metadata": {},
   "source": [
    "### 파일과 디렉터리\n",
    "- 파일: 컴퓨터를 실행할 때 가장 기본이 되는 단위\n",
    "- 디렉터리: 폴더, 파일을 논리적으로 묶어놓은 단위\n",
    "    - 지빠구리: a, b, c ...\n",
    "- 파일 = 파일명 + 확장자(.txt, .csv, ...)\n",
    "- 바이너리, 텍스트\n",
    "    - 바이너리: 엑셀, 워드, ...\n",
    "    - 텍스트: 바이너리 -> 문자로 변환\n",
    "        - 메모장, python, html, ...\n",
    "        - 기준: 아스키코드, 유니코드 제정('인코딩')\n",
    "        - utf-8\n",
    "        - cp494\n",
    "- f = open(파일명, 모드)\n",
    "    - r = read (default)\n",
    "    - w: write (없으면 새로 만들고 있으면 덮어쓴다)\n",
    "    - a: add (기존 파일에 마지막에 추가)\n",
    "    - x: write (없을 때만 쓸 수 있게)\n",
    "    \n",
    "    - b: 바이너리\n",
    "    - t: (default) 텍스트\n",
    "        - rb, rt ... # 여기는 알고만 있기"
   ]
  },
  {
   "cell_type": "code",
   "execution_count": 17,
   "id": "93beb871-4eca-4baa-81ec-8e165cb0a9d2",
   "metadata": {},
   "outputs": [],
   "source": [
    "f = open('test.txt', 'r')\n",
    "data = f.read()"
   ]
  },
  {
   "cell_type": "code",
   "execution_count": 18,
   "id": "6eae93c3-4586-4729-bf20-3b3db020fcd2",
   "metadata": {},
   "outputs": [
    {
     "data": {
      "text/plain": [
       "''"
      ]
     },
     "execution_count": 18,
     "metadata": {},
     "output_type": "execute_result"
    }
   ],
   "source": [
    "f.read(1) # 앞에서 읽으면 그 부분 뒤를 읽음."
   ]
  },
  {
   "cell_type": "code",
   "execution_count": 19,
   "id": "b8a88db4-f8bd-4609-8977-17b51f47d7a9",
   "metadata": {},
   "outputs": [
    {
     "data": {
      "text/plain": [
       "'hello world\\n'"
      ]
     },
     "execution_count": 19,
     "metadata": {},
     "output_type": "execute_result"
    }
   ],
   "source": [
    "data"
   ]
  },
  {
   "cell_type": "code",
   "execution_count": 20,
   "id": "55d08e34-0413-401c-9e85-d365ea18d0c6",
   "metadata": {},
   "outputs": [],
   "source": [
    "f.close() # 자원 해제 -> 다른 프로그램에서 동시에 호출하면 에러."
   ]
  },
  {
   "cell_type": "markdown",
   "id": "87fb5b31-7d57-4738-aafb-c7f55d867dfe",
   "metadata": {},
   "source": [
    "with open(파일, 모드) as f:\n",
    "    ... open 함수 기능이 유지되는 블록\n",
    "    data = f.read()\n",
    "자원 해체됨 (자동)"
   ]
  },
  {
   "cell_type": "code",
   "execution_count": 23,
   "id": "b9ca7269-b950-4d1f-ac49-26244c601677",
   "metadata": {},
   "outputs": [
    {
     "data": {
      "text/plain": [
       "['hello world\\n', \"I'm reading a book\"]"
      ]
     },
     "execution_count": 23,
     "metadata": {},
     "output_type": "execute_result"
    }
   ],
   "source": [
    "with open('test.txt', 'r') as f:\n",
    "    data = f.readlines()\n",
    "    # 텍스트 정제\n",
    "    data = [line.strip() for line in data]\n",
    "\n",
    "data"
   ]
  },
  {
   "cell_type": "code",
   "execution_count": null,
   "id": "dc635ff7-1567-412c-9512-fadc812166f9",
   "metadata": {},
   "outputs": [],
   "source": [
    "# read : str\n",
    "# readline() : 한줄씩\n",
    "# readlines() : 전체를 한줄씩 str 담아서 리스트로"
   ]
  },
  {
   "cell_type": "code",
   "execution_count": 24,
   "id": "8248894f-63f4-4631-8c72-d8c62756cfbf",
   "metadata": {},
   "outputs": [],
   "source": [
    "file = 'text2.txt'\n",
    "\n",
    "with open(file) as f:\n",
    "    f.read()"
   ]
  },
  {
   "cell_type": "code",
   "execution_count": 25,
   "id": "95169da7-c71a-421a-baf5-602c22c389f1",
   "metadata": {},
   "outputs": [],
   "source": [
    "# . : 현재위치\n",
    "# .. : 상위 디렉터리 "
   ]
  },
  {
   "cell_type": "markdown",
   "id": "35de0a5d-7666-4689-8678-0279dda472b3",
   "metadata": {},
   "source": [
    "### 쓰기"
   ]
  },
  {
   "cell_type": "code",
   "execution_count": 47,
   "id": "399675ad-2d65-46d1-b446-e6485a88ea9d",
   "metadata": {},
   "outputs": [],
   "source": [
    "file = 'test3.txt'\n",
    "\n",
    "f = open(file, 'w', encoding = 'utf-8')"
   ]
  },
  {
   "cell_type": "code",
   "execution_count": 48,
   "id": "3384375e-c306-417b-80b4-03844b019ca9",
   "metadata": {},
   "outputs": [],
   "source": [
    "for i in range(10):\n",
    "    data = f'{i}번째 줄입니다.\\n'\n",
    "    f.write(data)"
   ]
  },
  {
   "cell_type": "code",
   "execution_count": 49,
   "id": "dafb749f-81a3-4b90-b215-20f2b82db1e0",
   "metadata": {},
   "outputs": [],
   "source": [
    "f.close()"
   ]
  },
  {
   "cell_type": "code",
   "execution_count": 50,
   "id": "62692d4a-7fe7-4eac-9535-d4a19d50f6c4",
   "metadata": {},
   "outputs": [],
   "source": [
    "f = open(file, 'a')\n",
    "print('새로운 줄 추가', file = f) # 프린트에서도 간단하게 추가 가능"
   ]
  },
  {
   "cell_type": "code",
   "execution_count": 51,
   "id": "910e435e-4077-4c8f-9cef-9d686166f967",
   "metadata": {},
   "outputs": [],
   "source": [
    "f.close()"
   ]
  },
  {
   "cell_type": "markdown",
   "id": "45a8e2d9-ca21-40f4-8770-c5ac7d8c362a",
   "metadata": {},
   "source": [
    "### 다른 디렉토리에 파일 쓰기"
   ]
  },
  {
   "cell_type": "markdown",
   "id": "0ae7c638-d360-4ab7-aa1d-1dae313aadd1",
   "metadata": {},
   "source": [
    "##### OS"
   ]
  },
  {
   "cell_type": "code",
   "execution_count": 4,
   "id": "b8d2654a-e61a-4139-98eb-a9c6a40bb37d",
   "metadata": {},
   "outputs": [],
   "source": [
    "import os"
   ]
  },
  {
   "cell_type": "code",
   "execution_count": 32,
   "id": "a2e3cd98-70c1-4f68-b738-15693124d38d",
   "metadata": {},
   "outputs": [
    {
     "ename": "FileNotFoundError",
     "evalue": "[Errno 2] No such file or directory: '.folder1/test4.txt'",
     "output_type": "error",
     "traceback": [
      "\u001b[1;31m---------------------------------------------------------------------------\u001b[0m",
      "\u001b[1;31mFileNotFoundError\u001b[0m                         Traceback (most recent call last)",
      "Input \u001b[1;32mIn [32]\u001b[0m, in \u001b[0;36m<cell line: 2>\u001b[1;34m()\u001b[0m\n\u001b[0;32m      1\u001b[0m file \u001b[38;5;241m=\u001b[39m \u001b[38;5;124m'\u001b[39m\u001b[38;5;124m.folder1/test4.txt\u001b[39m\u001b[38;5;124m'\u001b[39m\n\u001b[1;32m----> 2\u001b[0m f \u001b[38;5;241m=\u001b[39m \u001b[38;5;28;43mopen\u001b[39;49m\u001b[43m(\u001b[49m\u001b[43mfile\u001b[49m\u001b[43m,\u001b[49m\u001b[43m \u001b[49m\u001b[38;5;124;43m'\u001b[39;49m\u001b[38;5;124;43mw\u001b[39;49m\u001b[38;5;124;43m'\u001b[39;49m\u001b[43m,\u001b[49m\u001b[43m \u001b[49m\u001b[43mencoding\u001b[49m\u001b[43m \u001b[49m\u001b[38;5;241;43m=\u001b[39;49m\u001b[43m \u001b[49m\u001b[38;5;124;43m'\u001b[39;49m\u001b[38;5;124;43mutf-8\u001b[39;49m\u001b[38;5;124;43m'\u001b[39;49m\u001b[43m)\u001b[49m\n\u001b[0;32m      3\u001b[0m f\u001b[38;5;241m.\u001b[39mclose()\n",
      "\u001b[1;31mFileNotFoundError\u001b[0m: [Errno 2] No such file or directory: '.folder1/test4.txt'"
     ]
    }
   ],
   "source": [
    "file = '.folder1/test4.txt'\n",
    "f = open(file, 'w', encoding = 'utf-8')\n",
    "f.close()"
   ]
  },
  {
   "cell_type": "code",
   "execution_count": 14,
   "id": "2f10abf4-3dab-46fb-bbe6-a5765fd9c801",
   "metadata": {},
   "outputs": [
    {
     "ename": "FileExistsError",
     "evalue": "[WinError 183] 파일이 이미 있으므로 만들 수 없습니다: 'folder1'",
     "output_type": "error",
     "traceback": [
      "\u001b[1;31m---------------------------------------------------------------------------\u001b[0m",
      "\u001b[1;31mFileExistsError\u001b[0m                           Traceback (most recent call last)",
      "Input \u001b[1;32mIn [14]\u001b[0m, in \u001b[0;36m<cell line: 2>\u001b[1;34m()\u001b[0m\n\u001b[0;32m      1\u001b[0m \u001b[38;5;66;03m# folder 만들고\u001b[39;00m\n\u001b[1;32m----> 2\u001b[0m \u001b[43mos\u001b[49m\u001b[38;5;241;43m.\u001b[39;49m\u001b[43mmkdir\u001b[49m\u001b[43m(\u001b[49m\u001b[38;5;124;43m'\u001b[39;49m\u001b[38;5;124;43mfolder1\u001b[39;49m\u001b[38;5;124;43m'\u001b[39;49m\u001b[43m)\u001b[49m\n",
      "\u001b[1;31mFileExistsError\u001b[0m: [WinError 183] 파일이 이미 있으므로 만들 수 없습니다: 'folder1'"
     ]
    }
   ],
   "source": [
    "# folder 만들고\n",
    "os.mkdir('folder1')"
   ]
  },
  {
   "cell_type": "code",
   "execution_count": 15,
   "id": "062b7448-ffd0-40b6-ad34-b8f656e28e95",
   "metadata": {},
   "outputs": [],
   "source": [
    "# 파일 쓰기\n",
    "file = './folder1/test3.txt'\n",
    "\n",
    "f = open(file, 'w', encoding = 'utf-8')\n",
    "\n",
    "f.close()"
   ]
  },
  {
   "cell_type": "code",
   "execution_count": 16,
   "id": "545af307-c2c0-4996-a176-03a1e8c39c98",
   "metadata": {},
   "outputs": [],
   "source": [
    "# 없을 때 만들기\n",
    "if not os.path.isdir('folder1'):\n",
    "    os.mkdir('folder1')"
   ]
  },
  {
   "cell_type": "code",
   "execution_count": 17,
   "id": "938efd28-970c-41cc-bb9c-b1c1bf195038",
   "metadata": {},
   "outputs": [
    {
     "data": {
      "text/plain": [
       "False"
      ]
     },
     "execution_count": 17,
     "metadata": {},
     "output_type": "execute_result"
    }
   ],
   "source": [
    "os.path.exists('file')"
   ]
  },
  {
   "cell_type": "code",
   "execution_count": 18,
   "id": "5d83198d-6b1c-4b23-8775-77fc26914947",
   "metadata": {},
   "outputs": [],
   "source": [
    "os.remove(file)"
   ]
  },
  {
   "cell_type": "code",
   "execution_count": 19,
   "id": "16b8c40d-fbb4-4a59-96c0-284ec8e3e1f9",
   "metadata": {},
   "outputs": [
    {
     "ename": "FileExistsError",
     "evalue": "[WinError 183] 파일이 이미 있으므로 만들 수 없습니다: 'folder2'",
     "output_type": "error",
     "traceback": [
      "\u001b[1;31m---------------------------------------------------------------------------\u001b[0m",
      "\u001b[1;31mFileExistsError\u001b[0m                           Traceback (most recent call last)",
      "Input \u001b[1;32mIn [19]\u001b[0m, in \u001b[0;36m<cell line: 1>\u001b[1;34m()\u001b[0m\n\u001b[1;32m----> 1\u001b[0m \u001b[43mos\u001b[49m\u001b[38;5;241;43m.\u001b[39;49m\u001b[43mmkdir\u001b[49m\u001b[43m(\u001b[49m\u001b[38;5;124;43m'\u001b[39;49m\u001b[38;5;124;43mfolder2\u001b[39;49m\u001b[38;5;124;43m'\u001b[39;49m\u001b[43m)\u001b[49m\n",
      "\u001b[1;31mFileExistsError\u001b[0m: [WinError 183] 파일이 이미 있으므로 만들 수 없습니다: 'folder2'"
     ]
    }
   ],
   "source": [
    "os.mkdir('folder2')"
   ]
  },
  {
   "cell_type": "code",
   "execution_count": 23,
   "id": "8a747b06-cecf-4145-a062-9789c0225c6b",
   "metadata": {
    "tags": []
   },
   "outputs": [
    {
     "name": "stdout",
     "output_type": "stream",
     "text": [
      "0번째 줄입니다.\n",
      "\n",
      "1번째 줄입니다.\n",
      "\n",
      "2번째 줄입니다.\n",
      "\n",
      "3번째 줄입니다.\n",
      "\n",
      "4번째 줄입니다.\n",
      "\n",
      "5번째 줄입니다.\n",
      "\n",
      "6번째 줄입니다.\n",
      "\n",
      "7번째 줄입니다.\n",
      "\n",
      "8번째 줄입니다.\n",
      "\n",
      "9번째 줄입니다.\n",
      "\n"
     ]
    }
   ],
   "source": [
    "# folder 새로 만들고\n",
    "# 파일 쓰기 : 내용 아무거나\n",
    "# 열기\n",
    "os.mkdir('new_folder')\n",
    "file = './new_folder/new.txt'\n",
    "\n",
    "f = open(file,'w',encoding='utf-8')\n",
    "\n",
    "for i in range(10):\n",
    "    data = f\"{i}번째 줄입니다.\\n\"\n",
    "    f.write(data)\n",
    "\n",
    "f.close()\n",
    "\n",
    "\n",
    "f = open(file,'r',encoding='utf-8')\n",
    "\n",
    "data = f.readlines()\n",
    "\n",
    "\n",
    "for i in range(len(data)):\n",
    "    print(data[i])\n",
    "\n",
    "f.close()"
   ]
  },
  {
   "cell_type": "code",
   "execution_count": 24,
   "id": "1a2aa76c-42f7-4a36-af7f-4adf24a10d1a",
   "metadata": {},
   "outputs": [
    {
     "data": {
      "text/plain": [
       "'C:\\\\'"
      ]
     },
     "execution_count": 24,
     "metadata": {},
     "output_type": "execute_result"
    }
   ],
   "source": [
    "# 현재 디렉토리\n",
    "os.getcwd()"
   ]
  },
  {
   "cell_type": "code",
   "execution_count": 25,
   "id": "9959437e-8210-41f3-89b7-d0048db7f530",
   "metadata": {},
   "outputs": [],
   "source": [
    "# 상위로 이동\n",
    "os.chdir('..')"
   ]
  },
  {
   "cell_type": "code",
   "execution_count": 26,
   "id": "3b1b6e13-ee08-42b0-99a4-3b193914ac4a",
   "metadata": {},
   "outputs": [],
   "source": [
    "os.chdir('jupyter')"
   ]
  },
  {
   "cell_type": "markdown",
   "id": "aea354f3-2902-40f1-8ec6-bd1b039c8d73",
   "metadata": {},
   "source": [
    "# pickle\n",
    "- 객체를 저장, 불러들일 수 있다."
   ]
  },
  {
   "cell_type": "code",
   "execution_count": 28,
   "id": "3f49cb2c-ef36-4a9b-839a-60481f629f17",
   "metadata": {},
   "outputs": [],
   "source": [
    "import pickle"
   ]
  },
  {
   "cell_type": "code",
   "execution_count": 29,
   "id": "a1964bdb-eb86-4db7-9d22-86cc72089acb",
   "metadata": {},
   "outputs": [
    {
     "data": {
      "text/plain": [
       "[0, 1, 2, 3, 4, 5, 6, 7, 8, 9]"
      ]
     },
     "execution_count": 29,
     "metadata": {},
     "output_type": "execute_result"
    }
   ],
   "source": [
    "num = list(range(10))\n",
    "num"
   ]
  },
  {
   "cell_type": "code",
   "execution_count": 30,
   "id": "edaca7b4-f9de-45a6-95c3-6645a183248b",
   "metadata": {},
   "outputs": [],
   "source": [
    "f = open('test.pickle', 'wb')\n",
    "pickle.dump(num, f)\n",
    "f.close()"
   ]
  },
  {
   "cell_type": "code",
   "execution_count": null,
   "id": "5a5cc2d1-6914-41b6-8e74-4e9e616aecb0",
   "metadata": {},
   "outputs": [],
   "source": []
  },
  {
   "cell_type": "code",
   "execution_count": null,
   "id": "4ad96752-d568-4eb5-b1b9-a1a8000366d6",
   "metadata": {},
   "outputs": [],
   "source": []
  }
 ],
 "metadata": {
  "kernelspec": {
   "display_name": "Python 3 (ipykernel)",
   "language": "python",
   "name": "python3"
  },
  "language_info": {
   "codemirror_mode": {
    "name": "ipython",
    "version": 3
   },
   "file_extension": ".py",
   "mimetype": "text/x-python",
   "name": "python",
   "nbconvert_exporter": "python",
   "pygments_lexer": "ipython3",
   "version": "3.9.7"
  }
 },
 "nbformat": 4,
 "nbformat_minor": 5
}
