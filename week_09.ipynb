{
 "cells": [
  {
   "cell_type": "markdown",
   "id": "e0065719-5ae2-46c3-835c-d7e1bc57325f",
   "metadata": {},
   "source": [
    "### Dictionary\n",
    "- 영어사전이라고 생각하면, 단어:뜻 \n",
    "- 키:값\n",
    "    - 키값은 고유해야 한다.\n",
    "- 순서가 없음 -> 오프셋 없음\n",
    "- 가변 객체(수정, 추가, 삭제 가능)\n",
    "- 타입: dict, dict()\n",
    "- 생성: {k1:v1, k2:v2, ...} 중괄호 사용\n",
    "- value에는 리스트, 튜플, 딕셔너리도 들어갈 수 있음."
   ]
  },
  {
   "cell_type": "code",
   "execution_count": 2,
   "id": "be82dece-9ef0-42b0-a3b1-6df1bc4950e3",
   "metadata": {},
   "outputs": [
    {
     "data": {
      "text/plain": [
       "{}"
      ]
     },
     "execution_count": 2,
     "metadata": {},
     "output_type": "execute_result"
    }
   ],
   "source": [
    "empty = dict()\n",
    "empty = {}\n",
    "empty"
   ]
  },
  {
   "cell_type": "code",
   "execution_count": 3,
   "id": "f83af75b-a745-48a4-82af-0d6b4dbf8e38",
   "metadata": {},
   "outputs": [
    {
     "data": {
      "text/plain": [
       "{'first': 'wile', 'middle': 'E', 'last': 'coyote'}"
      ]
     },
     "execution_count": 3,
     "metadata": {},
     "output_type": "execute_result"
    }
   ],
   "source": [
    "customer = {'first':'wile','middle': 'E', 'last': 'coyote'}\n",
    "customer"
   ]
  },
  {
   "cell_type": "code",
   "execution_count": 4,
   "id": "aa33c03d-2ab9-454e-bd9e-0340acaebe1a",
   "metadata": {},
   "outputs": [
    {
     "data": {
      "text/plain": [
       "{'first': 'wile', 'middle': 'F', 'last': 'coyote'}"
      ]
     },
     "execution_count": 4,
     "metadata": {},
     "output_type": "execute_result"
    }
   ],
   "source": [
    "customer = dict(first='wile', middle='F', last='coyote')\n",
    "customer"
   ]
  },
  {
   "cell_type": "code",
   "execution_count": null,
   "id": "944ff603-a2c6-47ef-bc85-2f3f7a516625",
   "metadata": {},
   "outputs": [],
   "source": [
    "# 출석부 딕셔너리 만들기\n",
    "이름, 학번, 학과\n",
    "# 딕셔너리를 따로 만드는 것은 별로. 하나의 출석부에 한꺼번에 저장하기 때문에."
   ]
  },
  {
   "cell_type": "code",
   "execution_count": 10,
   "id": "1c2205dc-8dab-441f-8c0a-4733e120f7bb",
   "metadata": {},
   "outputs": [
    {
     "ename": "SyntaxError",
     "evalue": "invalid syntax (4222931054.py, line 4)",
     "output_type": "error",
     "traceback": [
      "\u001b[1;36m  Input \u001b[1;32mIn [10]\u001b[1;36m\u001b[0m\n\u001b[1;33m    student_dic = dict(f'이름 = {name}, 학번 = '{student_num}', 학과 = '{student_major}')\u001b[0m\n\u001b[1;37m                                            ^\u001b[0m\n\u001b[1;31mSyntaxError\u001b[0m\u001b[1;31m:\u001b[0m invalid syntax\n"
     ]
    }
   ],
   "source": [
    "name = '윤준서'\n",
    "student_num = '202102293'\n",
    "student_major = '프랑스어학부'\n",
    "student_dic = dict(f'이름 = {name}, 학번 = '{student_num}', 학과 = '{student_major}')\n",
    "student_dic"
   ]
  },
  {
   "cell_type": "markdown",
   "id": "7f3d71a2-cfce-459b-8996-b2d39e00dc47",
   "metadata": {},
   "source": [
    "#### 형변환"
   ]
  },
  {
   "cell_type": "code",
   "execution_count": 11,
   "id": "bec66ab4-bf28-4675-b976-73e2877cf951",
   "metadata": {},
   "outputs": [
    {
     "data": {
      "text/plain": [
       "{1: 2, 3: 4, 5: 6}"
      ]
     },
     "execution_count": 11,
     "metadata": {},
     "output_type": "execute_result"
    }
   ],
   "source": [
    "# dict()\n",
    "ex1 = [[1,2], [3,4], [5,6]]\n",
    "dict(ex1)"
   ]
  },
  {
   "cell_type": "code",
   "execution_count": 12,
   "id": "1b45f276-9b39-4e9e-8c5f-9e90bbdb15d7",
   "metadata": {},
   "outputs": [
    {
     "data": {
      "text/plain": [
       "{1: 2, 3: 4, 5: 6}"
      ]
     },
     "execution_count": 12,
     "metadata": {},
     "output_type": "execute_result"
    }
   ],
   "source": [
    "ex2 = [(1,2), (3,4), (5,6)]\n",
    "dict(ex2)"
   ]
  },
  {
   "cell_type": "code",
   "execution_count": 13,
   "id": "ff4574a3-d189-4f20-9410-cd6c12f918ec",
   "metadata": {},
   "outputs": [
    {
     "data": {
      "text/plain": [
       "{'a': 'b', 'b': 'c', 'c': 'd'}"
      ]
     },
     "execution_count": 13,
     "metadata": {},
     "output_type": "execute_result"
    }
   ],
   "source": [
    "ex3 = ['ab', 'bc', 'cd'] # 2개 이상은 넘지 말기\n",
    "dict(ex3)"
   ]
  },
  {
   "cell_type": "code",
   "execution_count": null,
   "id": "4e0ece79-24fb-45d4-a71b-fa2cafd33c4b",
   "metadata": {},
   "outputs": [],
   "source": []
  },
  {
   "cell_type": "code",
   "execution_count": 15,
   "id": "d746e4dd-95aa-405a-9a1d-ebba6898f912",
   "metadata": {},
   "outputs": [],
   "source": [
    "pythons = {\n",
    "    'Chapman' : 'Graham',\n",
    "    'Cleese' : 'John',\n",
    "    'Idle' : 'Eric',\n",
    "    'Jones' : 'Terry',\n",
    "    'Palin' : 'Michael'\n",
    "}"
   ]
  },
  {
   "cell_type": "code",
   "execution_count": 17,
   "id": "99307ec3-34c3-4433-af24-377d0ab57bb2",
   "metadata": {},
   "outputs": [
    {
     "data": {
      "text/plain": [
       "'Eric'"
      ]
     },
     "execution_count": 17,
     "metadata": {},
     "output_type": "execute_result"
    }
   ],
   "source": [
    "pythons['Idle']"
   ]
  },
  {
   "cell_type": "code",
   "execution_count": 19,
   "id": "09a3b06f-0971-4dc1-a943-6ab279691679",
   "metadata": {},
   "outputs": [
    {
     "data": {
      "text/plain": [
       "{'Chapman': 'Graham',\n",
       " 'Cleese': 'John',\n",
       " 'Idle': 'Eric',\n",
       " 'Jones': 'Terry',\n",
       " 'Palin': 'Erica'}"
      ]
     },
     "execution_count": 19,
     "metadata": {},
     "output_type": "execute_result"
    }
   ],
   "source": [
    "pythons['Palin'] = 'Erica'\n",
    "pythons"
   ]
  },
  {
   "cell_type": "code",
   "execution_count": 20,
   "id": "9bab0a83-2451-4151-a0dc-0c3a2556b644",
   "metadata": {},
   "outputs": [
    {
     "data": {
      "text/plain": [
       "{'Chapman': 'Graham',\n",
       " 'Cleese': 'John',\n",
       " 'Idle': 'Eric',\n",
       " 'Jones': 'Terry',\n",
       " 'Palin': 'Josh'}"
      ]
     },
     "execution_count": 20,
     "metadata": {},
     "output_type": "execute_result"
    }
   ],
   "source": [
    "pythons['Palin'] = 'Josh'\n",
    "pythons"
   ]
  },
  {
   "cell_type": "code",
   "execution_count": 21,
   "id": "7f427764-d2b5-4590-872c-6ff8faa66899",
   "metadata": {},
   "outputs": [
    {
     "data": {
      "text/plain": [
       "{'Chapman': 'Graham',\n",
       " 'Cleese': 'John',\n",
       " 'Idle': 'Eric',\n",
       " 'Jones': 'Terry',\n",
       " 'Palin': 'Josh',\n",
       " 'Kim': 'Laura'}"
      ]
     },
     "execution_count": 21,
     "metadata": {},
     "output_type": "execute_result"
    }
   ],
   "source": [
    "pythons['Kim'] = 'Laura'\n",
    "pythons"
   ]
  },
  {
   "cell_type": "code",
   "execution_count": 22,
   "id": "a97ce1c4-36bc-4bed-bf2b-f18413518c07",
   "metadata": {},
   "outputs": [
    {
     "ename": "KeyError",
     "evalue": "'Lee'",
     "output_type": "error",
     "traceback": [
      "\u001b[1;31m---------------------------------------------------------------------------\u001b[0m",
      "\u001b[1;31mKeyError\u001b[0m                                  Traceback (most recent call last)",
      "Input \u001b[1;32mIn [22]\u001b[0m, in \u001b[0;36m<cell line: 1>\u001b[1;34m()\u001b[0m\n\u001b[1;32m----> 1\u001b[0m \u001b[43mpythons\u001b[49m\u001b[43m[\u001b[49m\u001b[38;5;124;43m'\u001b[39;49m\u001b[38;5;124;43mLee\u001b[39;49m\u001b[38;5;124;43m'\u001b[39;49m\u001b[43m]\u001b[49m\n",
      "\u001b[1;31mKeyError\u001b[0m: 'Lee'"
     ]
    }
   ],
   "source": [
    "pythons['Lee'] "
   ]
  },
  {
   "cell_type": "code",
   "execution_count": 23,
   "id": "f6d2562d-13dc-4b7b-b614-0a9ab412fff2",
   "metadata": {},
   "outputs": [
    {
     "data": {
      "text/plain": [
       "False"
      ]
     },
     "execution_count": 23,
     "metadata": {},
     "output_type": "execute_result"
    }
   ],
   "source": [
    "'Lee' in pythons"
   ]
  },
  {
   "cell_type": "code",
   "execution_count": 25,
   "id": "b28294cc-bc20-4410-b716-14d174a455cf",
   "metadata": {},
   "outputs": [
    {
     "data": {
      "text/plain": [
       "'Laura'"
      ]
     },
     "execution_count": 25,
     "metadata": {},
     "output_type": "execute_result"
    }
   ],
   "source": [
    "pythons.get('Kim',0) #키(kim)를 지정하여 값(Laura) 얻음."
   ]
  },
  {
   "cell_type": "code",
   "execution_count": 26,
   "id": "fca16cd9-1be4-4fc7-bd2a-e11dd81a7bfc",
   "metadata": {},
   "outputs": [
    {
     "data": {
      "text/plain": [
       "0"
      ]
     },
     "execution_count": 26,
     "metadata": {},
     "output_type": "execute_result"
    }
   ],
   "source": [
    "pythons.get('Choi',0)"
   ]
  },
  {
   "cell_type": "markdown",
   "id": "e016851c-3266-4dbf-b94b-23e482e3daa9",
   "metadata": {},
   "source": [
    "#### keys(), values(), items()\n",
    "- keys\n",
    "- values\n",
    "- items"
   ]
  },
  {
   "cell_type": "code",
   "execution_count": 30,
   "id": "6eb99902-8ff2-40f4-8bb3-976149ef9cf0",
   "metadata": {},
   "outputs": [
    {
     "data": {
      "text/plain": [
       "['Chapman', 'Cleese', 'Idle', 'Jones', 'Palin', 'Kim']"
      ]
     },
     "execution_count": 30,
     "metadata": {},
     "output_type": "execute_result"
    }
   ],
   "source": [
    "list(pythons.keys())"
   ]
  },
  {
   "cell_type": "code",
   "execution_count": 28,
   "id": "79a94bfe-9f7e-4a43-8022-f3022aa991fb",
   "metadata": {},
   "outputs": [
    {
     "data": {
      "text/plain": [
       "dict_values(['Graham', 'John', 'Eric', 'Terry', 'Josh', 'Laura'])"
      ]
     },
     "execution_count": 28,
     "metadata": {},
     "output_type": "execute_result"
    }
   ],
   "source": [
    "pythons.values()"
   ]
  },
  {
   "cell_type": "code",
   "execution_count": 32,
   "id": "14df93e3-f6c0-45b9-8ee4-d52c135dc04d",
   "metadata": {},
   "outputs": [
    {
     "data": {
      "text/plain": [
       "dict_items([('Chapman', 'Graham'), ('Cleese', 'John'), ('Idle', 'Eric'), ('Jones', 'Terry'), ('Palin', 'Josh'), ('Kim', 'Laura')])"
      ]
     },
     "execution_count": 32,
     "metadata": {},
     "output_type": "execute_result"
    }
   ],
   "source": [
    "pythons.items() # 순회 시 사용"
   ]
  },
  {
   "cell_type": "code",
   "execution_count": 31,
   "id": "deeab7f1-74e9-4d92-8139-6dffb54e641a",
   "metadata": {},
   "outputs": [
    {
     "data": {
      "text/plain": [
       "['Chapman', 'Cleese', 'Idle', 'Jones', 'Palin', 'Kim']"
      ]
     },
     "execution_count": 31,
     "metadata": {},
     "output_type": "execute_result"
    }
   ],
   "source": [
    "[x[0] for x in pythons.items()]"
   ]
  },
  {
   "cell_type": "code",
   "execution_count": 39,
   "id": "633c30c9-6eb8-4d2b-aa8e-4331526d796a",
   "metadata": {},
   "outputs": [
    {
     "data": {
      "text/plain": [
       "{'cat': 4, 'snake': 0, 'monkey': 2, 'ant': 4, 'spider': 8}"
      ]
     },
     "execution_count": 39,
     "metadata": {},
     "output_type": "execute_result"
    }
   ],
   "source": [
    "animal = 'cat snake monkey ant spider'.split()\n",
    "legs = 4, 0, 2, 4, 8\n",
    "\n",
    "animal_dic = {}\n",
    "for k ,v in zip(animal, legs):\n",
    "    animal_dic[k] = v\n",
    "animal_dic"
   ]
  },
  {
   "cell_type": "code",
   "execution_count": 61,
   "id": "bc73a964-35dd-4a53-bf4f-956139f95faf",
   "metadata": {},
   "outputs": [],
   "source": [
    "# pythons에서 성 첫번째 글자, 이름 글자 수"
   ]
  },
  {
   "cell_type": "code",
   "execution_count": 60,
   "id": "c488ae06-a1fa-48e5-8e6a-67dbc68e0a25",
   "metadata": {},
   "outputs": [
    {
     "data": {
      "text/plain": [
       "[('C', 6), ('C', 4), ('I', 4), ('J', 5), ('P', 4), ('K', 5)]"
      ]
     },
     "execution_count": 60,
     "metadata": {},
     "output_type": "execute_result"
    }
   ],
   "source": [
    "[(k[0], len(v)) for k , v in pythons.items()]"
   ]
  },
  {
   "cell_type": "markdown",
   "id": "006dbefa-4009-432a-a30c-846cb5e7f23a",
   "metadata": {},
   "source": [
    "#### 값 수정, 삭제, 복제"
   ]
  },
  {
   "cell_type": "code",
   "execution_count": 62,
   "id": "6c16ab7f-a653-438a-a927-0ac5aaf13d64",
   "metadata": {},
   "outputs": [
    {
     "data": {
      "text/plain": [
       "{'Chapman': 'Graham',\n",
       " 'Cleese': 'John',\n",
       " 'Idle': 'Eric',\n",
       " 'Jones': 'Terry',\n",
       " 'Palin': 'Josh',\n",
       " 'Kim': 'Laura'}"
      ]
     },
     "execution_count": 62,
     "metadata": {},
     "output_type": "execute_result"
    }
   ],
   "source": [
    "pythons"
   ]
  },
  {
   "cell_type": "code",
   "execution_count": 63,
   "id": "10cd5e89-41f3-461f-aa5b-f10f5806c930",
   "metadata": {},
   "outputs": [],
   "source": [
    "others = {\n",
    "    'Marx':'Groucho',\n",
    "    'Howard':'Moe'\n",
    "}    "
   ]
  },
  {
   "cell_type": "code",
   "execution_count": 64,
   "id": "74ed9484-bf5d-421a-971f-e720b9ac5b3b",
   "metadata": {},
   "outputs": [],
   "source": [
    "pythons.update(others)"
   ]
  },
  {
   "cell_type": "code",
   "execution_count": 65,
   "id": "a0fd4e1f-130f-45bc-b04a-15204ab03240",
   "metadata": {},
   "outputs": [
    {
     "data": {
      "text/plain": [
       "{'Chapman': 'Graham',\n",
       " 'Cleese': 'John',\n",
       " 'Idle': 'Eric',\n",
       " 'Jones': 'Terry',\n",
       " 'Palin': 'Josh',\n",
       " 'Kim': 'Laura',\n",
       " 'Marx': 'Groucho',\n",
       " 'Howard': 'Moe'}"
      ]
     },
     "execution_count": 65,
     "metadata": {},
     "output_type": "execute_result"
    }
   ],
   "source": [
    "pythons"
   ]
  },
  {
   "cell_type": "code",
   "execution_count": 67,
   "id": "b4f5d9cd-db9c-4217-add1-8371c0c55768",
   "metadata": {},
   "outputs": [
    {
     "data": {
      "text/plain": [
       "{'Marx': 'Groucho',\n",
       " 'Howard': 'Moe',\n",
       " 'Chapman': 'Graham',\n",
       " 'Cleese': 'John',\n",
       " 'Idle': 'Eric',\n",
       " 'Jones': 'Terry',\n",
       " 'Palin': 'Josh',\n",
       " 'Kim': 'Laura'}"
      ]
     },
     "execution_count": 67,
     "metadata": {},
     "output_type": "execute_result"
    }
   ],
   "source": [
    "{**others, **pythons} # 파이썬 3 가능"
   ]
  },
  {
   "cell_type": "code",
   "execution_count": 69,
   "id": "636ccaa9-4fe2-4dc6-ac10-6b8551877d9c",
   "metadata": {},
   "outputs": [],
   "source": [
    "# 삭제\n",
    "del pythons['Kim']"
   ]
  },
  {
   "cell_type": "code",
   "execution_count": 70,
   "id": "0b86272a-6265-4cb9-be34-fa1e043a1ca2",
   "metadata": {},
   "outputs": [
    {
     "data": {
      "text/plain": [
       "{'Chapman': 'Graham',\n",
       " 'Cleese': 'John',\n",
       " 'Idle': 'Eric',\n",
       " 'Jones': 'Terry',\n",
       " 'Palin': 'Josh',\n",
       " 'Marx': 'Groucho',\n",
       " 'Howard': 'Moe'}"
      ]
     },
     "execution_count": 70,
     "metadata": {},
     "output_type": "execute_result"
    }
   ],
   "source": [
    "pythons"
   ]
  },
  {
   "cell_type": "code",
   "execution_count": 73,
   "id": "47b7c040-4f14-4538-8907-791d9597993c",
   "metadata": {},
   "outputs": [
    {
     "data": {
      "text/plain": [
       "0"
      ]
     },
     "execution_count": 73,
     "metadata": {},
     "output_type": "execute_result"
    }
   ],
   "source": [
    "pythons.pop('Marx',0) # get + del"
   ]
  },
  {
   "cell_type": "code",
   "execution_count": null,
   "id": "7f3ec026-9e6f-44cb-9b6e-066ca8ec4d37",
   "metadata": {},
   "outputs": [],
   "source": [
    "pythons.clear()"
   ]
  },
  {
   "cell_type": "code",
   "execution_count": 1,
   "id": "8e850ab8-da73-484e-9c4a-71039eec4fde",
   "metadata": {},
   "outputs": [
    {
     "ename": "NameError",
     "evalue": "name 'pythons' is not defined",
     "output_type": "error",
     "traceback": [
      "\u001b[1;31m---------------------------------------------------------------------------\u001b[0m",
      "\u001b[1;31mNameError\u001b[0m                                 Traceback (most recent call last)",
      "Input \u001b[1;32mIn [1]\u001b[0m, in \u001b[0;36m<cell line: 1>\u001b[1;34m()\u001b[0m\n\u001b[1;32m----> 1\u001b[0m \u001b[43mpythons\u001b[49m\n",
      "\u001b[1;31mNameError\u001b[0m: name 'pythons' is not defined"
     ]
    }
   ],
   "source": [
    "pythons"
   ]
  },
  {
   "cell_type": "code",
   "execution_count": 74,
   "id": "65a0c572-913e-4fe7-ac10-ef9177d3f678",
   "metadata": {},
   "outputs": [],
   "source": [
    "#copy\n",
    "#1. 할당\n",
    "#2. 얕은 복사\n",
    "#3. 깊은 복사"
   ]
  },
  {
   "cell_type": "code",
   "execution_count": 75,
   "id": "31f9d640-fd91-43e5-a4e7-8bccacbe53df",
   "metadata": {},
   "outputs": [
    {
     "data": {
      "text/plain": [
       "({1: 10, 2: 3, 3: 4}, {1: 10, 2: 3, 3: 4})"
      ]
     },
     "execution_count": 75,
     "metadata": {},
     "output_type": "execute_result"
    }
   ],
   "source": [
    "a = {1:2, 2:3, 3:4}\n",
    "b = a\n",
    "a[1] = 10\n",
    "a, b"
   ]
  },
  {
   "cell_type": "code",
   "execution_count": 76,
   "id": "f8ba0225-fd8f-4407-b3a1-979f50334ed7",
   "metadata": {},
   "outputs": [
    {
     "data": {
      "text/plain": [
       "({1: 100, 2: 3, 3: 4}, {1: 10, 2: 3, 3: 4})"
      ]
     },
     "execution_count": 76,
     "metadata": {},
     "output_type": "execute_result"
    }
   ],
   "source": [
    "b = a.copy()\n",
    "a[1] = 100\n",
    "a,b"
   ]
  },
  {
   "cell_type": "code",
   "execution_count": 77,
   "id": "7b7b5bd5-8060-4ed8-bdab-d2fae1fe660e",
   "metadata": {},
   "outputs": [
    {
     "data": {
      "text/plain": [
       "({1: [100, 2, 2], 2: [1, 1, 1]}, {1: [100, 2, 2], 2: [1, 1, 1]})"
      ]
     },
     "execution_count": 77,
     "metadata": {},
     "output_type": "execute_result"
    }
   ],
   "source": [
    "a = {1:[2,2,2], 2:[1,1,1]}\n",
    "b = a.copy()\n",
    "a[1][0] = 100\n",
    "a,b"
   ]
  },
  {
   "cell_type": "code",
   "execution_count": 79,
   "id": "8386a627-3675-47a8-ba12-e59c116df392",
   "metadata": {},
   "outputs": [
    {
     "data": {
      "text/plain": [
       "({1: [9, 2, 2], 2: [1, 1, 1]}, {1: [9, 2, 2], 2: [1, 1, 1]})"
      ]
     },
     "execution_count": 79,
     "metadata": {},
     "output_type": "execute_result"
    }
   ],
   "source": [
    "import copy\n",
    "b = copy.deepcopy(a)\n",
    "a[1][0] = 9\n",
    "a,b"
   ]
  },
  {
   "cell_type": "code",
   "execution_count": 80,
   "id": "99a63204-7b9d-42fe-9927-d7b82cdb3e5f",
   "metadata": {},
   "outputs": [
    {
     "data": {
      "text/plain": [
       "False"
      ]
     },
     "execution_count": 80,
     "metadata": {},
     "output_type": "execute_result"
    }
   ],
   "source": [
    "# 값 비교: 같고 다름\n",
    "a != b"
   ]
  },
  {
   "cell_type": "markdown",
   "id": "c24a589a-d146-46c3-ae5c-9b9628900005",
   "metadata": {},
   "source": [
    "### ex\n",
    "- 두 개 리스트를 딕셔너리로 만든다: {한국어:영어}\n",
    "- 명왕성: pluto 추가하기\n",
    "- '성'으로 끝나지 않는 단어 삭제하기 del sdict['태양']=>하드코딩 안됨\n",
    "- sorted i)kor ii)eng"
   ]
  },
  {
   "cell_type": "code",
   "execution_count": 82,
   "id": "3900c475-22fe-47d9-b5b7-c39fa3c21602",
   "metadata": {},
   "outputs": [],
   "source": [
    "solar_kor = '태양 수성 금성 지구 화성 목성 토성 천왕성 해왕성'.split()\n",
    "solar_eng = 'sun mercury venus earth mars uranus neptune'.split()"
   ]
  },
  {
   "cell_type": "code",
   "execution_count": 89,
   "id": "831c43e5-4413-4e42-befc-7f1892d8f0f4",
   "metadata": {},
   "outputs": [
    {
     "ename": "AttributeError",
     "evalue": "'dict' object has no attribute 'endswith'",
     "output_type": "error",
     "traceback": [
      "\u001b[1;31m---------------------------------------------------------------------------\u001b[0m",
      "\u001b[1;31mAttributeError\u001b[0m                            Traceback (most recent call last)",
      "Input \u001b[1;32mIn [89]\u001b[0m, in \u001b[0;36m<cell line: 7>\u001b[1;34m()\u001b[0m\n\u001b[0;32m      5\u001b[0m solar_dict\u001b[38;5;241m.\u001b[39mupdate(others)\n\u001b[0;32m      6\u001b[0m solar_dict\n\u001b[1;32m----> 7\u001b[0m [solar_dict\u001b[38;5;241m.\u001b[39mremove(k,v) \u001b[38;5;28;01mfor\u001b[39;00m k,v \u001b[38;5;129;01min\u001b[39;00m solar_dict \u001b[38;5;28;01mif\u001b[39;00m \u001b[38;5;129;01mnot\u001b[39;00m solar_dict\u001b[38;5;241m.\u001b[39mendswith(\u001b[38;5;124m'\u001b[39m\u001b[38;5;124m성\u001b[39m\u001b[38;5;124m'\u001b[39m) \u001b[38;5;129;01min\u001b[39;00m solar_dict]\n",
      "Input \u001b[1;32mIn [89]\u001b[0m, in \u001b[0;36m<listcomp>\u001b[1;34m(.0)\u001b[0m\n\u001b[0;32m      5\u001b[0m solar_dict\u001b[38;5;241m.\u001b[39mupdate(others)\n\u001b[0;32m      6\u001b[0m solar_dict\n\u001b[1;32m----> 7\u001b[0m [solar_dict\u001b[38;5;241m.\u001b[39mremove(k,v) \u001b[38;5;28;01mfor\u001b[39;00m k,v \u001b[38;5;129;01min\u001b[39;00m solar_dict \u001b[38;5;28;01mif\u001b[39;00m \u001b[38;5;129;01mnot\u001b[39;00m \u001b[43msolar_dict\u001b[49m\u001b[38;5;241;43m.\u001b[39;49m\u001b[43mendswith\u001b[49m(\u001b[38;5;124m'\u001b[39m\u001b[38;5;124m성\u001b[39m\u001b[38;5;124m'\u001b[39m) \u001b[38;5;129;01min\u001b[39;00m solar_dict]\n",
      "\u001b[1;31mAttributeError\u001b[0m: 'dict' object has no attribute 'endswith'"
     ]
    }
   ],
   "source": [
    "solar_dict = dict(zip(solar_kor, solar_eng))\n",
    "others = {\n",
    "    '명왕성':'pluto'\n",
    "}\n",
    "solar_dict.update(others)\n",
    "solar_dict\n",
    "[solar_dict.remove(k,v) for k,v in solar_dict in if ]"
   ]
  },
  {
   "cell_type": "code",
   "execution_count": 104,
   "id": "8450d42b-1401-4f6c-8fbb-b9ace5e78c4d",
   "metadata": {},
   "outputs": [
    {
     "data": {
      "text/plain": [
       "{'태양': 'sun',\n",
       " '수성': 'mercury',\n",
       " '금성': 'venus',\n",
       " '지구': 'earth',\n",
       " '화성': 'mars',\n",
       " '목성': 'uranus',\n",
       " '토성': 'neptune'}"
      ]
     },
     "execution_count": 104,
     "metadata": {},
     "output_type": "execute_result"
    }
   ],
   "source": [
    "# 모범 답안\n",
    "solar_system = {}\n",
    "for ko, en in zip(solar_kor, solar_eng):\n",
    "    solar_system[ko] = en\n",
    "solar_system"
   ]
  },
  {
   "cell_type": "code",
   "execution_count": 105,
   "id": "d14a6229-7906-4a53-ae88-4fba6c987a32",
   "metadata": {},
   "outputs": [
    {
     "data": {
      "text/plain": [
       "{'태양': 'sun',\n",
       " '수성': 'mercury',\n",
       " '금성': 'venus',\n",
       " '지구': 'earth',\n",
       " '화성': 'mars',\n",
       " '목성': 'uranus',\n",
       " '토성': 'neptune',\n",
       " '명왕성': 'pluto'}"
      ]
     },
     "execution_count": 105,
     "metadata": {},
     "output_type": "execute_result"
    }
   ],
   "source": [
    "solar_system['명왕성'] = 'pluto'\n",
    "solar_system"
   ]
  },
  {
   "cell_type": "code",
   "execution_count": 106,
   "id": "afab1d86-8d49-4624-98ab-bc8e3a61e3af",
   "metadata": {},
   "outputs": [
    {
     "data": {
      "text/plain": [
       "{'태양': 'sun',\n",
       " '수성': 'mercury',\n",
       " '금성': 'venus',\n",
       " '지구': 'earth',\n",
       " '화성': 'mars',\n",
       " '목성': 'uranus',\n",
       " '토성': 'neptune',\n",
       " '명왕성': 'pluto'}"
      ]
     },
     "execution_count": 106,
     "metadata": {},
     "output_type": "execute_result"
    }
   ],
   "source": [
    "{k:v for k,v in solar_system.items()}"
   ]
  },
  {
   "cell_type": "code",
   "execution_count": 91,
   "id": "0b2b99f7-3ed1-4735-b386-b14dcaf71c36",
   "metadata": {},
   "outputs": [
    {
     "name": "stdout",
     "output_type": "stream",
     "text": [
      "room has the contents ballroom\n",
      "weapon has the contents lead pipe\n",
      "person has the contents Col. Mustard\n"
     ]
    }
   ],
   "source": [
    "accusation = {'room':'ballroom', 'weapon':'lead pipe', 'person':'Col. Mustard'}\n",
    "\n",
    "for k,v in accusation.items():\n",
    "    print(f'{k} has the contents {v}')"
   ]
  },
  {
   "cell_type": "markdown",
   "id": "980119c0-7811-4287-9f3b-615f3ed2b292",
   "metadata": {},
   "source": [
    "### 딕셔너리 컴프리헨션"
   ]
  },
  {
   "cell_type": "code",
   "execution_count": 94,
   "id": "7e495164-ab6a-4635-9742-ec7684e3d84b",
   "metadata": {},
   "outputs": [
    {
     "data": {
      "text/plain": [
       "{'a': 1, 'p': 2, 'l': 1, 'e': 1}"
      ]
     },
     "execution_count": 94,
     "metadata": {},
     "output_type": "execute_result"
    }
   ],
   "source": [
    "letter = 'apple'\n",
    "# {a:1, p:2, ...}\n",
    "{ch: letter.count(ch) for ch in letter}"
   ]
  },
  {
   "cell_type": "code",
   "execution_count": 3,
   "id": "756d1d02-3e62-4a10-836f-97c170c79522",
   "metadata": {},
   "outputs": [],
   "source": [
    "vowels = 'aeiou'\n",
    "word = 'onomatopeoia'\n",
    "\n",
    "# 주어진 단어의 모음 세기\n",
    "# {a:1, e:3, ...}\n",
    "# vowels, word 각각 기준 잡아서 dic compre 이용해서 만들기"
   ]
  },
  {
   "cell_type": "code",
   "execution_count": 4,
   "id": "7eeb20ba-d4dd-4879-92d6-b7b69de7368c",
   "metadata": {},
   "outputs": [
    {
     "name": "stdout",
     "output_type": "stream",
     "text": [
      "{'a': 2, 'e': 1, 'i': 1, 'o': 4, 'u': 0}\n"
     ]
    }
   ],
   "source": [
    "#1. vowels 순회\n",
    "op1 = {v: word.count(v) for v in vowels}\n",
    "print(op1)"
   ]
  },
  {
   "cell_type": "code",
   "execution_count": 6,
   "id": "e6ee350c-ca2d-45ac-b03e-86ecbbb511e8",
   "metadata": {},
   "outputs": [
    {
     "data": {
      "text/plain": [
       "{'e': 1, 'o': 4, 'a': 2, 'i': 1}"
      ]
     },
     "execution_count": 6,
     "metadata": {},
     "output_type": "execute_result"
    }
   ],
   "source": [
    "#2. word 순회\n",
    "{ch: word.count(ch) for ch in set(word) if ch in vowels} # 'u'를 추가하는 방법? 더 고민하기..."
   ]
  },
  {
   "cell_type": "markdown",
   "id": "7ba9160e-7c38-4c62-8eb9-38790eec3b4e",
   "metadata": {},
   "source": [
    "## Set\n",
    "- 딕셔너리의 키만 모아놓음 => 중복 없음!\n",
    "- 수학의 집합 개념 => 교집합, 합집합, 차집합, ...\n",
    "- 데이터 자루, 순서 없고, 인덱싱 없고"
   ]
  },
  {
   "cell_type": "code",
   "execution_count": 108,
   "id": "88c8df99-897d-4740-87c4-3c1cb78b7451",
   "metadata": {},
   "outputs": [
    {
     "data": {
      "text/plain": [
       "(set(), {})"
      ]
     },
     "execution_count": 108,
     "metadata": {},
     "output_type": "execute_result"
    }
   ],
   "source": [
    "empty = set()\n",
    "empty1 = {} # dict\n",
    "empty, empty1"
   ]
  },
  {
   "cell_type": "code",
   "execution_count": 109,
   "id": "38ac925f-bc6b-48ed-a558-9f8bf3890428",
   "metadata": {},
   "outputs": [
    {
     "data": {
      "text/plain": [
       "set"
      ]
     },
     "execution_count": 109,
     "metadata": {},
     "output_type": "execute_result"
    }
   ],
   "source": [
    "a = {1,2,3}\n",
    "type(a)"
   ]
  },
  {
   "cell_type": "code",
   "execution_count": 116,
   "id": "47168f00-5ac7-4efa-9c9f-e9601b3885cb",
   "metadata": {},
   "outputs": [
    {
     "data": {
      "text/plain": [
       "{1, 2, 3}"
      ]
     },
     "execution_count": 116,
     "metadata": {},
     "output_type": "execute_result"
    }
   ],
   "source": [
    "b = set((1,2,3,3))\n",
    "b"
   ]
  },
  {
   "cell_type": "code",
   "execution_count": 114,
   "id": "d5381214-4613-45b5-9651-2957d55357f0",
   "metadata": {},
   "outputs": [],
   "source": [
    "# 추가하기\n",
    "a.add(4)"
   ]
  },
  {
   "cell_type": "code",
   "execution_count": 115,
   "id": "de6fa1da-7067-4a3d-acc9-ff775a044eb5",
   "metadata": {},
   "outputs": [
    {
     "data": {
      "text/plain": [
       "{1, 2, 3, 4}"
      ]
     },
     "execution_count": 115,
     "metadata": {},
     "output_type": "execute_result"
    }
   ],
   "source": [
    "a"
   ]
  },
  {
   "cell_type": "code",
   "execution_count": 117,
   "id": "904d137b-7f40-4e23-a739-87d7f9132f27",
   "metadata": {},
   "outputs": [
    {
     "data": {
      "text/plain": [
       "{1, 2, 3}"
      ]
     },
     "execution_count": 117,
     "metadata": {},
     "output_type": "execute_result"
    }
   ],
   "source": [
    "#삭제\n",
    "a.remove(4)\n",
    "a"
   ]
  },
  {
   "cell_type": "code",
   "execution_count": 118,
   "id": "0eeec49e-d4ed-489c-a559-ac6d25e96643",
   "metadata": {},
   "outputs": [
    {
     "data": {
      "text/plain": [
       "{1, 2}"
      ]
     },
     "execution_count": 118,
     "metadata": {},
     "output_type": "execute_result"
    }
   ],
   "source": [
    "a.discard(3)\n",
    "a"
   ]
  },
  {
   "cell_type": "code",
   "execution_count": 124,
   "id": "15bc40d1-61d3-44a2-9e6a-eee46483832a",
   "metadata": {},
   "outputs": [
    {
     "name": "stdout",
     "output_type": "stream",
     "text": [
      "black russian\n",
      "screwdriver\n"
     ]
    }
   ],
   "source": [
    "drinks = {\n",
    "    'martini':{'vodka', 'vermouth'},\n",
    "    'black russian':{'vodka', 'kahlua'},\n",
    "    'white russian':{'cream', 'kahlua','vodka'},\n",
    "    'mahattin':{'rye','vermouth','bitters'},\n",
    "    'screwdriver':{'orange juice','vodka'}\n",
    "}\n",
    "\n",
    "for k,v in drinks.items():\n",
    "    if 'vodka' in v and not ('cream' in v or 'vermouth' in v):\n",
    "        print(k)\n",
    "        "
   ]
  },
  {
   "cell_type": "code",
   "execution_count": 125,
   "id": "18edaa58-5cc4-4a08-b587-9971a901e25c",
   "metadata": {},
   "outputs": [
    {
     "data": {
      "text/plain": [
       "{4}"
      ]
     },
     "execution_count": 125,
     "metadata": {},
     "output_type": "execute_result"
    }
   ],
   "source": [
    "a = {1,2,3}\n",
    "b = {2,3,4}\n",
    "#교집합: intersection (a & b)\n",
    "a.intersection(b)\n",
    "\n",
    "#합집합:  (a | b)\n",
    "a.union(b)\n",
    "\n",
    "#차집합: difference (a - b)\n",
    "a.difference(b)\n",
    "b - a"
   ]
  },
  {
   "cell_type": "code",
   "execution_count": null,
   "id": "596a0f91-bc5b-42d0-b4c6-7cfdda938da2",
   "metadata": {},
   "outputs": [],
   "source": [
    "for k,v in drinks.items():\n",
    "    if 'vodka' and not v & ('cream', 'vermouth')\n",
    "    print(k)"
   ]
  },
  {
   "cell_type": "code",
   "execution_count": 126,
   "id": "cd200ec9-6c5e-444b-b059-402a5a09ee2a",
   "metadata": {},
   "outputs": [
    {
     "data": {
      "text/plain": [
       "{1, 2, 3}"
      ]
     },
     "execution_count": 126,
     "metadata": {},
     "output_type": "execute_result"
    }
   ],
   "source": [
    "# comprehension\n",
    "{s for s in a}"
   ]
  },
  {
   "cell_type": "code",
   "execution_count": 127,
   "id": "340c6665-6712-4333-b757-9120319534e1",
   "metadata": {},
   "outputs": [
    {
     "data": {
      "text/plain": [
       "frozenset({1, 2, 3})"
      ]
     },
     "execution_count": 127,
     "metadata": {},
     "output_type": "execute_result"
    }
   ],
   "source": [
    "# frozenset\n",
    "fs = frozenset([1,2,3]) # 불변함.\n",
    "fs"
   ]
  },
  {
   "cell_type": "code",
   "execution_count": 128,
   "id": "3a308c77-6d25-4519-9d49-ab65c12782a7",
   "metadata": {},
   "outputs": [],
   "source": [
    "# pylint->\n",
    "# pydocstyle -> style"
   ]
  },
  {
   "cell_type": "code",
   "execution_count": null,
   "id": "decac66b-49b2-413e-a804-d4b58399f93b",
   "metadata": {},
   "outputs": [],
   "source": [
    "# !pip install pylint\n",
    "# !pylint example.py \n",
    "\n",
    "# !pip install pydocstyle\n",
    "# !pydocstyle example.py"
   ]
  }
 ],
 "metadata": {
  "kernelspec": {
   "display_name": "Python 3 (ipykernel)",
   "language": "python",
   "name": "python3"
  },
  "language_info": {
   "codemirror_mode": {
    "name": "ipython",
    "version": 3
   },
   "file_extension": ".py",
   "mimetype": "text/x-python",
   "name": "python",
   "nbconvert_exporter": "python",
   "pygments_lexer": "ipython3",
   "version": "3.9.7"
  }
 },
 "nbformat": 4,
 "nbformat_minor": 5
}
