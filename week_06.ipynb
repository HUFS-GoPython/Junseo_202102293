{
 "cells": [
  {
   "cell_type": "code",
   "execution_count": 2,
   "id": "5bd9d1e0-d981-4a6c-96b2-c8da4819f6a9",
   "metadata": {
    "jp-MarkdownHeadingCollapsed": true,
    "tags": []
   },
   "outputs": [
    {
     "name": "stderr",
     "output_type": "stream",
     "text": [
      "[nltk_data] Downloading package inaugural to\n",
      "[nltk_data]     C:\\Users\\82103\\AppData\\Roaming\\nltk_data...\n",
      "[nltk_data]   Package inaugural is already up-to-date!\n",
      "[nltk_data] Downloading package brown to\n",
      "[nltk_data]     C:\\Users\\82103\\AppData\\Roaming\\nltk_data...\n",
      "[nltk_data]   Package brown is already up-to-date!\n"
     ]
    },
    {
     "data": {
      "text/plain": [
       "True"
      ]
     },
     "execution_count": 2,
     "metadata": {},
     "output_type": "execute_result"
    }
   ],
   "source": [
    "import nltk\n",
    "nltk.download(['inaugural', 'brown'])"
   ]
  },
  {
   "cell_type": "code",
   "execution_count": 3,
   "id": "2317c910-bdd7-4299-ae32-d2c0e7bbef71",
   "metadata": {},
   "outputs": [],
   "source": [
    "brown = nltk.corpus.brown"
   ]
  },
  {
   "cell_type": "code",
   "execution_count": 4,
   "id": "556ff4c8-6304-4678-b278-3d339322f9e5",
   "metadata": {
    "tags": []
   },
   "outputs": [
    {
     "name": "stdout",
     "output_type": "stream",
     "text": [
      "                  can could  will would   may might \n",
      "      adventure    46   151    50   191     5    58 \n",
      " belles_lettres   246   213   236   392   207   113 \n",
      "      editorial   121    56   233   180    74    39 \n",
      "        fiction    37   166    52   287     8    44 \n",
      "     government   117    38   244   120   153    13 \n",
      "        hobbies   268    58   264    78   131    22 \n",
      "          humor    16    30    13    56     8     8 \n",
      "        learned   365   159   340   319   324   128 \n",
      "           lore   170   141   175   186   165    49 \n",
      "        mystery    42   141    20   186    13    57 \n",
      "           news    93    86   389   244    66    38 \n",
      "       religion    82    59    71    68    78    12 \n",
      "        reviews    45    40    58    47    45    26 \n",
      "        romance    74   193    43   244    11    51 \n",
      "science_fiction    16    49    16    79     4    12 \n"
     ]
    }
   ],
   "source": [
    "cfd = nltk.ConditionalFreqDist(\n",
    "    (genre, word)\n",
    "    for genre in brown.categories()\n",
    "    for word in brown.words(categories = genre)\n",
    ")\n",
    "\n",
    "genres = brown.categories()[:5]\n",
    "modals = ['can', 'could', 'will', 'would', 'may', 'might']\n",
    "cfd.tabulate(condition = genres, samples = modals)"
   ]
  },
  {
   "cell_type": "code",
   "execution_count": 7,
   "id": "0de96b7f-a400-4452-b936-f2fe83171cd3",
   "metadata": {
    "collapsed": true,
    "jupyter": {
     "outputs_hidden": true
    },
    "tags": []
   },
   "outputs": [
    {
     "name": "stdout",
     "output_type": "stream",
     "text": [
      "Requirement already satisfied: matplotlib in c:\\users\\82103\\.conda\\envs\\jupyterlab\\lib\\site-packages (3.5.1)\n",
      "Requirement already satisfied: pyparsing>=2.2.1 in c:\\users\\82103\\.conda\\envs\\jupyterlab\\lib\\site-packages (from matplotlib) (3.0.4)\n",
      "Requirement already satisfied: numpy>=1.17 in c:\\users\\82103\\.conda\\envs\\jupyterlab\\lib\\site-packages (from matplotlib) (1.22.3)\n",
      "Requirement already satisfied: fonttools>=4.22.0 in c:\\users\\82103\\.conda\\envs\\jupyterlab\\lib\\site-packages (from matplotlib) (4.31.2)\n",
      "Requirement already satisfied: kiwisolver>=1.0.1 in c:\\users\\82103\\.conda\\envs\\jupyterlab\\lib\\site-packages (from matplotlib) (1.4.0)\n",
      "Requirement already satisfied: cycler>=0.10 in c:\\users\\82103\\.conda\\envs\\jupyterlab\\lib\\site-packages (from matplotlib) (0.11.0)\n",
      "Requirement already satisfied: python-dateutil>=2.7 in c:\\users\\82103\\appdata\\roaming\\python\\python39\\site-packages (from matplotlib) (2.8.2)\n",
      "Requirement already satisfied: packaging>=20.0 in c:\\users\\82103\\.conda\\envs\\jupyterlab\\lib\\site-packages (from matplotlib) (21.3)\n",
      "Requirement already satisfied: pillow>=6.2.0 in c:\\users\\82103\\.conda\\envs\\jupyterlab\\lib\\site-packages (from matplotlib) (9.0.1)\n",
      "Requirement already satisfied: six>=1.5 in c:\\users\\82103\\appdata\\roaming\\python\\python39\\site-packages (from python-dateutil>=2.7->matplotlib) (1.16.0)\n"
     ]
    }
   ],
   "source": [
    "!pip install matplotlib"
   ]
  },
  {
   "cell_type": "code",
   "execution_count": null,
   "id": "61ccb73f-b293-41ee-9883-814d5ea4395c",
   "metadata": {
    "tags": []
   },
   "outputs": [],
   "source": [
    "cfd.plot() # 장르별로 시각화"
   ]
  },
  {
   "cell_type": "markdown",
   "id": "c49d93a6-48ee-42fc-ba13-086d24330909",
   "metadata": {},
   "source": [
    "#### inaugural\n",
    "- 연설문 데이터"
   ]
  },
  {
   "cell_type": "code",
   "execution_count": 9,
   "id": "3c4988bf-1615-40f7-9cb8-1578e8919d63",
   "metadata": {},
   "outputs": [],
   "source": [
    "import nltk\n",
    "from nltk.corpus import inaugural\n",
    "inaugural = nltk.corpus.inaugural"
   ]
  },
  {
   "cell_type": "code",
   "execution_count": 10,
   "id": "8e06513d-1820-4123-a889-9de2574a782d",
   "metadata": {},
   "outputs": [
    {
     "data": {
      "text/plain": [
       "['1789-Washington.txt', '1793-Washington.txt']"
      ]
     },
     "execution_count": 10,
     "metadata": {},
     "output_type": "execute_result"
    }
   ],
   "source": [
    "inaugural.fileids()[:2]"
   ]
  },
  {
   "cell_type": "code",
   "execution_count": 24,
   "id": "babaf42f-44fa-41da-aebb-eccc5fb8efcc",
   "metadata": {
    "tags": []
   },
   "outputs": [
    {
     "ename": "ValueError",
     "evalue": "max() arg is an empty sequence",
     "output_type": "error",
     "traceback": [
      "\u001b[1;31m---------------------------------------------------------------------------\u001b[0m",
      "\u001b[1;31mValueError\u001b[0m                                Traceback (most recent call last)",
      "Input \u001b[1;32mIn [24]\u001b[0m, in \u001b[0;36m<cell line: 16>\u001b[1;34m()\u001b[0m\n\u001b[0;32m      1\u001b[0m cfd3 \u001b[38;5;241m=\u001b[39m nltk\u001b[38;5;241m.\u001b[39mConditionalFreqDist(\n\u001b[0;32m      2\u001b[0m     \u001b[38;5;66;03m# for (genre, modals)\u001b[39;00m\n\u001b[0;32m      3\u001b[0m     (target_word, fileid) \u001b[38;5;66;03m# x, y 바꿀 수 있음 \u001b[39;00m\n\u001b[1;32m   (...)\u001b[0m\n\u001b[0;32m     13\u001b[0m         \u001b[38;5;28;01mif\u001b[39;00m word\u001b[38;5;241m.\u001b[39mupper()\u001b[38;5;241m.\u001b[39mstartswith(target_word)\n\u001b[0;32m     14\u001b[0m )\n\u001b[1;32m---> 16\u001b[0m \u001b[43mcfd3\u001b[49m\u001b[38;5;241;43m.\u001b[39;49m\u001b[43mtabulate\u001b[49m\u001b[43m(\u001b[49m\u001b[43m)\u001b[49m\n",
      "File \u001b[1;32m~\\.conda\\envs\\jupyterlab\\lib\\site-packages\\nltk\\probability.py:2034\u001b[0m, in \u001b[0;36mConditionalFreqDist.tabulate\u001b[1;34m(self, *args, **kwargs)\u001b[0m\n\u001b[0;32m   2027\u001b[0m conditions \u001b[38;5;241m=\u001b[39m _get_kwarg(kwargs, \u001b[38;5;124m\"\u001b[39m\u001b[38;5;124mconditions\u001b[39m\u001b[38;5;124m\"\u001b[39m, \u001b[38;5;28msorted\u001b[39m(\u001b[38;5;28mself\u001b[39m\u001b[38;5;241m.\u001b[39mconditions()))\n\u001b[0;32m   2028\u001b[0m samples \u001b[38;5;241m=\u001b[39m _get_kwarg(\n\u001b[0;32m   2029\u001b[0m     kwargs,\n\u001b[0;32m   2030\u001b[0m     \u001b[38;5;124m\"\u001b[39m\u001b[38;5;124msamples\u001b[39m\u001b[38;5;124m\"\u001b[39m,\n\u001b[0;32m   2031\u001b[0m     \u001b[38;5;28msorted\u001b[39m({v \u001b[38;5;28;01mfor\u001b[39;00m c \u001b[38;5;129;01min\u001b[39;00m conditions \u001b[38;5;28;01mif\u001b[39;00m c \u001b[38;5;129;01min\u001b[39;00m \u001b[38;5;28mself\u001b[39m \u001b[38;5;28;01mfor\u001b[39;00m v \u001b[38;5;129;01min\u001b[39;00m \u001b[38;5;28mself\u001b[39m[c]}),\n\u001b[0;32m   2032\u001b[0m )  \u001b[38;5;66;03m# this computation could be wasted\u001b[39;00m\n\u001b[1;32m-> 2034\u001b[0m width \u001b[38;5;241m=\u001b[39m \u001b[38;5;28;43mmax\u001b[39;49m\u001b[43m(\u001b[49m\u001b[38;5;28;43mlen\u001b[39;49m\u001b[43m(\u001b[49m\u001b[38;5;124;43m\"\u001b[39;49m\u001b[38;5;132;43;01m%s\u001b[39;49;00m\u001b[38;5;124;43m\"\u001b[39;49m\u001b[43m \u001b[49m\u001b[38;5;241;43m%\u001b[39;49m\u001b[43m \u001b[49m\u001b[43ms\u001b[49m\u001b[43m)\u001b[49m\u001b[43m \u001b[49m\u001b[38;5;28;43;01mfor\u001b[39;49;00m\u001b[43m \u001b[49m\u001b[43ms\u001b[49m\u001b[43m \u001b[49m\u001b[38;5;129;43;01min\u001b[39;49;00m\u001b[43m \u001b[49m\u001b[43msamples\u001b[49m\u001b[43m)\u001b[49m\n\u001b[0;32m   2035\u001b[0m freqs \u001b[38;5;241m=\u001b[39m \u001b[38;5;28mdict\u001b[39m()\n\u001b[0;32m   2036\u001b[0m \u001b[38;5;28;01mfor\u001b[39;00m c \u001b[38;5;129;01min\u001b[39;00m conditions:\n",
      "\u001b[1;31mValueError\u001b[0m: max() arg is an empty sequence"
     ]
    }
   ],
   "source": [
    "cfd3 = nltk.ConditionalFreqDist(\n",
    "    # for (genre, modals)\n",
    "    (target_word, fileid) # x, y 바꿀 수 있음 \n",
    "    \n",
    "    # for modals in categories\n",
    "    for fileid in inaugural.fileids()\n",
    "    \n",
    "    #for modals in brown.words(categories = genre)\n",
    "    for target_word in ['america', 'citizen']\n",
    "    \n",
    "    # for word in brown.words(categories = genre) if word.lower() == modals) # candidate\n",
    "    for word in inaugural.words(fileids = fileid)    \n",
    "        if word.upper().startswith(target_word)\n",
    ")\n",
    "\n",
    "cfd3.tabulate()"
   ]
  },
  {
   "cell_type": "code",
   "execution_count": 9,
   "id": "58175e9d-bec7-410f-ab66-9eebecf54705",
   "metadata": {
    "tags": []
   },
   "outputs": [
    {
     "data": {
      "image/png": "[encoded data removed]",
      "text/plain": [
       "<Figure size 432x288 with 1 Axes>"
      ]
     },
     "metadata": {
      "needs_background": "light"
     },
     "output_type": "display_data"
    },
    {
     "data": {
      "text/plain": [
       "<AxesSubplot:xlabel='Samples', ylabel='Counts'>"
      ]
     },
     "execution_count": 9,
     "metadata": {},
     "output_type": "execute_result"
    }
   ],
   "source": [
    "cfd3.plot()"
   ]
  },
  {
   "cell_type": "markdown",
   "id": "0bc96a75-e18d-4592-b03f-fbcd79f0ab3b",
   "metadata": {},
   "source": [
    "## Tuple & List\n",
    "1. 생성하기"
   ]
  },
  {
   "cell_type": "code",
   "execution_count": 10,
   "id": "d0677d51-7e74-4d00-8c7d-5248937da168",
   "metadata": {},
   "outputs": [
    {
     "data": {
      "text/plain": [
       "(tuple, list)"
      ]
     },
     "execution_count": 10,
     "metadata": {},
     "output_type": "execute_result"
    }
   ],
   "source": [
    "# tuple\n",
    "emptyT = ()\n",
    "emptyT = tuple()\n",
    "\n",
    "# List\n",
    "emptyL = []\n",
    "emptyL = list()\n",
    "\n",
    "type(emptyT), type(emptyL)"
   ]
  },
  {
   "cell_type": "markdown",
   "id": "21e10755-aabd-4940-bd52-3b7b07bec72d",
   "metadata": {},
   "source": [
    "1.1. 요소가 2개 이상일 때"
   ]
  },
  {
   "cell_type": "code",
   "execution_count": 11,
   "id": "6eee8d3f-87d1-4481-b09e-39042592d383",
   "metadata": {},
   "outputs": [
    {
     "data": {
      "text/plain": [
       "(['a', 'b'], ('a', 'b'))"
      ]
     },
     "execution_count": 11,
     "metadata": {},
     "output_type": "execute_result"
    }
   ],
   "source": [
    "listA = ['a', 'b']\n",
    "\n",
    "tupleA = 'a', 'b'\n",
    "tupleA = ('a', 'b')\n",
    "\n",
    "listA, tupleA"
   ]
  },
  {
   "cell_type": "markdown",
   "id": "7b7bcd22-3a1a-41e5-a08b-312efcf4c17c",
   "metadata": {},
   "source": [
    "1.2. 요소가 1개일 때"
   ]
  },
  {
   "cell_type": "code",
   "execution_count": 12,
   "id": "099534fe-4f8a-4c2e-9840-31adada0730f",
   "metadata": {},
   "outputs": [
    {
     "data": {
      "text/plain": [
       "(('a',), ['a'])"
      ]
     },
     "execution_count": 12,
     "metadata": {},
     "output_type": "execute_result"
    }
   ],
   "source": [
    "listA = ['a']\n",
    "\n",
    "tupleA = ('a',) # comma necessary\n",
    "tupleA = 'a',\n",
    "\n",
    "tupleA, listA"
   ]
  },
  {
   "cell_type": "code",
   "execution_count": 13,
   "id": "ebb11dd9-49eb-4890-bcb3-34cb96ba6315",
   "metadata": {},
   "outputs": [
    {
     "data": {
      "text/plain": [
       "(tuple, str)"
      ]
     },
     "execution_count": 13,
     "metadata": {},
     "output_type": "execute_result"
    }
   ],
   "source": [
    "ex = ('a',)\n",
    "ex1 = ('a')\n",
    "type(ex), type(ex1) # 타입 다름을 확인"
   ]
  },
  {
   "cell_type": "markdown",
   "id": "6af6cfa8-7e4b-4bc5-8a8c-ebde056f9bbd",
   "metadata": {},
   "source": [
    "2. 여러 변수 할당\n",
    "- packing: 한 변수에 여러 개의 데이터 할당\n",
    "    - 리스트, 튜플 자체가 a= [1, 2, 3, 4]\n",
    "- unpacking: 여러 변수에 하나의 데이터를 할당하는 것. 그것을 각각의 변수로 변환하는 것\n",
    "    - a, b, c = [1, 2, 3]"
   ]
  },
  {
   "cell_type": "code",
   "execution_count": 14,
   "id": "07f825ed-820c-4bda-8ec6-2ab6e380c0f7",
   "metadata": {},
   "outputs": [
    {
     "data": {
      "text/plain": [
       "('l', 'e', 'e')"
      ]
     },
     "execution_count": 14,
     "metadata": {},
     "output_type": "execute_result"
    }
   ],
   "source": [
    "name = 'lee'\n",
    "a, b, c = name\n",
    "a, b, c # unpacking"
   ]
  },
  {
   "cell_type": "code",
   "execution_count": 15,
   "id": "637233aa-2700-4c2d-bf9f-ecfb46bc3c62",
   "metadata": {},
   "outputs": [
    {
     "data": {
      "text/plain": [
       "('abcd', 'hello')"
      ]
     },
     "execution_count": 15,
     "metadata": {},
     "output_type": "execute_result"
    }
   ],
   "source": [
    "pwd = 'abcd'\n",
    "userId = 'hello'\n",
    "\n",
    "# pwd = 'hello', userId = 'abcd'\n",
    "temp1 = pwd \n",
    "temp2 = userId\n",
    "pwd = temp2 \n",
    "userId = temp1 \n",
    "\n",
    "pwd, userId = userId, pwd\n",
    "pwd, userId"
   ]
  },
  {
   "cell_type": "markdown",
   "id": "67e00dc0-6a5e-476a-abf9-f93062277e6b",
   "metadata": {},
   "source": [
    "3. 연산\n",
    "- 리스트도 동일함"
   ]
  },
  {
   "cell_type": "code",
   "execution_count": 16,
   "id": "f2c46ccb-57bc-4faf-9b7d-9ceed30f04a1",
   "metadata": {},
   "outputs": [
    {
     "data": {
      "text/plain": [
       "('a', 'b', 'c')"
      ]
     },
     "execution_count": 16,
     "metadata": {},
     "output_type": "execute_result"
    }
   ],
   "source": [
    "('a', ) + ('b', 'c')"
   ]
  },
  {
   "cell_type": "code",
   "execution_count": 17,
   "id": "bc0b9f47-6093-4888-b5aa-055847ab9326",
   "metadata": {},
   "outputs": [
    {
     "data": {
      "text/plain": [
       "('a', 'b', 'a', 'b', 'a', 'b', 'a', 'b')"
      ]
     },
     "execution_count": 17,
     "metadata": {},
     "output_type": "execute_result"
    }
   ],
   "source": [
    "('a', 'b') * 4"
   ]
  },
  {
   "cell_type": "code",
   "execution_count": 18,
   "id": "fe8882f5-db4e-40d9-933f-b5403236567f",
   "metadata": {},
   "outputs": [
    {
     "data": {
      "text/plain": [
       "((1, 2), (1, 3))"
      ]
     },
     "execution_count": 18,
     "metadata": {},
     "output_type": "execute_result"
    }
   ],
   "source": [
    "a = 1, 2\n",
    "b = 1, 3\n",
    "\n",
    "a, b"
   ]
  },
  {
   "cell_type": "markdown",
   "id": "f4d17321-c385-4603-8710-714ad96fee2a",
   "metadata": {},
   "source": [
    "4. 순회하기"
   ]
  },
  {
   "cell_type": "code",
   "execution_count": 19,
   "id": "6a2917d4-8166-42a1-ac29-f35aeccfb248",
   "metadata": {},
   "outputs": [
    {
     "name": "stdout",
     "output_type": "stream",
     "text": [
      "(1, 2, 3, 4, 5)\n",
      "(1, 2, 3, 4, 5)\n",
      "(1, 2, 3, 4, 5)\n",
      "(1, 2, 3, 4, 5)\n",
      "(1, 2, 3, 4, 5)\n"
     ]
    }
   ],
   "source": [
    "a = 1, 2, 3, 4, 5\n",
    "for i in a:\n",
    "    print(a)"
   ]
  },
  {
   "cell_type": "markdown",
   "id": "4770987a-8298-40a1-8f51-aaaf36be9a31",
   "metadata": {},
   "source": [
    "5. list comprehension"
   ]
  },
  {
   "cell_type": "markdown",
   "id": "5c4bc9fd-6c3f-4af2-91fe-ee7d288961a1",
   "metadata": {},
   "source": [
    "- tuple comprehension? 없음."
   ]
  },
  {
   "cell_type": "code",
   "execution_count": 23,
   "id": "b9ff8e4e-103e-4d25-a9ca-f88c3dc30d63",
   "metadata": {},
   "outputs": [
    {
     "data": {
      "text/plain": [
       "(0, 1, 2, 3, 4)"
      ]
     },
     "execution_count": 23,
     "metadata": {},
     "output_type": "execute_result"
    }
   ],
   "source": [
    "#1.\n",
    "tuple([word for word in a])\n",
    "\n",
    "#2. 느림\n",
    "* [word for word in a], "
   ]
  },
  {
   "cell_type": "markdown",
   "id": "c1e86533-b75a-43e7-a70c-273dba2cdf71",
   "metadata": {},
   "source": [
    "6. 튜플은 불변 객체임.\n",
    "- a = 1, 2, 3, 4\n",
    "- 코드 수정할 때 튜플 수정할 수 없게 하는 용도로 사용한다.\n",
    "- key 값을 저장\n",
    "\n",
    "blue = 1 white = 2...\n",
    "\n",
    "- 메모리 사용이 적다"
   ]
  },
  {
   "cell_type": "code",
   "execution_count": 21,
   "id": "b1289a62-bc4a-4e2f-8793-c682b0ff61d7",
   "metadata": {},
   "outputs": [
    {
     "data": {
      "text/plain": [
       "(2291190380432, 2291191494992)"
      ]
     },
     "execution_count": 21,
     "metadata": {},
     "output_type": "execute_result"
    }
   ],
   "source": [
    "a = (1,)  \n",
    "b = (1,2,3)\n",
    "id(a), id(a + b) # 수정한 것이 아님"
   ]
  },
  {
   "cell_type": "markdown",
   "id": "4e4f2964-c4c1-4c9c-8637-c42cc017d601",
   "metadata": {},
   "source": [
    "7. 형 변환\n",
    "- tuple()\n",
    "- ()"
   ]
  },
  {
   "cell_type": "code",
   "execution_count": 22,
   "id": "41b408f9-6509-4901-8317-b8130edd2752",
   "metadata": {},
   "outputs": [
    {
     "data": {
      "text/plain": [
       "(('c', 'a', 't'), ['cat'])"
      ]
     },
     "execution_count": 22,
     "metadata": {},
     "output_type": "execute_result"
    }
   ],
   "source": [
    "tuple('cat'), ['cat']"
   ]
  },
  {
   "cell_type": "code",
   "execution_count": 23,
   "id": "a43f8c6f-2be8-4491-a0ed-575bc9ba5608",
   "metadata": {},
   "outputs": [
    {
     "data": {
      "text/plain": [
       "(['c', 'a', 't'], ['cat'])"
      ]
     },
     "execution_count": 23,
     "metadata": {},
     "output_type": "execute_result"
    }
   ],
   "source": [
    "list('cat'), ['cat']"
   ]
  },
  {
   "cell_type": "code",
   "execution_count": 24,
   "id": "f29d7d75-87ab-4719-89fd-eceac7e66942",
   "metadata": {},
   "outputs": [
    {
     "data": {
      "text/plain": [
       "1"
      ]
     },
     "execution_count": 24,
     "metadata": {},
     "output_type": "execute_result"
    }
   ],
   "source": [
    "b[0] # 인덱싱 가능"
   ]
  },
  {
   "cell_type": "markdown",
   "id": "2aed8671-a38d-4cc2-ba73-7bc6fd13a796",
   "metadata": {},
   "source": [
    "- 튜플의 장점: \n",
    "    - 타인이 변경하는 걸 막을 수 있다. **\n",
    "    - 메모리 사용 적다.\n",
    "    \n",
    "- 리스트 장점:\n",
    "    - 데이터 순차적으로 파악하기 좋다.\n",
    "    - 중복되는 데이터를 포함할 수 있다. "
   ]
  },
  {
   "cell_type": "markdown",
   "id": "66314e21-060a-4d08-8d0c-d284832d8fdb",
   "metadata": {},
   "source": [
    "### List 관련 함수"
   ]
  },
  {
   "cell_type": "markdown",
   "id": "9e6ca9f2-7081-453d-bb89-db458d22983b",
   "metadata": {},
   "source": [
    "1. 항목 변경하기"
   ]
  },
  {
   "cell_type": "code",
   "execution_count": 25,
   "id": "3d0b72f8-aa8b-4175-bfe4-f3b4b01a6722",
   "metadata": {},
   "outputs": [],
   "source": [
    "days = ['월', '화', '수', '목',]\n",
    "\n",
    "# 'fri' *추가*\n",
    "days.append('fri') # 마지막에 요소 추가, 할당 필요없음"
   ]
  },
  {
   "cell_type": "code",
   "execution_count": 26,
   "id": "db8eeb51-11cb-4fa4-8aa6-7d374bae3696",
   "metadata": {},
   "outputs": [
    {
     "data": {
      "text/plain": [
       "['월', '화', '수', '목', 'fri']"
      ]
     },
     "execution_count": 26,
     "metadata": {},
     "output_type": "execute_result"
    }
   ],
   "source": [
    "days"
   ]
  },
  {
   "cell_type": "code",
   "execution_count": 27,
   "id": "54a5a902-10d8-4f97-9bf5-25bfacfea832",
   "metadata": {},
   "outputs": [
    {
     "data": {
      "text/plain": [
       "['월', '화', 'sat', '수', '목', 'fri']"
      ]
     },
     "execution_count": 27,
     "metadata": {},
     "output_type": "execute_result"
    }
   ],
   "source": [
    "days.insert(2, 'sat')# offset 지정할 수 있음\n",
    "days"
   ]
  },
  {
   "cell_type": "code",
   "execution_count": 28,
   "id": "a9059496-76be-4d76-92c6-95a89c17f47b",
   "metadata": {},
   "outputs": [
    {
     "data": {
      "text/plain": [
       "['월', '화', 'sat', '수', '목', 'fri', '토', '일']"
      ]
     },
     "execution_count": 28,
     "metadata": {},
     "output_type": "execute_result"
    }
   ],
   "source": [
    "# 병합하기\n",
    "listA = ['토', '일']\n",
    "days.extend(listA)\n",
    "days"
   ]
  },
  {
   "cell_type": "code",
   "execution_count": 29,
   "id": "9a0d0877-d624-425f-9559-61c9337e58c5",
   "metadata": {},
   "outputs": [
    {
     "data": {
      "text/plain": [
       "['월', '화', 'sat', '수', '목', 'fri', '토', '일', ['토', '일']]"
      ]
     },
     "execution_count": 29,
     "metadata": {},
     "output_type": "execute_result"
    }
   ],
   "source": [
    "days.append(listA)\n",
    "days"
   ]
  },
  {
   "cell_type": "code",
   "execution_count": 30,
   "id": "e2705e6e-2112-4f31-bf51-9ad4a83c3012",
   "metadata": {},
   "outputs": [
    {
     "data": {
      "text/plain": [
       "['월', '화', 'sat', '수', '목', 'fri', '공휴일', '일', ['토', '일']]"
      ]
     },
     "execution_count": 30,
     "metadata": {},
     "output_type": "execute_result"
    }
   ],
   "source": [
    "# offset\n",
    "days[-3] = '공휴일'\n",
    "days"
   ]
  },
  {
   "cell_type": "code",
   "execution_count": 31,
   "id": "a0fa4147-531a-49cd-92e4-685f02999515",
   "metadata": {},
   "outputs": [
    {
     "data": {
      "text/plain": [
       "[1, 2, '수', '목', 'fri', '공휴일', '일', ['토', '일']]"
      ]
     },
     "execution_count": 31,
     "metadata": {},
     "output_type": "execute_result"
    }
   ],
   "source": [
    "days[:3] = 1, 2 # 개수 달라도 상관 없음\n",
    "days"
   ]
  },
  {
   "cell_type": "code",
   "execution_count": 32,
   "id": "d4294cce-75f8-4f3c-9752-55b9f555b902",
   "metadata": {},
   "outputs": [
    {
     "data": {
      "text/plain": [
       "['c', 'a', 't', '목', 'fri', '공휴일', '일', ['토', '일']]"
      ]
     },
     "execution_count": 32,
     "metadata": {},
     "output_type": "execute_result"
    }
   ],
   "source": [
    "days[:3] = 'cat' # 하나씩 순회해서 들어감\n",
    "days"
   ]
  },
  {
   "cell_type": "code",
   "execution_count": 33,
   "id": "b571301e-307a-4e4b-bb95-fc4b85306062",
   "metadata": {},
   "outputs": [
    {
     "data": {
      "text/plain": [
       "[1, 2, 3, 4, 5]"
      ]
     },
     "execution_count": 33,
     "metadata": {},
     "output_type": "execute_result"
    }
   ],
   "source": [
    "# a = 1,2,3,4,5\n",
    "a = list(range(1, 6)) # [1, 2, 3, 4, 5]\n",
    "a"
   ]
  },
  {
   "cell_type": "markdown",
   "id": "22fb789e-0b7a-4cc1-8c8b-bc71ebbdc703",
   "metadata": {
    "tags": []
   },
   "source": [
    "#### 삭제하기 "
   ]
  },
  {
   "cell_type": "code",
   "execution_count": 34,
   "id": "c9a120e0-7220-48ce-adcc-19f30bbac093",
   "metadata": {},
   "outputs": [
    {
     "data": {
      "text/plain": [
       "['a', 't', '목', 'fri', '공휴일', '일', ['토', '일']]"
      ]
     },
     "execution_count": 34,
     "metadata": {},
     "output_type": "execute_result"
    }
   ],
   "source": [
    "#1. offset\n",
    "del days[0] # 자리가 보존되지 않고 아이템이 하나씩 앞당겨짐\n",
    "days"
   ]
  },
  {
   "cell_type": "code",
   "execution_count": 35,
   "id": "d7325729-2284-4548-a3b4-c3cc8845ed1a",
   "metadata": {},
   "outputs": [
    {
     "data": {
      "text/plain": [
       "['t', '목', 'fri', '공휴일', '일', ['토', '일']]"
      ]
     },
     "execution_count": 35,
     "metadata": {},
     "output_type": "execute_result"
    }
   ],
   "source": [
    "#2. 특정한 값 삭제\n",
    "days.remove('a') # 0번째만 삭제\n",
    "days"
   ]
  },
  {
   "cell_type": "code",
   "execution_count": 36,
   "id": "577c7711-e470-40d7-82d2-e9ea3ee85f2f",
   "metadata": {},
   "outputs": [
    {
     "data": {
      "text/plain": [
       "'t'"
      ]
     },
     "execution_count": 36,
     "metadata": {},
     "output_type": "execute_result"
    }
   ],
   "source": [
    "#3. pop(index) default = -1 맨 마지막 요소 삭제\n",
    "days.pop(0) # 값만 반환"
   ]
  },
  {
   "cell_type": "code",
   "execution_count": 37,
   "id": "38978623-ccd9-4b56-be7c-1be4d4f4dcb6",
   "metadata": {},
   "outputs": [
    {
     "data": {
      "text/plain": [
       "['목', 'fri', '공휴일', '일', ['토', '일']]"
      ]
     },
     "execution_count": 37,
     "metadata": {},
     "output_type": "execute_result"
    }
   ],
   "source": [
    "days"
   ]
  },
  {
   "cell_type": "code",
   "execution_count": 38,
   "id": "3105f231-2e14-4c15-a173-52a955690aa2",
   "metadata": {},
   "outputs": [
    {
     "data": {
      "text/plain": [
       "[]"
      ]
     },
     "execution_count": 38,
     "metadata": {},
     "output_type": "execute_result"
    }
   ],
   "source": [
    "# 모든 값 삭제\n",
    "days.clear()\n",
    "days"
   ]
  },
  {
   "cell_type": "markdown",
   "id": "5a600122-fbb1-41be-8da9-9c9152794a25",
   "metadata": {},
   "source": [
    "#### 값 찾기"
   ]
  },
  {
   "cell_type": "code",
   "execution_count": 13,
   "id": "943cbbda-9a6d-4882-a186-f623142d2f39",
   "metadata": {},
   "outputs": [
    {
     "data": {
      "text/plain": [
       "2"
      ]
     },
     "execution_count": 13,
     "metadata": {},
     "output_type": "execute_result"
    }
   ],
   "source": [
    "a = list(range(5))\n",
    "a.index(2)"
   ]
  },
  {
   "cell_type": "code",
   "execution_count": 14,
   "id": "044e0ec2-a9f5-4d7d-add0-a476fd823d84",
   "metadata": {},
   "outputs": [
    {
     "data": {
      "text/plain": [
       "False"
      ]
     },
     "execution_count": 14,
     "metadata": {},
     "output_type": "execute_result"
    }
   ],
   "source": [
    "# 값 확인\n",
    "6 in a"
   ]
  },
  {
   "cell_type": "markdown",
   "id": "1aab5186-c048-4e2f-a610-c98499861721",
   "metadata": {},
   "source": [
    "#### 정렬하기\n",
    "- 리스트.sort(): 정렬한 뒤 값 반환하지 않고 기존 값 변경됨.\n",
    "- sorted(리스트, reverse): 정렬된 복사본을 반환. 기존 값 유지\n",
    "- 리스트.reverse()\n",
    "- list(reversed(리스트))"
   ]
  },
  {
   "cell_type": "code",
   "execution_count": 41,
   "id": "ba452582-32de-4c43-ac79-38ddd03acaef",
   "metadata": {},
   "outputs": [
    {
     "data": {
      "text/plain": [
       "([0, 1, 2, 3, 4], [4, 3, 2, 1, 0])"
      ]
     },
     "execution_count": 41,
     "metadata": {},
     "output_type": "execute_result"
    }
   ],
   "source": [
    "b = sorted(a, reverse = True)\n",
    "a , b"
   ]
  },
  {
   "cell_type": "code",
   "execution_count": 42,
   "id": "197e72aa-58ee-4706-9e58-27dd7ddc43d2",
   "metadata": {},
   "outputs": [
    {
     "data": {
      "text/plain": [
       "[0, 1, 2, 3, 4]"
      ]
     },
     "execution_count": 42,
     "metadata": {},
     "output_type": "execute_result"
    }
   ],
   "source": [
    "b.sort()\n",
    "b"
   ]
  },
  {
   "cell_type": "code",
   "execution_count": 43,
   "id": "25ece106-6602-4b1c-9db5-6faf32593846",
   "metadata": {},
   "outputs": [
    {
     "data": {
      "text/plain": [
       "[4, 3, 2, 1, 0]"
      ]
     },
     "execution_count": 43,
     "metadata": {},
     "output_type": "execute_result"
    }
   ],
   "source": [
    "b.reverse()\n",
    "b"
   ]
  },
  {
   "cell_type": "code",
   "execution_count": 44,
   "id": "3f1fd60e-e3e8-4af5-8a85-1e94772feef7",
   "metadata": {},
   "outputs": [
    {
     "data": {
      "text/plain": [
       "[0, 1, 2, 3, 4]"
      ]
     },
     "execution_count": 44,
     "metadata": {},
     "output_type": "execute_result"
    }
   ],
   "source": [
    "c = list(reversed(b))\n",
    "c"
   ]
  },
  {
   "cell_type": "markdown",
   "id": "a103e64c-d69a-4693-91b8-29d09c04b9bd",
   "metadata": {},
   "source": [
    "#### 할당하기\n",
    "- = 으로 할당할 때에는 하나가 변하면 같이 변함. 메모리 주소를 참조하고 있으므로 *\n",
    "- shallow copy\n",
    "    - a가 변해도 b가 변하지 않게 하는 복사\n",
    "    - 리스트.copy()\n",
    "- deep copy\n",
    "    - 하위에 중첩된 리스트 요소가 바뀌는 것을 방지"
   ]
  },
  {
   "cell_type": "code",
   "execution_count": 45,
   "id": "c15b3a2b-12cb-45c4-95e5-13590a8dfc66",
   "metadata": {},
   "outputs": [
    {
     "data": {
      "text/plain": [
       "[0, 1, 2, 3, 4]"
      ]
     },
     "execution_count": 45,
     "metadata": {},
     "output_type": "execute_result"
    }
   ],
   "source": [
    "a"
   ]
  },
  {
   "cell_type": "code",
   "execution_count": 46,
   "id": "c159fdad-c5d1-49e5-9168-5b3127346a47",
   "metadata": {},
   "outputs": [
    {
     "data": {
      "text/plain": [
       "[7, 1, 2, 3, 4]"
      ]
     },
     "execution_count": 46,
     "metadata": {},
     "output_type": "execute_result"
    }
   ],
   "source": [
    "b = a #[0, 1, 2, 3, 4]에 a,b가 메모리 주소를 참조함\n",
    "b[0] = 7\n",
    "b"
   ]
  },
  {
   "cell_type": "code",
   "execution_count": 47,
   "id": "3f220776-e0c1-4f2f-b87a-244ee423e945",
   "metadata": {},
   "outputs": [
    {
     "data": {
      "text/plain": [
       "[7, 1, 2, 3, 4]"
      ]
     },
     "execution_count": 47,
     "metadata": {},
     "output_type": "execute_result"
    }
   ],
   "source": [
    " a # a 값도 바뀜"
   ]
  },
  {
   "cell_type": "code",
   "execution_count": 48,
   "id": "095166d7-9c20-46e0-83e0-d6c0cdebc78c",
   "metadata": {},
   "outputs": [
    {
     "data": {
      "text/plain": [
       "(2291192897984, 2291192897984)"
      ]
     },
     "execution_count": 48,
     "metadata": {},
     "output_type": "execute_result"
    }
   ],
   "source": [
    "id(a), id(b)"
   ]
  },
  {
   "cell_type": "code",
   "execution_count": 55,
   "id": "70891d8f-b67e-4bfd-94ab-fe676b2c4c7d",
   "metadata": {},
   "outputs": [
    {
     "data": {
      "text/plain": [
       "(2291192897984, 2291127854976, 2291192923392, 2291192900288)"
      ]
     },
     "execution_count": 55,
     "metadata": {},
     "output_type": "execute_result"
    }
   ],
   "source": [
    "# shallow\n",
    "b = a. copy()\n",
    "c = list(a)\n",
    "d= a[:]\n",
    "id(a), id(b), id(c), id(d)"
   ]
  },
  {
   "cell_type": "code",
   "execution_count": 51,
   "id": "dbb7976e-6e2d-47e5-8c4e-b956ce5754f7",
   "metadata": {},
   "outputs": [
    {
     "data": {
      "text/plain": [
       "[7, 1, 2, 3, 4, [6, 7, 8]]"
      ]
     },
     "execution_count": 51,
     "metadata": {},
     "output_type": "execute_result"
    }
   ],
   "source": [
    "a.append([6, 7, 8])\n",
    "a"
   ]
  },
  {
   "cell_type": "code",
   "execution_count": 52,
   "id": "320ec7fe-2933-4f5c-b877-867760106478",
   "metadata": {},
   "outputs": [
    {
     "data": {
      "text/plain": [
       "[7, 1, 2, 3, 4, [6, 7, 8]]"
      ]
     },
     "execution_count": 52,
     "metadata": {},
     "output_type": "execute_result"
    }
   ],
   "source": [
    "e = a.copy()\n",
    "e"
   ]
  },
  {
   "cell_type": "code",
   "execution_count": 58,
   "id": "c53d3342-c330-482e-ae2e-db883e09f1e1",
   "metadata": {},
   "outputs": [
    {
     "data": {
      "text/plain": [
       "([7, 1, 2, 3, 4, [0, 7, 8]], [7, 1, 2, 3, 4, [0, 7, 8]])"
      ]
     },
     "execution_count": 58,
     "metadata": {},
     "output_type": "execute_result"
    }
   ],
   "source": [
    "a[-1][0] = 0\n",
    "a, e"
   ]
  },
  {
   "cell_type": "code",
   "execution_count": 59,
   "id": "a322b8d7-012e-4dcc-a3c9-4e736024698e",
   "metadata": {},
   "outputs": [
    {
     "data": {
      "text/plain": [
       "[7, 1, 2, 3, 4, [0, 7, 8]]"
      ]
     },
     "execution_count": 59,
     "metadata": {},
     "output_type": "execute_result"
    }
   ],
   "source": [
    "import copy\n",
    "f = copy.deepcopy(a)\n",
    "f"
   ]
  },
  {
   "cell_type": "code",
   "execution_count": 60,
   "id": "52ecad75-f58b-49a8-baa3-1bb1f4bcca3c",
   "metadata": {},
   "outputs": [
    {
     "data": {
      "text/plain": [
       "([7, 1, 2, 3, 4, [0, 7, 8]], [7, 1, 2, 3, 4, [0, 7, 9]])"
      ]
     },
     "execution_count": 60,
     "metadata": {},
     "output_type": "execute_result"
    }
   ],
   "source": [
    "f[-1][-1] = 9\n",
    "a, f"
   ]
  },
  {
   "cell_type": "markdown",
   "id": "820ecbd0-d800-42e9-928e-f8eb7280ffe1",
   "metadata": {},
   "source": [
    "### 순회하기\n",
    "- zip(): 여러 개 리스트 동시 순회\n",
    "- enumerate(): 인덱스도 함께 돌고자 할 때 (list, range)\n",
    "- range()"
   ]
  },
  {
   "cell_type": "code",
   "execution_count": 18,
   "id": "ab90ed6a-5b77-4282-aadb-7e73c1ff5903",
   "metadata": {},
   "outputs": [
    {
     "name": "stdout",
     "output_type": "stream",
     "text": [
      "(1, 'mon')\n",
      "(2, 'tue')\n",
      "(3, 'wed')\n"
     ]
    }
   ],
   "source": [
    "a = [1, 2, 3]\n",
    "b = ['mon', 'tue', 'wed', 'thu']\n",
    "\n",
    "for itemA, itemB in zip(a, b): # 아이템 수가 적은 시퀀스에서 완료됨: a에서 종료.\n",
    "    print((itemA, itemB))"
   ]
  },
  {
   "cell_type": "code",
   "execution_count": 19,
   "id": "7801b20f-4a09-461c-89c5-965438108586",
   "metadata": {},
   "outputs": [
    {
     "data": {
      "text/plain": [
       "[(1, 'mon'), (2, 'tue'), (3, 'wed')]"
      ]
     },
     "execution_count": 19,
     "metadata": {},
     "output_type": "execute_result"
    }
   ],
   "source": [
    "list(zip(a, b))"
   ]
  },
  {
   "cell_type": "code",
   "execution_count": 20,
   "id": "1cf886fc-b4c1-44b3-b2c7-b25ef59579a8",
   "metadata": {},
   "outputs": [
    {
     "data": {
      "text/plain": [
       "{1: 'mon', 2: 'tue', 3: 'wed'}"
      ]
     },
     "execution_count": 20,
     "metadata": {},
     "output_type": "execute_result"
    }
   ],
   "source": [
    "dict(zip(a, b)) #dictionary"
   ]
  },
  {
   "cell_type": "code",
   "execution_count": 21,
   "id": "468f8981-6ff9-4143-8bb2-39d33d668bd6",
   "metadata": {},
   "outputs": [
    {
     "name": "stdout",
     "output_type": "stream",
     "text": [
      "(0, 'mon')\n",
      "(1, 'tue')\n",
      "(2, 'wed')\n",
      "(3, 'thu')\n"
     ]
    }
   ],
   "source": [
    "for idx, itemA in enumerate(b):\n",
    "    print((idx, itemA))"
   ]
  },
  {
   "cell_type": "markdown",
   "id": "bd817120-6cdc-4bb4-bb8b-1c600fb833c2",
   "metadata": {},
   "source": [
    "### 리스트 컴프리헨션"
   ]
  },
  {
   "cell_type": "code",
   "execution_count": 22,
   "id": "cb58d78a-98fb-4ce6-9be8-a1d5639f7dd9",
   "metadata": {},
   "outputs": [
    {
     "data": {
      "text/plain": [
       "[(1, 'mon'), (2, 'tue'), (3, 'wed')]"
      ]
     },
     "execution_count": 22,
     "metadata": {},
     "output_type": "execute_result"
    }
   ],
   "source": [
    "ex = [(nal, day) for nal, day in zip(a, b)]\n",
    "ex"
   ]
  },
  {
   "cell_type": "markdown",
   "id": "1f80c923-d140-44d9-ae0d-e6cbbb6ec821",
   "metadata": {},
   "source": [
    "#### 연습\n",
    "- 리스트 -> for 문으로\n",
    "\n",
    "for문을 사용하여 ex를 구현하기 (다시 풀어보기)"
   ]
  },
  {
   "cell_type": "code",
   "execution_count": 66,
   "id": "82ce33e8-575c-496d-bcb8-e19ec211abb0",
   "metadata": {
    "tags": []
   },
   "outputs": [
    {
     "data": {
      "text/plain": [
       "[(1, 'mon'), (2, 'tue'), (3, 'wed')]"
      ]
     },
     "execution_count": 66,
     "metadata": {},
     "output_type": "execute_result"
    }
   ],
   "source": [
    "result = []\n",
    "for nal, day in zip(a, b):\n",
    "    result.append((nal,day))\n",
    "    \n",
    "result"
   ]
  },
  {
   "cell_type": "code",
   "execution_count": 67,
   "id": "f9608a9d-ccda-43b1-a820-b2142e29d273",
   "metadata": {
    "tags": []
   },
   "outputs": [
    {
     "data": {
      "text/plain": [
       "[(1, 'mon'),\n",
       " (1, 'tue'),\n",
       " (1, 'wed'),\n",
       " (1, 'thu'),\n",
       " (2, 'mon'),\n",
       " (2, 'tue'),\n",
       " (2, 'wed'),\n",
       " (2, 'thu'),\n",
       " (3, 'mon'),\n",
       " (3, 'tue'),\n",
       " (3, 'wed'),\n",
       " (3, 'thu')]"
      ]
     },
     "execution_count": 67,
     "metadata": {},
     "output_type": "execute_result"
    }
   ],
   "source": [
    "# for day in b\n",
    "    # for nal in a\n",
    "[(nal,day) for nal in a for day in b]"
   ]
  },
  {
   "cell_type": "code",
   "execution_count": 69,
   "id": "08f8cab9-f896-46b8-935a-b495c61afbc0",
   "metadata": {},
   "outputs": [],
   "source": [
    "sentence = \"don't judge a book by its cover\"\n",
    "# (대문자, 타이틀 ,글자수)로 저장된 리스트로 만들어라. # 얘도 다시 풀어보기 ..."
   ]
  },
  {
   "cell_type": "code",
   "execution_count": 70,
   "id": "2f01727a-36ba-4f15-b2a7-e1f52a3777b7",
   "metadata": {
    "tags": []
   },
   "outputs": [
    {
     "data": {
      "text/plain": [
       "[(\"DON'T\", \"Don'T\", 5),\n",
       " ('JUDGE', 'Judge', 5),\n",
       " ('A', 'A', 1),\n",
       " ('BOOK', 'Book', 4),\n",
       " ('BY', 'By', 2),\n",
       " ('ITS', 'Its', 3),\n",
       " ('COVER', 'Cover', 5)]"
      ]
     },
     "execution_count": 70,
     "metadata": {},
     "output_type": "execute_result"
    }
   ],
   "source": [
    "[(word.upper(), word.title(), len(word)) for word in sentence.split()]\n"
   ]
  },
  {
   "cell_type": "code",
   "execution_count": 16,
   "id": "24f655f8-47b7-4b25-b37c-d76e717f85d8",
   "metadata": {},
   "outputs": [],
   "source": [
    "# 리스트컴프리헨션 사용\n",
    "text = [['good', 'night'],\n",
    "       ['sweet', 'dreams', '!!']]\n"
   ]
  },
  {
   "cell_type": "code",
   "execution_count": 17,
   "id": "f853767d-fe90-480a-81ec-458dceeb3dfc",
   "metadata": {},
   "outputs": [],
   "source": [
    "#1. 문장으로 구성된 리스트로 만들기"
   ]
  },
  {
   "cell_type": "code",
   "execution_count": 18,
   "id": "b6b153b4-7f6e-4ed5-90b1-29fe8326fe61",
   "metadata": {},
   "outputs": [
    {
     "data": {
      "text/plain": [
       "['good night', 'sweet dreams !!']"
      ]
     },
     "execution_count": 18,
     "metadata": {},
     "output_type": "execute_result"
    }
   ],
   "source": [
    "[' '.join(sent) for sent in text]"
   ]
  },
  {
   "cell_type": "code",
   "execution_count": 19,
   "id": "7f5f4820-0b6f-49ff-a312-f986dd472f1d",
   "metadata": {},
   "outputs": [],
   "source": [
    "#2. 전체 단어를 하나의 리스트로 가져오기"
   ]
  },
  {
   "cell_type": "code",
   "execution_count": 20,
   "id": "f65eb0b5-45f7-4fa0-8d63-90077bc37e73",
   "metadata": {
    "tags": []
   },
   "outputs": [
    {
     "data": {
      "text/plain": [
       "['good', 'night', 'sweet', 'dreams', '!!']"
      ]
     },
     "execution_count": 20,
     "metadata": {},
     "output_type": "execute_result"
    }
   ],
   "source": [
    "[word for sent in text for word in sent]"
   ]
  },
  {
   "cell_type": "code",
   "execution_count": 21,
   "id": "cb6bb854-dfd8-4cc3-989a-742174ae07cf",
   "metadata": {},
   "outputs": [],
   "source": [
    "# 3. 전체를 스트링으로 가져오기"
   ]
  },
  {
   "cell_type": "code",
   "execution_count": 22,
   "id": "86444427-ee50-4fa1-bc5d-dbee05582119",
   "metadata": {},
   "outputs": [
    {
     "data": {
      "text/plain": [
       "'good night sweet dreams !!'"
      ]
     },
     "execution_count": 22,
     "metadata": {},
     "output_type": "execute_result"
    }
   ],
   "source": [
    "whole = [word for sent in text for word in sent]\n",
    "' '.join(whole)"
   ]
  },
  {
   "cell_type": "markdown",
   "id": "fac75c1f-7422-4ff2-b9cd-9fb4920d7c41",
   "metadata": {
    "tags": []
   },
   "source": [
    "### 브라운코퍼스에서 romance 장르 raw 앞에서 5000개 선택\n",
    "- 문장 분절 있는 토큰 리스트로 만들기\n",
    "- 리스트 컴프리헨션, for문 사용해서 불필요한 것들 제거하기\n",
    "    - 문장부호 모두 제거 "
   ]
  },
  {
   "cell_type": "code",
   "execution_count": 15,
   "id": "dbb66719-65d0-4e51-a321-953da785a45f",
   "metadata": {},
   "outputs": [],
   "source": [
    "#1. strip()으로 공백 제거\n",
    "#2. split('\\n')으로 문장 분리\n",
    "#3. 0번 오프셋 -> 리스트 컴프리헨션에서 isalnum()써서 문장부호 거르기 ... "
   ]
  }
 ],
 "metadata": {
  "kernelspec": {
   "display_name": "Python 3 (ipykernel)",
   "language": "python",
   "name": "python3"
  },
  "language_info": {
   "codemirror_mode": {
    "name": "ipython",
    "version": 3
   },
   "file_extension": ".py",
   "mimetype": "text/x-python",
   "name": "python",
   "nbconvert_exporter": "python",
   "pygments_lexer": "ipython3",
   "version": "3.9.7"
  }
 },
 "nbformat": 4,
 "nbformat_minor": 5
}
